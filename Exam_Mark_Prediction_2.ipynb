{
 "cells": [
  {
   "cell_type": "code",
   "execution_count": 1,
   "metadata": {
    "colab": {
     "base_uri": "https://localhost:8080/"
    },
    "id": "TZwHJBTACW2n",
    "outputId": "db23ac96-3f4a-41a7-a053-33721e85005d"
   },
   "outputs": [],
   "source": [
    "import pandas as pd\n",
    "import numpy as np\n",
    "import matplotlib.pyplot as plt\n",
    "import seaborn as sns\n",
    "import statsmodels.api as sm"
   ]
  },
  {
   "cell_type": "code",
   "execution_count": 2,
   "metadata": {
    "id": "xQQfix7iCW2p"
   },
   "outputs": [],
   "source": [
    "from statsmodels.stats.outliers_influence import variance_inflation_factor"
   ]
  },
  {
   "cell_type": "code",
   "execution_count": 3,
   "metadata": {
    "id": "rVVFR3S1CW2q"
   },
   "outputs": [],
   "source": [
    "from sklearn import preprocessing, svm \n",
    "from sklearn.model_selection import train_test_split \n",
    "from sklearn.linear_model import LinearRegression"
   ]
  },
  {
   "cell_type": "code",
   "execution_count": 4,
   "metadata": {
    "id": "g7EoDMKQCW2q"
   },
   "outputs": [],
   "source": [
    "from sklearn.metrics import mean_squared_error as mse\n",
    "from math import sqrt as r"
   ]
  },
  {
   "cell_type": "code",
   "execution_count": 5,
   "metadata": {
    "id": "h-l3yEKDCW2r"
   },
   "outputs": [],
   "source": [
    "from scipy import stats "
   ]
  },
  {
   "cell_type": "code",
   "execution_count": 6,
   "metadata": {
    "id": "SZo1GAepCW2r"
   },
   "outputs": [],
   "source": [
    "train = pd.read_csv('train.csv')\n",
    "test = pd.read_csv('test.csv')"
   ]
  },
  {
   "cell_type": "code",
   "execution_count": 7,
   "metadata": {
    "colab": {
     "base_uri": "https://localhost:8080/",
     "height": 195
    },
    "id": "NKPK-cicCW2r",
    "outputId": "bf91a46d-b75f-472f-c4a6-1d6ebf938988"
   },
   "outputs": [
    {
     "data": {
      "text/html": [
       "<div>\n",
       "<style scoped>\n",
       "    .dataframe tbody tr th:only-of-type {\n",
       "        vertical-align: middle;\n",
       "    }\n",
       "\n",
       "    .dataframe tbody tr th {\n",
       "        vertical-align: top;\n",
       "    }\n",
       "\n",
       "    .dataframe thead th {\n",
       "        text-align: right;\n",
       "    }\n",
       "</style>\n",
       "<table border=\"1\" class=\"dataframe\">\n",
       "  <thead>\n",
       "    <tr style=\"text-align: right;\">\n",
       "      <th></th>\n",
       "      <th>Unnamed: 0</th>\n",
       "      <th>gender</th>\n",
       "      <th>ethnicity</th>\n",
       "      <th>parental level of education</th>\n",
       "      <th>lunch</th>\n",
       "      <th>test preparation course</th>\n",
       "      <th>reading score</th>\n",
       "      <th>writing score</th>\n",
       "      <th>math score</th>\n",
       "    </tr>\n",
       "  </thead>\n",
       "  <tbody>\n",
       "    <tr>\n",
       "      <th>0</th>\n",
       "      <td>0</td>\n",
       "      <td>male</td>\n",
       "      <td>group C</td>\n",
       "      <td>some college</td>\n",
       "      <td>standard</td>\n",
       "      <td>none</td>\n",
       "      <td>61</td>\n",
       "      <td>62</td>\n",
       "      <td>61</td>\n",
       "    </tr>\n",
       "    <tr>\n",
       "      <th>1</th>\n",
       "      <td>1</td>\n",
       "      <td>female</td>\n",
       "      <td>group C</td>\n",
       "      <td>associate's degree</td>\n",
       "      <td>standard</td>\n",
       "      <td>none</td>\n",
       "      <td>62</td>\n",
       "      <td>53</td>\n",
       "      <td>53</td>\n",
       "    </tr>\n",
       "    <tr>\n",
       "      <th>2</th>\n",
       "      <td>2</td>\n",
       "      <td>female</td>\n",
       "      <td>group C</td>\n",
       "      <td>some college</td>\n",
       "      <td>free/reduced</td>\n",
       "      <td>completed</td>\n",
       "      <td>75</td>\n",
       "      <td>70</td>\n",
       "      <td>67</td>\n",
       "    </tr>\n",
       "    <tr>\n",
       "      <th>3</th>\n",
       "      <td>3</td>\n",
       "      <td>male</td>\n",
       "      <td>group C</td>\n",
       "      <td>some high school</td>\n",
       "      <td>free/reduced</td>\n",
       "      <td>none</td>\n",
       "      <td>76</td>\n",
       "      <td>65</td>\n",
       "      <td>79</td>\n",
       "    </tr>\n",
       "    <tr>\n",
       "      <th>4</th>\n",
       "      <td>4</td>\n",
       "      <td>male</td>\n",
       "      <td>group A</td>\n",
       "      <td>high school</td>\n",
       "      <td>free/reduced</td>\n",
       "      <td>none</td>\n",
       "      <td>58</td>\n",
       "      <td>44</td>\n",
       "      <td>53</td>\n",
       "    </tr>\n",
       "  </tbody>\n",
       "</table>\n",
       "</div>"
      ],
      "text/plain": [
       "   Unnamed: 0  gender ethnicity parental level of education         lunch  \\\n",
       "0           0    male   group C                some college      standard   \n",
       "1           1  female   group C          associate's degree      standard   \n",
       "2           2  female   group C                some college  free/reduced   \n",
       "3           3    male   group C            some high school  free/reduced   \n",
       "4           4    male   group A                 high school  free/reduced   \n",
       "\n",
       "  test preparation course  reading score  writing score  math score  \n",
       "0                    none             61             62          61  \n",
       "1                    none             62             53          53  \n",
       "2               completed             75             70          67  \n",
       "3                    none             76             65          79  \n",
       "4                    none             58             44          53  "
      ]
     },
     "execution_count": 7,
     "metadata": {},
     "output_type": "execute_result"
    }
   ],
   "source": [
    "train.head()"
   ]
  },
  {
   "cell_type": "code",
   "execution_count": 8,
   "metadata": {},
   "outputs": [
    {
     "data": {
      "text/plain": [
       "Unnamed: 0       0.000000\n",
       "reading score   -0.228772\n",
       "writing score   -0.252597\n",
       "math score      -0.240293\n",
       "dtype: float64"
      ]
     },
     "execution_count": 8,
     "metadata": {},
     "output_type": "execute_result"
    }
   ],
   "source": [
    "train.skew()"
   ]
  },
  {
   "cell_type": "code",
   "execution_count": 9,
   "metadata": {},
   "outputs": [
    {
     "data": {
      "text/plain": [
       "Unnamed: 0       0.000000\n",
       "reading score   -0.340062\n",
       "writing score   -0.385856\n",
       "dtype: float64"
      ]
     },
     "execution_count": 9,
     "metadata": {},
     "output_type": "execute_result"
    }
   ],
   "source": [
    "test.skew()"
   ]
  },
  {
   "cell_type": "code",
   "execution_count": 10,
   "metadata": {
    "id": "rIaSsNhtCW2s"
   },
   "outputs": [],
   "source": [
    "train['gender_lunch'] = train['gender'] + train['lunch']\n",
    "train['eth_lunch'] = train['lunch'] + train['ethnicity']"
   ]
  },
  {
   "cell_type": "code",
   "execution_count": 11,
   "metadata": {
    "id": "D85ASh0SCW2s"
   },
   "outputs": [],
   "source": [
    "test['gender_lunch'] = test['gender'] + test['lunch']\n",
    "test['eth_lunch'] = test['lunch'] + test['ethnicity']"
   ]
  },
  {
   "cell_type": "code",
   "execution_count": 12,
   "metadata": {
    "id": "ZyjYlQLPCW2s"
   },
   "outputs": [],
   "source": [
    "train['gen_test'] = train['gender']+train['test preparation course']"
   ]
  },
  {
   "cell_type": "code",
   "execution_count": 13,
   "metadata": {
    "id": "kF0PAIHDCW2t"
   },
   "outputs": [],
   "source": [
    "test['gen_test'] = test['gender']+test['test preparation course']"
   ]
  },
  {
   "cell_type": "code",
   "execution_count": 14,
   "metadata": {
    "id": "0Wu4k8THCW2t"
   },
   "outputs": [],
   "source": [
    "train['geneth'] = train['gender']+train['ethnicity']\n",
    "train['genp'] = train['gender'] + train['parental level of education']\n",
    "train['testeth'] = train['ethnicity'] + train['test preparation course']\n",
    "train['ethp'] = train['parental level of education'] + train['ethnicity']\n",
    "train['lunchp'] = train['parental level of education'] + train['lunch']\n",
    "train['testp'] = train['parental level of education'] + train['test preparation course']"
   ]
  },
  {
   "cell_type": "code",
   "execution_count": 15,
   "metadata": {
    "id": "Og2sY5z6CW2u"
   },
   "outputs": [],
   "source": [
    "test['geneth'] = test['gender']+test['ethnicity']\n",
    "test['genp'] = test['gender'] + test['parental level of education']\n",
    "test['testeth'] = test['ethnicity'] + test['test preparation course']\n",
    "test['ethp'] = test['parental level of education'] + test['ethnicity']\n",
    "test['lunchp'] = test['parental level of education'] + test['lunch']\n",
    "test['testp'] = test['parental level of education'] + test['test preparation course']"
   ]
  },
  {
   "cell_type": "code",
   "execution_count": 16,
   "metadata": {
    "id": "sU-j4vxoCW2u"
   },
   "outputs": [],
   "source": [
    "w_r = train[['reading score','writing score']]\n",
    "from sklearn.preprocessing import PolynomialFeatures\n",
    "pf = PolynomialFeatures(degree=2, interaction_only=False,  \n",
    "                        include_bias=False)\n",
    "res = pf.fit_transform(w_r)"
   ]
  },
  {
   "cell_type": "code",
   "execution_count": 17,
   "metadata": {
    "colab": {
     "base_uri": "https://localhost:8080/",
     "height": 195
    },
    "id": "ye2PKfe6CW2u",
    "outputId": "8dc8704b-d531-4cd9-f9b6-e2cc408902f6"
   },
   "outputs": [
    {
     "data": {
      "text/html": [
       "<div>\n",
       "<style scoped>\n",
       "    .dataframe tbody tr th:only-of-type {\n",
       "        vertical-align: middle;\n",
       "    }\n",
       "\n",
       "    .dataframe tbody tr th {\n",
       "        vertical-align: top;\n",
       "    }\n",
       "\n",
       "    .dataframe thead th {\n",
       "        text-align: right;\n",
       "    }\n",
       "</style>\n",
       "<table border=\"1\" class=\"dataframe\">\n",
       "  <thead>\n",
       "    <tr style=\"text-align: right;\">\n",
       "      <th></th>\n",
       "      <th>reading score</th>\n",
       "      <th>writing score</th>\n",
       "    </tr>\n",
       "  </thead>\n",
       "  <tbody>\n",
       "    <tr>\n",
       "      <th>0</th>\n",
       "      <td>1</td>\n",
       "      <td>0</td>\n",
       "    </tr>\n",
       "    <tr>\n",
       "      <th>1</th>\n",
       "      <td>0</td>\n",
       "      <td>1</td>\n",
       "    </tr>\n",
       "    <tr>\n",
       "      <th>2</th>\n",
       "      <td>2</td>\n",
       "      <td>0</td>\n",
       "    </tr>\n",
       "    <tr>\n",
       "      <th>3</th>\n",
       "      <td>1</td>\n",
       "      <td>1</td>\n",
       "    </tr>\n",
       "    <tr>\n",
       "      <th>4</th>\n",
       "      <td>0</td>\n",
       "      <td>2</td>\n",
       "    </tr>\n",
       "  </tbody>\n",
       "</table>\n",
       "</div>"
      ],
      "text/plain": [
       "   reading score  writing score\n",
       "0              1              0\n",
       "1              0              1\n",
       "2              2              0\n",
       "3              1              1\n",
       "4              0              2"
      ]
     },
     "execution_count": 17,
     "metadata": {},
     "output_type": "execute_result"
    }
   ],
   "source": [
    "pd.DataFrame(pf.powers_, columns=['reading score',  \n",
    "                                  'writing score'])"
   ]
  },
  {
   "cell_type": "code",
   "execution_count": 18,
   "metadata": {
    "colab": {
     "base_uri": "https://localhost:8080/",
     "height": 195
    },
    "id": "Dt4KvWk1CW2v",
    "outputId": "7adf52fc-f141-4afb-c1fc-4da81d8fb01d"
   },
   "outputs": [
    {
     "data": {
      "text/html": [
       "<div>\n",
       "<style scoped>\n",
       "    .dataframe tbody tr th:only-of-type {\n",
       "        vertical-align: middle;\n",
       "    }\n",
       "\n",
       "    .dataframe tbody tr th {\n",
       "        vertical-align: top;\n",
       "    }\n",
       "\n",
       "    .dataframe thead th {\n",
       "        text-align: right;\n",
       "    }\n",
       "</style>\n",
       "<table border=\"1\" class=\"dataframe\">\n",
       "  <thead>\n",
       "    <tr style=\"text-align: right;\">\n",
       "      <th></th>\n",
       "      <th>reading score</th>\n",
       "      <th>writing score</th>\n",
       "      <th>reading score ^2</th>\n",
       "      <th>reading score x writing score</th>\n",
       "      <th>writing score ^2</th>\n",
       "    </tr>\n",
       "  </thead>\n",
       "  <tbody>\n",
       "    <tr>\n",
       "      <th>0</th>\n",
       "      <td>61.0</td>\n",
       "      <td>62.0</td>\n",
       "      <td>3721.0</td>\n",
       "      <td>3782.0</td>\n",
       "      <td>3844.0</td>\n",
       "    </tr>\n",
       "    <tr>\n",
       "      <th>1</th>\n",
       "      <td>62.0</td>\n",
       "      <td>53.0</td>\n",
       "      <td>3844.0</td>\n",
       "      <td>3286.0</td>\n",
       "      <td>2809.0</td>\n",
       "    </tr>\n",
       "    <tr>\n",
       "      <th>2</th>\n",
       "      <td>75.0</td>\n",
       "      <td>70.0</td>\n",
       "      <td>5625.0</td>\n",
       "      <td>5250.0</td>\n",
       "      <td>4900.0</td>\n",
       "    </tr>\n",
       "    <tr>\n",
       "      <th>3</th>\n",
       "      <td>76.0</td>\n",
       "      <td>65.0</td>\n",
       "      <td>5776.0</td>\n",
       "      <td>4940.0</td>\n",
       "      <td>4225.0</td>\n",
       "    </tr>\n",
       "    <tr>\n",
       "      <th>4</th>\n",
       "      <td>58.0</td>\n",
       "      <td>44.0</td>\n",
       "      <td>3364.0</td>\n",
       "      <td>2552.0</td>\n",
       "      <td>1936.0</td>\n",
       "    </tr>\n",
       "  </tbody>\n",
       "</table>\n",
       "</div>"
      ],
      "text/plain": [
       "   reading score  writing score  reading score ^2  \\\n",
       "0           61.0           62.0            3721.0   \n",
       "1           62.0           53.0            3844.0   \n",
       "2           75.0           70.0            5625.0   \n",
       "3           76.0           65.0            5776.0   \n",
       "4           58.0           44.0            3364.0   \n",
       "\n",
       "   reading score x writing score  writing score ^2  \n",
       "0                         3782.0            3844.0  \n",
       "1                         3286.0            2809.0  \n",
       "2                         5250.0            4900.0  \n",
       "3                         4940.0            4225.0  \n",
       "4                         2552.0            1936.0  "
      ]
     },
     "execution_count": 18,
     "metadata": {},
     "output_type": "execute_result"
    }
   ],
   "source": [
    "intr_features = pd.DataFrame(res, columns=['reading score', 'writing score',  \n",
    "                                           'reading score ^2', \n",
    "                                           'reading score x writing score',  \n",
    "                                           'writing score ^2'])\n",
    "intr_features.head(5)"
   ]
  },
  {
   "cell_type": "code",
   "execution_count": 19,
   "metadata": {
    "id": "HntWAYw4CW2v"
   },
   "outputs": [],
   "source": [
    "train['reading score ^2'] = train['reading score'] * train['reading score']\n",
    "train['writing score ^2'] = train['writing score'] * train['writing score']\n",
    "train['reading score x writing score'] = train['reading score']*train['writing score']\n",
    "train['reading score ^3'] = train['reading score'] * train['reading score']* train['reading score']\n",
    "train['writing score ^3'] = train['writing score'] * train['writing score']* train['reading score']"
   ]
  },
  {
   "cell_type": "code",
   "execution_count": 20,
   "metadata": {
    "id": "SqkAnz1TCW2v"
   },
   "outputs": [],
   "source": [
    "train['zread'] = stats.zscore(train['reading score'])\n",
    "train['zwrite'] = stats.zscore(train['writing score'])"
   ]
  },
  {
   "cell_type": "code",
   "execution_count": 21,
   "metadata": {
    "id": "jESIPoIVCW2v"
   },
   "outputs": [],
   "source": [
    "test['zread'] = stats.zscore(test['reading score'])\n",
    "test['zwrite'] = stats.zscore(test['writing score'])"
   ]
  },
  {
   "cell_type": "code",
   "execution_count": 22,
   "metadata": {
    "id": "NYFCTBRYCW2w"
   },
   "outputs": [],
   "source": [
    "#IQ = (zscore*15)+100\n",
    "#Source:https://pumpkinperson.com/2016/11/21/simple-formula-for-converting-1970-to-1994-sat-into-iq-equivalents/\n",
    "train['readiq'] = (train['zread']*15)+100\n",
    "train['writeiq'] = (train['zwrite']*15)+100"
   ]
  },
  {
   "cell_type": "code",
   "execution_count": 23,
   "metadata": {
    "id": "748yy0j0CW2w"
   },
   "outputs": [],
   "source": [
    "test['readiq'] = (test['zread']*15)+100\n",
    "test['writeiq'] = (test['zwrite']*15)+100"
   ]
  },
  {
   "cell_type": "code",
   "execution_count": 24,
   "metadata": {
    "id": "yGxVEIlTCW2w"
   },
   "outputs": [],
   "source": [
    "train['avg'] = (train['reading score']+train['writing score'])/2"
   ]
  },
  {
   "cell_type": "code",
   "execution_count": 25,
   "metadata": {
    "id": "TBg1spaTCW2w"
   },
   "outputs": [],
   "source": [
    "train['zavg'] = stats.zscore(train['avg'])\n",
    "train['avgiq'] = (train['zavg']*15)+100"
   ]
  },
  {
   "cell_type": "code",
   "execution_count": 26,
   "metadata": {
    "id": "9VipzsDFCW2w"
   },
   "outputs": [],
   "source": [
    "#iq = attained score/expected mean score for age\n",
    "#iq = mental age/chronological age\n",
    "train['readexpmean'] = train['reading score']/train['readiq']"
   ]
  },
  {
   "cell_type": "code",
   "execution_count": 27,
   "metadata": {
    "colab": {
     "base_uri": "https://localhost:8080/"
    },
    "id": "abD3GJsMCW2x",
    "outputId": "6d3188cd-7bb3-4f03-b240-2fddad11d1bf"
   },
   "outputs": [
    {
     "data": {
      "text/plain": [
       "0      0.670308\n",
       "1      0.673686\n",
       "2      0.711603\n",
       "3      0.714125\n",
       "4      0.659700\n",
       "         ...   \n",
       "695    0.726039\n",
       "696    0.736903\n",
       "697    0.666853\n",
       "698    0.716599\n",
       "699    0.706408\n",
       "Name: readexpmean, Length: 700, dtype: float64"
      ]
     },
     "execution_count": 27,
     "metadata": {},
     "output_type": "execute_result"
    }
   ],
   "source": [
    "train['readexpmean']"
   ]
  },
  {
   "cell_type": "code",
   "execution_count": 28,
   "metadata": {
    "id": "LSCIik5LCW2x"
   },
   "outputs": [],
   "source": [
    "train['writeexpmean'] = train['writing score']/train['writeiq']"
   ]
  },
  {
   "cell_type": "code",
   "execution_count": 29,
   "metadata": {
    "colab": {
     "base_uri": "https://localhost:8080/"
    },
    "id": "9sPCYdl7CW2x",
    "outputId": "6d53092b-c59d-4bf9-aa56-30a95ffb4e15"
   },
   "outputs": [
    {
     "data": {
      "text/plain": [
       "0      0.662436\n",
       "1      0.625589\n",
       "2      0.689779\n",
       "3      0.673213\n",
       "4      0.580119\n",
       "         ...   \n",
       "695    0.715868\n",
       "696    0.723656\n",
       "697    0.666103\n",
       "698    0.701916\n",
       "699    0.683350\n",
       "Name: writeexpmean, Length: 700, dtype: float64"
      ]
     },
     "execution_count": 29,
     "metadata": {},
     "output_type": "execute_result"
    }
   ],
   "source": [
    "train['writeexpmean']"
   ]
  },
  {
   "cell_type": "code",
   "execution_count": 30,
   "metadata": {
    "id": "FVxliV54CW2y"
   },
   "outputs": [],
   "source": [
    "train['avgexpmean'] = (train['writeexpmean']+train['readexpmean'])/2"
   ]
  },
  {
   "cell_type": "code",
   "execution_count": 31,
   "metadata": {
    "id": "AASx62ruCW2y"
   },
   "outputs": [],
   "source": [
    "test['satread'] = (test['zread']*100)+500"
   ]
  },
  {
   "cell_type": "code",
   "execution_count": 32,
   "metadata": {
    "id": "v84wskgFCW2y"
   },
   "outputs": [],
   "source": [
    "train['satread'] = (train['zread']*100)+500"
   ]
  },
  {
   "cell_type": "code",
   "execution_count": 33,
   "metadata": {
    "colab": {
     "base_uri": "https://localhost:8080/"
    },
    "id": "uEkqzUUaCW2y",
    "outputId": "955baf27-f750-41ef-9a14-bc1317d0537d"
   },
   "outputs": [
    {
     "data": {
      "text/plain": [
       "179.57502106016102"
      ]
     },
     "execution_count": 33,
     "metadata": {},
     "output_type": "execute_result"
    }
   ],
   "source": [
    "train['satread'].min()"
   ]
  },
  {
   "cell_type": "code",
   "execution_count": 34,
   "metadata": {
    "colab": {
     "base_uri": "https://localhost:8080/"
    },
    "id": "YyyV6XFKCW2y",
    "outputId": "d53e6024-18ee-4a68-9ab8-f78a91f429cd"
   },
   "outputs": [
    {
     "data": {
      "text/plain": [
       "707.3176833121112"
      ]
     },
     "execution_count": 34,
     "metadata": {},
     "output_type": "execute_result"
    }
   ],
   "source": [
    "train['satread'].max()"
   ]
  },
  {
   "cell_type": "code",
   "execution_count": 35,
   "metadata": {
    "colab": {
     "base_uri": "https://localhost:8080/"
    },
    "id": "il7qA1OLCW2z",
    "outputId": "0838d007-e478-47f8-d68d-ad3481b6cc2f"
   },
   "outputs": [
    {
     "data": {
      "text/plain": [
       "149.77818632629834"
      ]
     },
     "execution_count": 35,
     "metadata": {},
     "output_type": "execute_result"
    }
   ],
   "source": [
    "test['satread'].min()"
   ]
  },
  {
   "cell_type": "code",
   "execution_count": 36,
   "metadata": {
    "colab": {
     "base_uri": "https://localhost:8080/"
    },
    "id": "YaOWr1E9CW2z",
    "outputId": "5b4bf6d2-8c60-4c64-e7dc-3aefa8c29313"
   },
   "outputs": [
    {
     "data": {
      "text/plain": [
       "721.878373984579"
      ]
     },
     "execution_count": 36,
     "metadata": {},
     "output_type": "execute_result"
    }
   ],
   "source": [
    "test['satread'].max()"
   ]
  },
  {
   "cell_type": "code",
   "execution_count": 37,
   "metadata": {
    "id": "gdcIHZAmCW2z"
   },
   "outputs": [],
   "source": [
    "rsat_bin = pd.IntervalIndex.from_tuples([(148,200),(200,250),(250, 300), (300, 350), (350,400), (400, 450), (450,500),(500,550),(550,600),(600,650),(650,700),(700,750)])\n",
    "train['satread_bins'] = pd.cut(train['satread'], bins= rsat_bin)"
   ]
  },
  {
   "cell_type": "code",
   "execution_count": 38,
   "metadata": {
    "id": "x_zpDEjPCW2z"
   },
   "outputs": [],
   "source": [
    "test['satread_bins'] = pd.cut(test['satread'], bins= rsat_bin)"
   ]
  },
  {
   "cell_type": "code",
   "execution_count": 39,
   "metadata": {
    "colab": {
     "base_uri": "https://localhost:8080/"
    },
    "id": "7KMFxLcFCW20",
    "outputId": "ff091908-7e5e-4055-f7a9-477bd2a12041"
   },
   "outputs": [
    {
     "data": {
      "text/plain": [
       "0"
      ]
     },
     "execution_count": 39,
     "metadata": {},
     "output_type": "execute_result"
    }
   ],
   "source": [
    "test['satread_bins'].isna().sum()"
   ]
  },
  {
   "cell_type": "code",
   "execution_count": 40,
   "metadata": {
    "id": "L39R6hMQCW20"
   },
   "outputs": [],
   "source": [
    "train['satwrite'] = (train['zwrite']*100)+500"
   ]
  },
  {
   "cell_type": "code",
   "execution_count": 41,
   "metadata": {
    "id": "__BZfAA9CW20"
   },
   "outputs": [],
   "source": [
    "test['satwrite'] = (test['zwrite']*100)+500"
   ]
  },
  {
   "cell_type": "code",
   "execution_count": 42,
   "metadata": {
    "colab": {
     "base_uri": "https://localhost:8080/"
    },
    "id": "cp8_8gQ-CW20",
    "outputId": "624903af-6e40-4350-f3d4-b03fcd6a4242"
   },
   "outputs": [
    {
     "data": {
      "text/plain": [
       "148.35480794631286"
      ]
     },
     "execution_count": 42,
     "metadata": {},
     "output_type": "execute_result"
    }
   ],
   "source": [
    "train['satwrite'].min()"
   ]
  },
  {
   "cell_type": "code",
   "execution_count": 43,
   "metadata": {},
   "outputs": [],
   "source": [
    "train['satwrank'] = train[['satwrite']].rank(method = 'first')"
   ]
  },
  {
   "cell_type": "code",
   "execution_count": 44,
   "metadata": {},
   "outputs": [],
   "source": [
    "train['satrrank'] = train[['satread']].rank(method = 'first')"
   ]
  },
  {
   "cell_type": "code",
   "execution_count": 45,
   "metadata": {},
   "outputs": [],
   "source": [
    "test['satrrank'] = test[['satread']].rank(method = 'first')"
   ]
  },
  {
   "cell_type": "code",
   "execution_count": 46,
   "metadata": {
    "colab": {
     "base_uri": "https://localhost:8080/"
    },
    "id": "V9ayVYjQCW20",
    "outputId": "262045c6-7e4b-4808-9b84-8c8bb4d65e45"
   },
   "outputs": [
    {
     "data": {
      "text/plain": [
       "707.073268937404"
      ]
     },
     "execution_count": 46,
     "metadata": {},
     "output_type": "execute_result"
    }
   ],
   "source": [
    "train['satwrite'].max()"
   ]
  },
  {
   "cell_type": "code",
   "execution_count": 47,
   "metadata": {
    "colab": {
     "base_uri": "https://localhost:8080/"
    },
    "id": "l-GNpg1SCW20",
    "outputId": "594ed0d5-6654-411c-b446-48f0ea1e042c"
   },
   "outputs": [
    {
     "data": {
      "text/plain": [
       "121.8388308205765"
      ]
     },
     "execution_count": 47,
     "metadata": {},
     "output_type": "execute_result"
    }
   ],
   "source": [
    "test['satwrite'].min()"
   ]
  },
  {
   "cell_type": "code",
   "execution_count": 48,
   "metadata": {
    "colab": {
     "base_uri": "https://localhost:8080/"
    },
    "id": "UwnmFuyECW21",
    "outputId": "b8977870-4d89-44bf-d037-87f44a148ccd"
   },
   "outputs": [
    {
     "data": {
      "text/plain": [
       "718.7259796481478"
      ]
     },
     "execution_count": 48,
     "metadata": {},
     "output_type": "execute_result"
    }
   ],
   "source": [
    "test['satwrite'].max()"
   ]
  },
  {
   "cell_type": "code",
   "execution_count": 49,
   "metadata": {},
   "outputs": [],
   "source": [
    "test['satwrank'] = test[['satwrite']].rank(method = 'first')"
   ]
  },
  {
   "cell_type": "code",
   "execution_count": 50,
   "metadata": {
    "id": "aVeGgtxXCW21"
   },
   "outputs": [],
   "source": [
    "wsat_bin = pd.IntervalIndex.from_tuples([(100,200), (200, 300),(300,400), (400, 500),(500,600),(600,700),(700,800)])\n",
    "train['satwrite_bins'] = pd.cut(train['satwrite'], bins= wsat_bin)"
   ]
  },
  {
   "cell_type": "code",
   "execution_count": 51,
   "metadata": {
    "id": "gTvmj3k_CW21"
   },
   "outputs": [],
   "source": [
    "train['writerank'] = train['writing score'].rank(method = 'first')"
   ]
  },
  {
   "cell_type": "code",
   "execution_count": 52,
   "metadata": {
    "id": "uCLe6a1GCW21"
   },
   "outputs": [],
   "source": [
    "test['satwrite_bins'] = pd.cut(test['satwrite'], bins= wsat_bin)"
   ]
  },
  {
   "cell_type": "code",
   "execution_count": 53,
   "metadata": {
    "id": "zypeIn6lCW21"
   },
   "outputs": [],
   "source": [
    "train['readrank'] = train[['reading score']].rank(method = 'first')"
   ]
  },
  {
   "cell_type": "code",
   "execution_count": 54,
   "metadata": {
    "id": "3O9AKzHLCW21"
   },
   "outputs": [],
   "source": [
    "train['avgrank'] = train['avg'].rank(method = 'first')"
   ]
  },
  {
   "cell_type": "code",
   "execution_count": 55,
   "metadata": {
    "colab": {
     "base_uri": "https://localhost:8080/",
     "height": 350
    },
    "id": "PtKiAViRCW21",
    "outputId": "2d8040be-e424-40bc-952e-be744259eb94"
   },
   "outputs": [
    {
     "data": {
      "text/plain": [
       "<matplotlib.axes._subplots.AxesSubplot at 0x21a3984dd48>"
      ]
     },
     "execution_count": 55,
     "metadata": {},
     "output_type": "execute_result"
    },
    {
     "data": {
      "image/png": "[encoded data removed]",
      "text/plain": [
       "<Figure size 432x288 with 1 Axes>"
      ]
     },
     "metadata": {
      "needs_background": "light"
     },
     "output_type": "display_data"
    }
   ],
   "source": [
    "sns.distplot(train['writing score'])"
   ]
  },
  {
   "cell_type": "code",
   "execution_count": 56,
   "metadata": {
    "colab": {
     "base_uri": "https://localhost:8080/",
     "height": 353
    },
    "id": "7E_E1kxhCW22",
    "outputId": "e4e565cf-1788-4160-f055-0e423d33c086"
   },
   "outputs": [
    {
     "data": {
      "text/plain": [
       "<matplotlib.axes._subplots.AxesSubplot at 0x21a399d4f08>"
      ]
     },
     "execution_count": 56,
     "metadata": {},
     "output_type": "execute_result"
    },
    {
     "data": {
      "image/png": "[encoded data removed]",
      "text/plain": [
       "<Figure size 432x288 with 1 Axes>"
      ]
     },
     "metadata": {
      "needs_background": "light"
     },
     "output_type": "display_data"
    }
   ],
   "source": [
    "sns.distplot(train['reading score'])"
   ]
  },
  {
   "cell_type": "code",
   "execution_count": 57,
   "metadata": {
    "colab": {
     "base_uri": "https://localhost:8080/",
     "height": 350
    },
    "id": "sPm4MUlCCW22",
    "outputId": "ae0ea0df-e61b-4702-fa4a-d1c3d06a8f2c"
   },
   "outputs": [
    {
     "data": {
      "text/plain": [
       "<matplotlib.axes._subplots.AxesSubplot at 0x21a39aa73c8>"
      ]
     },
     "execution_count": 57,
     "metadata": {},
     "output_type": "execute_result"
    },
    {
     "data": {
      "image/png": "[encoded data removed]",
      "text/plain": [
       "<Figure size 432x288 with 1 Axes>"
      ]
     },
     "metadata": {
      "needs_background": "light"
     },
     "output_type": "display_data"
    }
   ],
   "source": [
    "sns.distplot(train['math score'])"
   ]
  },
  {
   "cell_type": "code",
   "execution_count": 58,
   "metadata": {
    "colab": {
     "base_uri": "https://localhost:8080/"
    },
    "id": "_vjHRPvxCW22",
    "outputId": "80bbdcad-3edd-4e82-a257-86d4dc81fbf7",
    "scrolled": true
   },
   "outputs": [
    {
     "data": {
      "text/plain": [
       "69.75142857142858"
      ]
     },
     "execution_count": 58,
     "metadata": {},
     "output_type": "execute_result"
    }
   ],
   "source": [
    "train['reading score'].mean()"
   ]
  },
  {
   "cell_type": "code",
   "execution_count": 59,
   "metadata": {
    "id": "d7Lx2jWPCW22"
   },
   "outputs": [],
   "source": [
    "train['read_meandev'] = train['reading score'] - 69.75142857142858"
   ]
  },
  {
   "cell_type": "code",
   "execution_count": 60,
   "metadata": {
    "colab": {
     "base_uri": "https://localhost:8080/"
    },
    "id": "WygHK02kCW22",
    "outputId": "fd0e51cf-82f4-4c7e-85da-efb20d081b0c"
   },
   "outputs": [
    {
     "data": {
      "text/plain": [
       "68.49714285714286"
      ]
     },
     "execution_count": 60,
     "metadata": {},
     "output_type": "execute_result"
    }
   ],
   "source": [
    "train['writing score'].mean()"
   ]
  },
  {
   "cell_type": "code",
   "execution_count": 61,
   "metadata": {
    "id": "j8LxFGEQCW22"
   },
   "outputs": [],
   "source": [
    "train['write_meandev'] = train['writing score'] - 68.49714285714286"
   ]
  },
  {
   "cell_type": "code",
   "execution_count": 62,
   "metadata": {
    "colab": {
     "base_uri": "https://localhost:8080/",
     "height": 350
    },
    "id": "roLiEiNUCW23",
    "outputId": "e7552368-b7a2-4235-a02f-0ba85f3dd108"
   },
   "outputs": [
    {
     "data": {
      "text/plain": [
       "<matplotlib.axes._subplots.AxesSubplot at 0x21a39b561c8>"
      ]
     },
     "execution_count": 62,
     "metadata": {},
     "output_type": "execute_result"
    },
    {
     "data": {
      "image/png": "[encoded data removed]",
      "text/plain": [
       "<Figure size 432x288 with 1 Axes>"
      ]
     },
     "metadata": {
      "needs_background": "light"
     },
     "output_type": "display_data"
    }
   ],
   "source": [
    "sns.boxplot(train['write_meandev'])"
   ]
  },
  {
   "cell_type": "code",
   "execution_count": 63,
   "metadata": {
    "colab": {
     "base_uri": "https://localhost:8080/",
     "height": 350
    },
    "id": "LnJnhtNGCW23",
    "outputId": "0852f5fc-7217-43b8-e1cb-3d30b7cca181"
   },
   "outputs": [
    {
     "data": {
      "text/plain": [
       "<matplotlib.axes._subplots.AxesSubplot at 0x21a39bd6648>"
      ]
     },
     "execution_count": 63,
     "metadata": {},
     "output_type": "execute_result"
    },
    {
     "data": {
      "image/png": "[encoded data removed]",
      "text/plain": [
       "<Figure size 432x288 with 1 Axes>"
      ]
     },
     "metadata": {
      "needs_background": "light"
     },
     "output_type": "display_data"
    }
   ],
   "source": [
    "sns.boxplot(train['read_meandev'])"
   ]
  },
  {
   "cell_type": "code",
   "execution_count": 64,
   "metadata": {
    "colab": {
     "base_uri": "https://localhost:8080/",
     "height": 434
    },
    "id": "gQoPBGD-CW23",
    "outputId": "fb4c65d6-3308-4d25-8afb-e211cba2c16e"
   },
   "outputs": [
    {
     "data": {
      "text/html": [
       "<div>\n",
       "<style scoped>\n",
       "    .dataframe tbody tr th:only-of-type {\n",
       "        vertical-align: middle;\n",
       "    }\n",
       "\n",
       "    .dataframe tbody tr th {\n",
       "        vertical-align: top;\n",
       "    }\n",
       "\n",
       "    .dataframe thead th {\n",
       "        text-align: right;\n",
       "    }\n",
       "</style>\n",
       "<table border=\"1\" class=\"dataframe\">\n",
       "  <thead>\n",
       "    <tr style=\"text-align: right;\">\n",
       "      <th></th>\n",
       "      <th>Unnamed: 0</th>\n",
       "      <th>gender</th>\n",
       "      <th>ethnicity</th>\n",
       "      <th>parental level of education</th>\n",
       "      <th>lunch</th>\n",
       "      <th>test preparation course</th>\n",
       "      <th>reading score</th>\n",
       "      <th>writing score</th>\n",
       "      <th>math score</th>\n",
       "      <th>gender_lunch</th>\n",
       "      <th>...</th>\n",
       "      <th>satread_bins</th>\n",
       "      <th>satwrite</th>\n",
       "      <th>satwrank</th>\n",
       "      <th>satrrank</th>\n",
       "      <th>satwrite_bins</th>\n",
       "      <th>writerank</th>\n",
       "      <th>readrank</th>\n",
       "      <th>avgrank</th>\n",
       "      <th>read_meandev</th>\n",
       "      <th>write_meandev</th>\n",
       "    </tr>\n",
       "  </thead>\n",
       "  <tbody>\n",
       "    <tr>\n",
       "      <th>0</th>\n",
       "      <td>0</td>\n",
       "      <td>male</td>\n",
       "      <td>group C</td>\n",
       "      <td>some college</td>\n",
       "      <td>standard</td>\n",
       "      <td>none</td>\n",
       "      <td>61</td>\n",
       "      <td>62</td>\n",
       "      <td>61</td>\n",
       "      <td>malestandard</td>\n",
       "      <td>...</td>\n",
       "      <td>(400, 450]</td>\n",
       "      <td>457.293251</td>\n",
       "      <td>222.0</td>\n",
       "      <td>187.0</td>\n",
       "      <td>(400, 500]</td>\n",
       "      <td>222.0</td>\n",
       "      <td>187.0</td>\n",
       "      <td>206.0</td>\n",
       "      <td>-8.751429</td>\n",
       "      <td>-6.497143</td>\n",
       "    </tr>\n",
       "    <tr>\n",
       "      <th>1</th>\n",
       "      <td>1</td>\n",
       "      <td>female</td>\n",
       "      <td>group C</td>\n",
       "      <td>associate's degree</td>\n",
       "      <td>standard</td>\n",
       "      <td>none</td>\n",
       "      <td>62</td>\n",
       "      <td>53</td>\n",
       "      <td>53</td>\n",
       "      <td>femalestandard</td>\n",
       "      <td>...</td>\n",
       "      <td>(400, 450]</td>\n",
       "      <td>398.134826</td>\n",
       "      <td>108.0</td>\n",
       "      <td>202.0</td>\n",
       "      <td>(300, 400]</td>\n",
       "      <td>108.0</td>\n",
       "      <td>202.0</td>\n",
       "      <td>158.0</td>\n",
       "      <td>-7.751429</td>\n",
       "      <td>-15.497143</td>\n",
       "    </tr>\n",
       "    <tr>\n",
       "      <th>2</th>\n",
       "      <td>2</td>\n",
       "      <td>female</td>\n",
       "      <td>group C</td>\n",
       "      <td>some college</td>\n",
       "      <td>free/reduced</td>\n",
       "      <td>completed</td>\n",
       "      <td>75</td>\n",
       "      <td>70</td>\n",
       "      <td>67</td>\n",
       "      <td>femalefree/reduced</td>\n",
       "      <td>...</td>\n",
       "      <td>(500, 550]</td>\n",
       "      <td>509.878518</td>\n",
       "      <td>347.0</td>\n",
       "      <td>434.0</td>\n",
       "      <td>(500, 600]</td>\n",
       "      <td>347.0</td>\n",
       "      <td>434.0</td>\n",
       "      <td>400.0</td>\n",
       "      <td>5.248571</td>\n",
       "      <td>1.502857</td>\n",
       "    </tr>\n",
       "    <tr>\n",
       "      <th>3</th>\n",
       "      <td>3</td>\n",
       "      <td>male</td>\n",
       "      <td>group C</td>\n",
       "      <td>some high school</td>\n",
       "      <td>free/reduced</td>\n",
       "      <td>none</td>\n",
       "      <td>76</td>\n",
       "      <td>65</td>\n",
       "      <td>79</td>\n",
       "      <td>malefree/reduced</td>\n",
       "      <td>...</td>\n",
       "      <td>(500, 550]</td>\n",
       "      <td>477.012726</td>\n",
       "      <td>265.0</td>\n",
       "      <td>453.0</td>\n",
       "      <td>(400, 500]</td>\n",
       "      <td>265.0</td>\n",
       "      <td>453.0</td>\n",
       "      <td>356.0</td>\n",
       "      <td>6.248571</td>\n",
       "      <td>-3.497143</td>\n",
       "    </tr>\n",
       "    <tr>\n",
       "      <th>4</th>\n",
       "      <td>4</td>\n",
       "      <td>male</td>\n",
       "      <td>group A</td>\n",
       "      <td>high school</td>\n",
       "      <td>free/reduced</td>\n",
       "      <td>none</td>\n",
       "      <td>58</td>\n",
       "      <td>44</td>\n",
       "      <td>53</td>\n",
       "      <td>malefree/reduced</td>\n",
       "      <td>...</td>\n",
       "      <td>(400, 450]</td>\n",
       "      <td>338.976401</td>\n",
       "      <td>40.0</td>\n",
       "      <td>143.0</td>\n",
       "      <td>(300, 400]</td>\n",
       "      <td>40.0</td>\n",
       "      <td>143.0</td>\n",
       "      <td>75.0</td>\n",
       "      <td>-11.751429</td>\n",
       "      <td>-24.497143</td>\n",
       "    </tr>\n",
       "  </tbody>\n",
       "</table>\n",
       "<p>5 rows × 44 columns</p>\n",
       "</div>"
      ],
      "text/plain": [
       "   Unnamed: 0  gender ethnicity parental level of education         lunch  \\\n",
       "0           0    male   group C                some college      standard   \n",
       "1           1  female   group C          associate's degree      standard   \n",
       "2           2  female   group C                some college  free/reduced   \n",
       "3           3    male   group C            some high school  free/reduced   \n",
       "4           4    male   group A                 high school  free/reduced   \n",
       "\n",
       "  test preparation course  reading score  writing score  math score  \\\n",
       "0                    none             61             62          61   \n",
       "1                    none             62             53          53   \n",
       "2               completed             75             70          67   \n",
       "3                    none             76             65          79   \n",
       "4                    none             58             44          53   \n",
       "\n",
       "         gender_lunch  ... satread_bins    satwrite satwrank satrrank  \\\n",
       "0        malestandard  ...   (400, 450]  457.293251    222.0    187.0   \n",
       "1      femalestandard  ...   (400, 450]  398.134826    108.0    202.0   \n",
       "2  femalefree/reduced  ...   (500, 550]  509.878518    347.0    434.0   \n",
       "3    malefree/reduced  ...   (500, 550]  477.012726    265.0    453.0   \n",
       "4    malefree/reduced  ...   (400, 450]  338.976401     40.0    143.0   \n",
       "\n",
       "  satwrite_bins writerank readrank avgrank  read_meandev  write_meandev  \n",
       "0    (400, 500]     222.0    187.0   206.0     -8.751429      -6.497143  \n",
       "1    (300, 400]     108.0    202.0   158.0     -7.751429     -15.497143  \n",
       "2    (500, 600]     347.0    434.0   400.0      5.248571       1.502857  \n",
       "3    (400, 500]     265.0    453.0   356.0      6.248571      -3.497143  \n",
       "4    (300, 400]      40.0    143.0    75.0    -11.751429     -24.497143  \n",
       "\n",
       "[5 rows x 44 columns]"
      ]
     },
     "execution_count": 64,
     "metadata": {},
     "output_type": "execute_result"
    }
   ],
   "source": [
    "train.head()"
   ]
  },
  {
   "cell_type": "code",
   "execution_count": 65,
   "metadata": {
    "colab": {
     "base_uri": "https://localhost:8080/",
     "height": 434
    },
    "id": "rXT-2AZ6CW23",
    "outputId": "7ae03c40-0c0b-4e62-9000-cc836782e56e"
   },
   "outputs": [
    {
     "data": {
      "text/html": [
       "<div>\n",
       "<style scoped>\n",
       "    .dataframe tbody tr th:only-of-type {\n",
       "        vertical-align: middle;\n",
       "    }\n",
       "\n",
       "    .dataframe tbody tr th {\n",
       "        vertical-align: top;\n",
       "    }\n",
       "\n",
       "    .dataframe thead th {\n",
       "        text-align: right;\n",
       "    }\n",
       "</style>\n",
       "<table border=\"1\" class=\"dataframe\">\n",
       "  <thead>\n",
       "    <tr style=\"text-align: right;\">\n",
       "      <th></th>\n",
       "      <th>Unnamed: 0</th>\n",
       "      <th>gender</th>\n",
       "      <th>ethnicity</th>\n",
       "      <th>parental level of education</th>\n",
       "      <th>lunch</th>\n",
       "      <th>test preparation course</th>\n",
       "      <th>reading score</th>\n",
       "      <th>writing score</th>\n",
       "      <th>math score</th>\n",
       "      <th>gender_lunch</th>\n",
       "      <th>...</th>\n",
       "      <th>satread_bins</th>\n",
       "      <th>satwrite</th>\n",
       "      <th>satwrank</th>\n",
       "      <th>satrrank</th>\n",
       "      <th>satwrite_bins</th>\n",
       "      <th>writerank</th>\n",
       "      <th>readrank</th>\n",
       "      <th>avgrank</th>\n",
       "      <th>read_meandev</th>\n",
       "      <th>write_meandev</th>\n",
       "    </tr>\n",
       "  </thead>\n",
       "  <tbody>\n",
       "    <tr>\n",
       "      <th>140</th>\n",
       "      <td>140</td>\n",
       "      <td>male</td>\n",
       "      <td>group B</td>\n",
       "      <td>high school</td>\n",
       "      <td>free/reduced</td>\n",
       "      <td>none</td>\n",
       "      <td>24</td>\n",
       "      <td>15</td>\n",
       "      <td>30</td>\n",
       "      <td>malefree/reduced</td>\n",
       "      <td>...</td>\n",
       "      <td>(148, 200]</td>\n",
       "      <td>148.354808</td>\n",
       "      <td>1.0</td>\n",
       "      <td>2.0</td>\n",
       "      <td>(100, 200]</td>\n",
       "      <td>1.0</td>\n",
       "      <td>2.0</td>\n",
       "      <td>1.0</td>\n",
       "      <td>-45.751429</td>\n",
       "      <td>-53.497143</td>\n",
       "    </tr>\n",
       "    <tr>\n",
       "      <th>152</th>\n",
       "      <td>152</td>\n",
       "      <td>male</td>\n",
       "      <td>group C</td>\n",
       "      <td>some college</td>\n",
       "      <td>free/reduced</td>\n",
       "      <td>none</td>\n",
       "      <td>28</td>\n",
       "      <td>27</td>\n",
       "      <td>35</td>\n",
       "      <td>malefree/reduced</td>\n",
       "      <td>...</td>\n",
       "      <td>(200, 250]</td>\n",
       "      <td>227.232708</td>\n",
       "      <td>4.0</td>\n",
       "      <td>4.0</td>\n",
       "      <td>(200, 300]</td>\n",
       "      <td>4.0</td>\n",
       "      <td>4.0</td>\n",
       "      <td>4.0</td>\n",
       "      <td>-41.751429</td>\n",
       "      <td>-41.497143</td>\n",
       "    </tr>\n",
       "    <tr>\n",
       "      <th>286</th>\n",
       "      <td>286</td>\n",
       "      <td>female</td>\n",
       "      <td>group B</td>\n",
       "      <td>high school</td>\n",
       "      <td>free/reduced</td>\n",
       "      <td>none</td>\n",
       "      <td>24</td>\n",
       "      <td>23</td>\n",
       "      <td>8</td>\n",
       "      <td>femalefree/reduced</td>\n",
       "      <td>...</td>\n",
       "      <td>(148, 200]</td>\n",
       "      <td>200.940075</td>\n",
       "      <td>3.0</td>\n",
       "      <td>3.0</td>\n",
       "      <td>(200, 300]</td>\n",
       "      <td>3.0</td>\n",
       "      <td>3.0</td>\n",
       "      <td>3.0</td>\n",
       "      <td>-45.751429</td>\n",
       "      <td>-45.497143</td>\n",
       "    </tr>\n",
       "    <tr>\n",
       "      <th>497</th>\n",
       "      <td>497</td>\n",
       "      <td>female</td>\n",
       "      <td>group C</td>\n",
       "      <td>high school</td>\n",
       "      <td>standard</td>\n",
       "      <td>none</td>\n",
       "      <td>29</td>\n",
       "      <td>30</td>\n",
       "      <td>29</td>\n",
       "      <td>femalestandard</td>\n",
       "      <td>...</td>\n",
       "      <td>(200, 250]</td>\n",
       "      <td>246.952183</td>\n",
       "      <td>7.0</td>\n",
       "      <td>5.0</td>\n",
       "      <td>(200, 300]</td>\n",
       "      <td>7.0</td>\n",
       "      <td>5.0</td>\n",
       "      <td>5.0</td>\n",
       "      <td>-40.751429</td>\n",
       "      <td>-38.497143</td>\n",
       "    </tr>\n",
       "    <tr>\n",
       "      <th>623</th>\n",
       "      <td>623</td>\n",
       "      <td>male</td>\n",
       "      <td>group A</td>\n",
       "      <td>some college</td>\n",
       "      <td>free/reduced</td>\n",
       "      <td>none</td>\n",
       "      <td>23</td>\n",
       "      <td>19</td>\n",
       "      <td>28</td>\n",
       "      <td>malefree/reduced</td>\n",
       "      <td>...</td>\n",
       "      <td>(148, 200]</td>\n",
       "      <td>174.647441</td>\n",
       "      <td>2.0</td>\n",
       "      <td>1.0</td>\n",
       "      <td>(100, 200]</td>\n",
       "      <td>2.0</td>\n",
       "      <td>1.0</td>\n",
       "      <td>2.0</td>\n",
       "      <td>-46.751429</td>\n",
       "      <td>-49.497143</td>\n",
       "    </tr>\n",
       "  </tbody>\n",
       "</table>\n",
       "<p>5 rows × 44 columns</p>\n",
       "</div>"
      ],
      "text/plain": [
       "     Unnamed: 0  gender ethnicity parental level of education         lunch  \\\n",
       "140         140    male   group B                 high school  free/reduced   \n",
       "152         152    male   group C                some college  free/reduced   \n",
       "286         286  female   group B                 high school  free/reduced   \n",
       "497         497  female   group C                 high school      standard   \n",
       "623         623    male   group A                some college  free/reduced   \n",
       "\n",
       "    test preparation course  reading score  writing score  math score  \\\n",
       "140                    none             24             15          30   \n",
       "152                    none             28             27          35   \n",
       "286                    none             24             23           8   \n",
       "497                    none             29             30          29   \n",
       "623                    none             23             19          28   \n",
       "\n",
       "           gender_lunch  ... satread_bins    satwrite satwrank satrrank  \\\n",
       "140    malefree/reduced  ...   (148, 200]  148.354808      1.0      2.0   \n",
       "152    malefree/reduced  ...   (200, 250]  227.232708      4.0      4.0   \n",
       "286  femalefree/reduced  ...   (148, 200]  200.940075      3.0      3.0   \n",
       "497      femalestandard  ...   (200, 250]  246.952183      7.0      5.0   \n",
       "623    malefree/reduced  ...   (148, 200]  174.647441      2.0      1.0   \n",
       "\n",
       "    satwrite_bins writerank readrank avgrank  read_meandev  write_meandev  \n",
       "140    (100, 200]       1.0      2.0     1.0    -45.751429     -53.497143  \n",
       "152    (200, 300]       4.0      4.0     4.0    -41.751429     -41.497143  \n",
       "286    (200, 300]       3.0      3.0     3.0    -45.751429     -45.497143  \n",
       "497    (200, 300]       7.0      5.0     5.0    -40.751429     -38.497143  \n",
       "623    (100, 200]       2.0      1.0     2.0    -46.751429     -49.497143  \n",
       "\n",
       "[5 rows x 44 columns]"
      ]
     },
     "execution_count": 65,
     "metadata": {},
     "output_type": "execute_result"
    }
   ],
   "source": [
    "train[train['avg']<30]"
   ]
  },
  {
   "cell_type": "code",
   "execution_count": 66,
   "metadata": {
    "id": "Vx4_XOP5CW23"
   },
   "outputs": [],
   "source": [
    "train = train.drop(train.index[286])"
   ]
  },
  {
   "cell_type": "code",
   "execution_count": 67,
   "metadata": {
    "id": "XVtdTsX3CW24"
   },
   "outputs": [],
   "source": [
    "mean = np.mean(train['avg']) \n",
    "std = np.std(train['avg']) "
   ]
  },
  {
   "cell_type": "code",
   "execution_count": 68,
   "metadata": {
    "colab": {
     "base_uri": "https://localhost:8080/"
    },
    "id": "FCb-GjUmCW24",
    "outputId": "2d29ae66-424f-4b82-cfa8-00c22a9e6d5d"
   },
   "outputs": [
    {
     "name": "stdout",
     "output_type": "stream",
     "text": [
      "outlier in dataset is [98.5, 99.5, 100.0, 100.0, 100.0, 100.0, 100.0, 100.0, 99.5, 99.5, 100.0, 100.0]\n"
     ]
    }
   ],
   "source": [
    "threshold = 2\n",
    "outlier = [] \n",
    "for i in train['avg']: \n",
    "    z = (i-mean)/std \n",
    "    if z > threshold: \n",
    "        outlier.append(i) \n",
    "print('outlier in dataset is', outlier)"
   ]
  },
  {
   "cell_type": "code",
   "execution_count": 69,
   "metadata": {
    "colab": {
     "base_uri": "https://localhost:8080/",
     "height": 1000
    },
    "id": "E5nxGbnMCW24",
    "outputId": "578cdf7e-8e8c-4867-dc54-c6c248bfd304"
   },
   "outputs": [
    {
     "data": {
      "text/html": [
       "<div>\n",
       "<style scoped>\n",
       "    .dataframe tbody tr th:only-of-type {\n",
       "        vertical-align: middle;\n",
       "    }\n",
       "\n",
       "    .dataframe tbody tr th {\n",
       "        vertical-align: top;\n",
       "    }\n",
       "\n",
       "    .dataframe thead th {\n",
       "        text-align: right;\n",
       "    }\n",
       "</style>\n",
       "<table border=\"1\" class=\"dataframe\">\n",
       "  <thead>\n",
       "    <tr style=\"text-align: right;\">\n",
       "      <th></th>\n",
       "      <th>Unnamed: 0</th>\n",
       "      <th>gender</th>\n",
       "      <th>ethnicity</th>\n",
       "      <th>parental level of education</th>\n",
       "      <th>lunch</th>\n",
       "      <th>test preparation course</th>\n",
       "      <th>reading score</th>\n",
       "      <th>writing score</th>\n",
       "      <th>math score</th>\n",
       "      <th>gender_lunch</th>\n",
       "      <th>...</th>\n",
       "      <th>satread_bins</th>\n",
       "      <th>satwrite</th>\n",
       "      <th>satwrank</th>\n",
       "      <th>satrrank</th>\n",
       "      <th>satwrite_bins</th>\n",
       "      <th>writerank</th>\n",
       "      <th>readrank</th>\n",
       "      <th>avgrank</th>\n",
       "      <th>read_meandev</th>\n",
       "      <th>write_meandev</th>\n",
       "    </tr>\n",
       "  </thead>\n",
       "  <tbody>\n",
       "    <tr>\n",
       "      <th>69</th>\n",
       "      <td>69</td>\n",
       "      <td>female</td>\n",
       "      <td>group D</td>\n",
       "      <td>master's degree</td>\n",
       "      <td>free/reduced</td>\n",
       "      <td>completed</td>\n",
       "      <td>95</td>\n",
       "      <td>100</td>\n",
       "      <td>85</td>\n",
       "      <td>femalefree/reduced</td>\n",
       "      <td>...</td>\n",
       "      <td>(650, 700]</td>\n",
       "      <td>707.073269</td>\n",
       "      <td>690.0</td>\n",
       "      <td>672.0</td>\n",
       "      <td>(700, 800]</td>\n",
       "      <td>690.0</td>\n",
       "      <td>672.0</td>\n",
       "      <td>685.0</td>\n",
       "      <td>25.248571</td>\n",
       "      <td>31.502857</td>\n",
       "    </tr>\n",
       "    <tr>\n",
       "      <th>129</th>\n",
       "      <td>129</td>\n",
       "      <td>female</td>\n",
       "      <td>group A</td>\n",
       "      <td>some high school</td>\n",
       "      <td>standard</td>\n",
       "      <td>completed</td>\n",
       "      <td>100</td>\n",
       "      <td>97</td>\n",
       "      <td>92</td>\n",
       "      <td>femalestandard</td>\n",
       "      <td>...</td>\n",
       "      <td>(700, 750]</td>\n",
       "      <td>687.353794</td>\n",
       "      <td>684.0</td>\n",
       "      <td>688.0</td>\n",
       "      <td>(600, 700]</td>\n",
       "      <td>684.0</td>\n",
       "      <td>688.0</td>\n",
       "      <td>689.0</td>\n",
       "      <td>30.248571</td>\n",
       "      <td>28.502857</td>\n",
       "    </tr>\n",
       "    <tr>\n",
       "      <th>134</th>\n",
       "      <td>134</td>\n",
       "      <td>female</td>\n",
       "      <td>group E</td>\n",
       "      <td>master's degree</td>\n",
       "      <td>standard</td>\n",
       "      <td>completed</td>\n",
       "      <td>99</td>\n",
       "      <td>100</td>\n",
       "      <td>94</td>\n",
       "      <td>femalestandard</td>\n",
       "      <td>...</td>\n",
       "      <td>(700, 750]</td>\n",
       "      <td>707.073269</td>\n",
       "      <td>691.0</td>\n",
       "      <td>686.0</td>\n",
       "      <td>(700, 800]</td>\n",
       "      <td>691.0</td>\n",
       "      <td>686.0</td>\n",
       "      <td>690.0</td>\n",
       "      <td>29.248571</td>\n",
       "      <td>31.502857</td>\n",
       "    </tr>\n",
       "    <tr>\n",
       "      <th>197</th>\n",
       "      <td>197</td>\n",
       "      <td>female</td>\n",
       "      <td>group E</td>\n",
       "      <td>bachelor's degree</td>\n",
       "      <td>standard</td>\n",
       "      <td>none</td>\n",
       "      <td>100</td>\n",
       "      <td>100</td>\n",
       "      <td>100</td>\n",
       "      <td>femalestandard</td>\n",
       "      <td>...</td>\n",
       "      <td>(700, 750]</td>\n",
       "      <td>707.073269</td>\n",
       "      <td>692.0</td>\n",
       "      <td>689.0</td>\n",
       "      <td>(700, 800]</td>\n",
       "      <td>692.0</td>\n",
       "      <td>689.0</td>\n",
       "      <td>693.0</td>\n",
       "      <td>30.248571</td>\n",
       "      <td>31.502857</td>\n",
       "    </tr>\n",
       "    <tr>\n",
       "      <th>222</th>\n",
       "      <td>222</td>\n",
       "      <td>female</td>\n",
       "      <td>group D</td>\n",
       "      <td>master's degree</td>\n",
       "      <td>standard</td>\n",
       "      <td>none</td>\n",
       "      <td>100</td>\n",
       "      <td>100</td>\n",
       "      <td>92</td>\n",
       "      <td>femalestandard</td>\n",
       "      <td>...</td>\n",
       "      <td>(700, 750]</td>\n",
       "      <td>707.073269</td>\n",
       "      <td>693.0</td>\n",
       "      <td>690.0</td>\n",
       "      <td>(700, 800]</td>\n",
       "      <td>693.0</td>\n",
       "      <td>690.0</td>\n",
       "      <td>694.0</td>\n",
       "      <td>30.248571</td>\n",
       "      <td>31.502857</td>\n",
       "    </tr>\n",
       "    <tr>\n",
       "      <th>242</th>\n",
       "      <td>242</td>\n",
       "      <td>female</td>\n",
       "      <td>group E</td>\n",
       "      <td>bachelor's degree</td>\n",
       "      <td>standard</td>\n",
       "      <td>completed</td>\n",
       "      <td>100</td>\n",
       "      <td>100</td>\n",
       "      <td>99</td>\n",
       "      <td>femalestandard</td>\n",
       "      <td>...</td>\n",
       "      <td>(700, 750]</td>\n",
       "      <td>707.073269</td>\n",
       "      <td>694.0</td>\n",
       "      <td>691.0</td>\n",
       "      <td>(700, 800]</td>\n",
       "      <td>694.0</td>\n",
       "      <td>691.0</td>\n",
       "      <td>695.0</td>\n",
       "      <td>30.248571</td>\n",
       "      <td>31.502857</td>\n",
       "    </tr>\n",
       "    <tr>\n",
       "      <th>302</th>\n",
       "      <td>302</td>\n",
       "      <td>male</td>\n",
       "      <td>group E</td>\n",
       "      <td>bachelor's degree</td>\n",
       "      <td>standard</td>\n",
       "      <td>completed</td>\n",
       "      <td>100</td>\n",
       "      <td>100</td>\n",
       "      <td>100</td>\n",
       "      <td>malestandard</td>\n",
       "      <td>...</td>\n",
       "      <td>(700, 750]</td>\n",
       "      <td>707.073269</td>\n",
       "      <td>695.0</td>\n",
       "      <td>693.0</td>\n",
       "      <td>(700, 800]</td>\n",
       "      <td>695.0</td>\n",
       "      <td>693.0</td>\n",
       "      <td>696.0</td>\n",
       "      <td>30.248571</td>\n",
       "      <td>31.502857</td>\n",
       "    </tr>\n",
       "    <tr>\n",
       "      <th>388</th>\n",
       "      <td>388</td>\n",
       "      <td>female</td>\n",
       "      <td>group C</td>\n",
       "      <td>associate's degree</td>\n",
       "      <td>standard</td>\n",
       "      <td>completed</td>\n",
       "      <td>96</td>\n",
       "      <td>99</td>\n",
       "      <td>96</td>\n",
       "      <td>femalestandard</td>\n",
       "      <td>...</td>\n",
       "      <td>(650, 700]</td>\n",
       "      <td>700.500111</td>\n",
       "      <td>688.0</td>\n",
       "      <td>680.0</td>\n",
       "      <td>(700, 800]</td>\n",
       "      <td>688.0</td>\n",
       "      <td>680.0</td>\n",
       "      <td>686.0</td>\n",
       "      <td>26.248571</td>\n",
       "      <td>30.502857</td>\n",
       "    </tr>\n",
       "    <tr>\n",
       "      <th>389</th>\n",
       "      <td>389</td>\n",
       "      <td>female</td>\n",
       "      <td>group E</td>\n",
       "      <td>associate's degree</td>\n",
       "      <td>standard</td>\n",
       "      <td>none</td>\n",
       "      <td>100</td>\n",
       "      <td>100</td>\n",
       "      <td>100</td>\n",
       "      <td>femalestandard</td>\n",
       "      <td>...</td>\n",
       "      <td>(700, 750]</td>\n",
       "      <td>707.073269</td>\n",
       "      <td>696.0</td>\n",
       "      <td>694.0</td>\n",
       "      <td>(700, 800]</td>\n",
       "      <td>696.0</td>\n",
       "      <td>694.0</td>\n",
       "      <td>697.0</td>\n",
       "      <td>30.248571</td>\n",
       "      <td>31.502857</td>\n",
       "    </tr>\n",
       "    <tr>\n",
       "      <th>398</th>\n",
       "      <td>398</td>\n",
       "      <td>female</td>\n",
       "      <td>group D</td>\n",
       "      <td>some high school</td>\n",
       "      <td>standard</td>\n",
       "      <td>completed</td>\n",
       "      <td>100</td>\n",
       "      <td>100</td>\n",
       "      <td>97</td>\n",
       "      <td>femalestandard</td>\n",
       "      <td>...</td>\n",
       "      <td>(700, 750]</td>\n",
       "      <td>707.073269</td>\n",
       "      <td>697.0</td>\n",
       "      <td>695.0</td>\n",
       "      <td>(700, 800]</td>\n",
       "      <td>697.0</td>\n",
       "      <td>695.0</td>\n",
       "      <td>698.0</td>\n",
       "      <td>30.248571</td>\n",
       "      <td>31.502857</td>\n",
       "    </tr>\n",
       "    <tr>\n",
       "      <th>432</th>\n",
       "      <td>432</td>\n",
       "      <td>male</td>\n",
       "      <td>group C</td>\n",
       "      <td>associate's degree</td>\n",
       "      <td>standard</td>\n",
       "      <td>completed</td>\n",
       "      <td>100</td>\n",
       "      <td>95</td>\n",
       "      <td>87</td>\n",
       "      <td>malestandard</td>\n",
       "      <td>...</td>\n",
       "      <td>(700, 750]</td>\n",
       "      <td>674.207477</td>\n",
       "      <td>677.0</td>\n",
       "      <td>696.0</td>\n",
       "      <td>(600, 700]</td>\n",
       "      <td>677.0</td>\n",
       "      <td>696.0</td>\n",
       "      <td>687.0</td>\n",
       "      <td>30.248571</td>\n",
       "      <td>26.502857</td>\n",
       "    </tr>\n",
       "    <tr>\n",
       "      <th>450</th>\n",
       "      <td>450</td>\n",
       "      <td>female</td>\n",
       "      <td>group D</td>\n",
       "      <td>high school</td>\n",
       "      <td>standard</td>\n",
       "      <td>completed</td>\n",
       "      <td>99</td>\n",
       "      <td>100</td>\n",
       "      <td>88</td>\n",
       "      <td>femalestandard</td>\n",
       "      <td>...</td>\n",
       "      <td>(700, 750]</td>\n",
       "      <td>707.073269</td>\n",
       "      <td>698.0</td>\n",
       "      <td>687.0</td>\n",
       "      <td>(700, 800]</td>\n",
       "      <td>698.0</td>\n",
       "      <td>687.0</td>\n",
       "      <td>691.0</td>\n",
       "      <td>29.248571</td>\n",
       "      <td>31.502857</td>\n",
       "    </tr>\n",
       "    <tr>\n",
       "      <th>477</th>\n",
       "      <td>477</td>\n",
       "      <td>female</td>\n",
       "      <td>group D</td>\n",
       "      <td>some college</td>\n",
       "      <td>standard</td>\n",
       "      <td>none</td>\n",
       "      <td>100</td>\n",
       "      <td>99</td>\n",
       "      <td>98</td>\n",
       "      <td>femalestandard</td>\n",
       "      <td>...</td>\n",
       "      <td>(700, 750]</td>\n",
       "      <td>700.500111</td>\n",
       "      <td>689.0</td>\n",
       "      <td>697.0</td>\n",
       "      <td>(700, 800]</td>\n",
       "      <td>689.0</td>\n",
       "      <td>697.0</td>\n",
       "      <td>692.0</td>\n",
       "      <td>30.248571</td>\n",
       "      <td>30.502857</td>\n",
       "    </tr>\n",
       "    <tr>\n",
       "      <th>574</th>\n",
       "      <td>574</td>\n",
       "      <td>female</td>\n",
       "      <td>group C</td>\n",
       "      <td>bachelor's degree</td>\n",
       "      <td>standard</td>\n",
       "      <td>completed</td>\n",
       "      <td>100</td>\n",
       "      <td>100</td>\n",
       "      <td>96</td>\n",
       "      <td>femalestandard</td>\n",
       "      <td>...</td>\n",
       "      <td>(700, 750]</td>\n",
       "      <td>707.073269</td>\n",
       "      <td>699.0</td>\n",
       "      <td>698.0</td>\n",
       "      <td>(700, 800]</td>\n",
       "      <td>699.0</td>\n",
       "      <td>698.0</td>\n",
       "      <td>699.0</td>\n",
       "      <td>30.248571</td>\n",
       "      <td>31.502857</td>\n",
       "    </tr>\n",
       "    <tr>\n",
       "      <th>622</th>\n",
       "      <td>622</td>\n",
       "      <td>female</td>\n",
       "      <td>group E</td>\n",
       "      <td>associate's degree</td>\n",
       "      <td>standard</td>\n",
       "      <td>completed</td>\n",
       "      <td>100</td>\n",
       "      <td>95</td>\n",
       "      <td>93</td>\n",
       "      <td>femalestandard</td>\n",
       "      <td>...</td>\n",
       "      <td>(700, 750]</td>\n",
       "      <td>674.207477</td>\n",
       "      <td>679.0</td>\n",
       "      <td>699.0</td>\n",
       "      <td>(600, 700]</td>\n",
       "      <td>679.0</td>\n",
       "      <td>699.0</td>\n",
       "      <td>688.0</td>\n",
       "      <td>30.248571</td>\n",
       "      <td>26.502857</td>\n",
       "    </tr>\n",
       "    <tr>\n",
       "      <th>630</th>\n",
       "      <td>630</td>\n",
       "      <td>female</td>\n",
       "      <td>group E</td>\n",
       "      <td>bachelor's degree</td>\n",
       "      <td>free/reduced</td>\n",
       "      <td>completed</td>\n",
       "      <td>100</td>\n",
       "      <td>100</td>\n",
       "      <td>92</td>\n",
       "      <td>femalefree/reduced</td>\n",
       "      <td>...</td>\n",
       "      <td>(700, 750]</td>\n",
       "      <td>707.073269</td>\n",
       "      <td>700.0</td>\n",
       "      <td>700.0</td>\n",
       "      <td>(700, 800]</td>\n",
       "      <td>700.0</td>\n",
       "      <td>700.0</td>\n",
       "      <td>700.0</td>\n",
       "      <td>30.248571</td>\n",
       "      <td>31.502857</td>\n",
       "    </tr>\n",
       "  </tbody>\n",
       "</table>\n",
       "<p>16 rows × 44 columns</p>\n",
       "</div>"
      ],
      "text/plain": [
       "     Unnamed: 0  gender ethnicity parental level of education         lunch  \\\n",
       "69           69  female   group D             master's degree  free/reduced   \n",
       "129         129  female   group A            some high school      standard   \n",
       "134         134  female   group E             master's degree      standard   \n",
       "197         197  female   group E           bachelor's degree      standard   \n",
       "222         222  female   group D             master's degree      standard   \n",
       "242         242  female   group E           bachelor's degree      standard   \n",
       "302         302    male   group E           bachelor's degree      standard   \n",
       "388         388  female   group C          associate's degree      standard   \n",
       "389         389  female   group E          associate's degree      standard   \n",
       "398         398  female   group D            some high school      standard   \n",
       "432         432    male   group C          associate's degree      standard   \n",
       "450         450  female   group D                 high school      standard   \n",
       "477         477  female   group D                some college      standard   \n",
       "574         574  female   group C           bachelor's degree      standard   \n",
       "622         622  female   group E          associate's degree      standard   \n",
       "630         630  female   group E           bachelor's degree  free/reduced   \n",
       "\n",
       "    test preparation course  reading score  writing score  math score  \\\n",
       "69                completed             95            100          85   \n",
       "129               completed            100             97          92   \n",
       "134               completed             99            100          94   \n",
       "197                    none            100            100         100   \n",
       "222                    none            100            100          92   \n",
       "242               completed            100            100          99   \n",
       "302               completed            100            100         100   \n",
       "388               completed             96             99          96   \n",
       "389                    none            100            100         100   \n",
       "398               completed            100            100          97   \n",
       "432               completed            100             95          87   \n",
       "450               completed             99            100          88   \n",
       "477                    none            100             99          98   \n",
       "574               completed            100            100          96   \n",
       "622               completed            100             95          93   \n",
       "630               completed            100            100          92   \n",
       "\n",
       "           gender_lunch  ... satread_bins    satwrite satwrank satrrank  \\\n",
       "69   femalefree/reduced  ...   (650, 700]  707.073269    690.0    672.0   \n",
       "129      femalestandard  ...   (700, 750]  687.353794    684.0    688.0   \n",
       "134      femalestandard  ...   (700, 750]  707.073269    691.0    686.0   \n",
       "197      femalestandard  ...   (700, 750]  707.073269    692.0    689.0   \n",
       "222      femalestandard  ...   (700, 750]  707.073269    693.0    690.0   \n",
       "242      femalestandard  ...   (700, 750]  707.073269    694.0    691.0   \n",
       "302        malestandard  ...   (700, 750]  707.073269    695.0    693.0   \n",
       "388      femalestandard  ...   (650, 700]  700.500111    688.0    680.0   \n",
       "389      femalestandard  ...   (700, 750]  707.073269    696.0    694.0   \n",
       "398      femalestandard  ...   (700, 750]  707.073269    697.0    695.0   \n",
       "432        malestandard  ...   (700, 750]  674.207477    677.0    696.0   \n",
       "450      femalestandard  ...   (700, 750]  707.073269    698.0    687.0   \n",
       "477      femalestandard  ...   (700, 750]  700.500111    689.0    697.0   \n",
       "574      femalestandard  ...   (700, 750]  707.073269    699.0    698.0   \n",
       "622      femalestandard  ...   (700, 750]  674.207477    679.0    699.0   \n",
       "630  femalefree/reduced  ...   (700, 750]  707.073269    700.0    700.0   \n",
       "\n",
       "    satwrite_bins writerank readrank avgrank  read_meandev  write_meandev  \n",
       "69     (700, 800]     690.0    672.0   685.0     25.248571      31.502857  \n",
       "129    (600, 700]     684.0    688.0   689.0     30.248571      28.502857  \n",
       "134    (700, 800]     691.0    686.0   690.0     29.248571      31.502857  \n",
       "197    (700, 800]     692.0    689.0   693.0     30.248571      31.502857  \n",
       "222    (700, 800]     693.0    690.0   694.0     30.248571      31.502857  \n",
       "242    (700, 800]     694.0    691.0   695.0     30.248571      31.502857  \n",
       "302    (700, 800]     695.0    693.0   696.0     30.248571      31.502857  \n",
       "388    (700, 800]     688.0    680.0   686.0     26.248571      30.502857  \n",
       "389    (700, 800]     696.0    694.0   697.0     30.248571      31.502857  \n",
       "398    (700, 800]     697.0    695.0   698.0     30.248571      31.502857  \n",
       "432    (600, 700]     677.0    696.0   687.0     30.248571      26.502857  \n",
       "450    (700, 800]     698.0    687.0   691.0     29.248571      31.502857  \n",
       "477    (700, 800]     689.0    697.0   692.0     30.248571      30.502857  \n",
       "574    (700, 800]     699.0    698.0   699.0     30.248571      31.502857  \n",
       "622    (600, 700]     679.0    699.0   688.0     30.248571      26.502857  \n",
       "630    (700, 800]     700.0    700.0   700.0     30.248571      31.502857  \n",
       "\n",
       "[16 rows x 44 columns]"
      ]
     },
     "execution_count": 69,
     "metadata": {},
     "output_type": "execute_result"
    }
   ],
   "source": [
    "train[train['avg']>97]"
   ]
  },
  {
   "cell_type": "code",
   "execution_count": 70,
   "metadata": {
    "colab": {
     "base_uri": "https://localhost:8080/",
     "height": 354
    },
    "id": "LW4giWd-CW25",
    "outputId": "bd31a47e-bcac-498d-d2e0-f2180d5a4573"
   },
   "outputs": [
    {
     "data": {
      "text/html": [
       "<div>\n",
       "<style scoped>\n",
       "    .dataframe tbody tr th:only-of-type {\n",
       "        vertical-align: middle;\n",
       "    }\n",
       "\n",
       "    .dataframe tbody tr th {\n",
       "        vertical-align: top;\n",
       "    }\n",
       "\n",
       "    .dataframe thead th {\n",
       "        text-align: right;\n",
       "    }\n",
       "</style>\n",
       "<table border=\"1\" class=\"dataframe\">\n",
       "  <thead>\n",
       "    <tr style=\"text-align: right;\">\n",
       "      <th></th>\n",
       "      <th>Unnamed: 0</th>\n",
       "      <th>gender</th>\n",
       "      <th>ethnicity</th>\n",
       "      <th>parental level of education</th>\n",
       "      <th>lunch</th>\n",
       "      <th>test preparation course</th>\n",
       "      <th>reading score</th>\n",
       "      <th>writing score</th>\n",
       "      <th>gender_lunch</th>\n",
       "      <th>eth_lunch</th>\n",
       "      <th>...</th>\n",
       "      <th>zread</th>\n",
       "      <th>zwrite</th>\n",
       "      <th>readiq</th>\n",
       "      <th>writeiq</th>\n",
       "      <th>satread</th>\n",
       "      <th>satread_bins</th>\n",
       "      <th>satwrite</th>\n",
       "      <th>satrrank</th>\n",
       "      <th>satwrank</th>\n",
       "      <th>satwrite_bins</th>\n",
       "    </tr>\n",
       "  </thead>\n",
       "  <tbody>\n",
       "    <tr>\n",
       "      <th>133</th>\n",
       "      <td>133</td>\n",
       "      <td>female</td>\n",
       "      <td>group D</td>\n",
       "      <td>bachelor's degree</td>\n",
       "      <td>standard</td>\n",
       "      <td>none</td>\n",
       "      <td>100</td>\n",
       "      <td>100</td>\n",
       "      <td>femalestandard</td>\n",
       "      <td>standardgroup D</td>\n",
       "      <td>...</td>\n",
       "      <td>2.218784</td>\n",
       "      <td>2.187260</td>\n",
       "      <td>133.281756</td>\n",
       "      <td>132.808897</td>\n",
       "      <td>721.878374</td>\n",
       "      <td>(700, 750]</td>\n",
       "      <td>718.72598</td>\n",
       "      <td>297.0</td>\n",
       "      <td>298.0</td>\n",
       "      <td>(700, 800]</td>\n",
       "    </tr>\n",
       "    <tr>\n",
       "      <th>190</th>\n",
       "      <td>190</td>\n",
       "      <td>female</td>\n",
       "      <td>group C</td>\n",
       "      <td>bachelor's degree</td>\n",
       "      <td>standard</td>\n",
       "      <td>completed</td>\n",
       "      <td>100</td>\n",
       "      <td>99</td>\n",
       "      <td>femalestandard</td>\n",
       "      <td>standardgroup C</td>\n",
       "      <td>...</td>\n",
       "      <td>2.218784</td>\n",
       "      <td>2.120939</td>\n",
       "      <td>133.281756</td>\n",
       "      <td>131.814085</td>\n",
       "      <td>721.878374</td>\n",
       "      <td>(700, 750]</td>\n",
       "      <td>712.09390</td>\n",
       "      <td>298.0</td>\n",
       "      <td>296.0</td>\n",
       "      <td>(700, 800]</td>\n",
       "    </tr>\n",
       "    <tr>\n",
       "      <th>256</th>\n",
       "      <td>256</td>\n",
       "      <td>female</td>\n",
       "      <td>group D</td>\n",
       "      <td>bachelor's degree</td>\n",
       "      <td>free/reduced</td>\n",
       "      <td>completed</td>\n",
       "      <td>100</td>\n",
       "      <td>100</td>\n",
       "      <td>femalefree/reduced</td>\n",
       "      <td>free/reducedgroup D</td>\n",
       "      <td>...</td>\n",
       "      <td>2.218784</td>\n",
       "      <td>2.187260</td>\n",
       "      <td>133.281756</td>\n",
       "      <td>132.808897</td>\n",
       "      <td>721.878374</td>\n",
       "      <td>(700, 750]</td>\n",
       "      <td>718.72598</td>\n",
       "      <td>299.0</td>\n",
       "      <td>299.0</td>\n",
       "      <td>(700, 800]</td>\n",
       "    </tr>\n",
       "    <tr>\n",
       "      <th>298</th>\n",
       "      <td>298</td>\n",
       "      <td>female</td>\n",
       "      <td>group D</td>\n",
       "      <td>master's degree</td>\n",
       "      <td>standard</td>\n",
       "      <td>none</td>\n",
       "      <td>100</td>\n",
       "      <td>100</td>\n",
       "      <td>femalestandard</td>\n",
       "      <td>standardgroup D</td>\n",
       "      <td>...</td>\n",
       "      <td>2.218784</td>\n",
       "      <td>2.187260</td>\n",
       "      <td>133.281756</td>\n",
       "      <td>132.808897</td>\n",
       "      <td>721.878374</td>\n",
       "      <td>(700, 750]</td>\n",
       "      <td>718.72598</td>\n",
       "      <td>300.0</td>\n",
       "      <td>300.0</td>\n",
       "      <td>(700, 800]</td>\n",
       "    </tr>\n",
       "  </tbody>\n",
       "</table>\n",
       "<p>4 rows × 27 columns</p>\n",
       "</div>"
      ],
      "text/plain": [
       "     Unnamed: 0  gender ethnicity parental level of education         lunch  \\\n",
       "133         133  female   group D           bachelor's degree      standard   \n",
       "190         190  female   group C           bachelor's degree      standard   \n",
       "256         256  female   group D           bachelor's degree  free/reduced   \n",
       "298         298  female   group D             master's degree      standard   \n",
       "\n",
       "    test preparation course  reading score  writing score        gender_lunch  \\\n",
       "133                    none            100            100      femalestandard   \n",
       "190               completed            100             99      femalestandard   \n",
       "256               completed            100            100  femalefree/reduced   \n",
       "298                    none            100            100      femalestandard   \n",
       "\n",
       "               eth_lunch  ...     zread    zwrite      readiq     writeiq  \\\n",
       "133      standardgroup D  ...  2.218784  2.187260  133.281756  132.808897   \n",
       "190      standardgroup C  ...  2.218784  2.120939  133.281756  131.814085   \n",
       "256  free/reducedgroup D  ...  2.218784  2.187260  133.281756  132.808897   \n",
       "298      standardgroup D  ...  2.218784  2.187260  133.281756  132.808897   \n",
       "\n",
       "        satread satread_bins   satwrite  satrrank  satwrank  satwrite_bins  \n",
       "133  721.878374   (700, 750]  718.72598     297.0     298.0     (700, 800]  \n",
       "190  721.878374   (700, 750]  712.09390     298.0     296.0     (700, 800]  \n",
       "256  721.878374   (700, 750]  718.72598     299.0     299.0     (700, 800]  \n",
       "298  721.878374   (700, 750]  718.72598     300.0     300.0     (700, 800]  \n",
       "\n",
       "[4 rows x 27 columns]"
      ]
     },
     "execution_count": 70,
     "metadata": {},
     "output_type": "execute_result"
    }
   ],
   "source": [
    "test[test['reading score']>99]"
   ]
  },
  {
   "cell_type": "code",
   "execution_count": 71,
   "metadata": {
    "colab": {
     "base_uri": "https://localhost:8080/",
     "height": 290
    },
    "id": "LE4WL7StCW25",
    "outputId": "fe0e826b-7be7-4351-b265-4ea32f71a744"
   },
   "outputs": [
    {
     "data": {
      "text/html": [
       "<div>\n",
       "<style scoped>\n",
       "    .dataframe tbody tr th:only-of-type {\n",
       "        vertical-align: middle;\n",
       "    }\n",
       "\n",
       "    .dataframe tbody tr th {\n",
       "        vertical-align: top;\n",
       "    }\n",
       "\n",
       "    .dataframe thead th {\n",
       "        text-align: right;\n",
       "    }\n",
       "</style>\n",
       "<table border=\"1\" class=\"dataframe\">\n",
       "  <thead>\n",
       "    <tr style=\"text-align: right;\">\n",
       "      <th></th>\n",
       "      <th>Unnamed: 0</th>\n",
       "      <th>gender</th>\n",
       "      <th>ethnicity</th>\n",
       "      <th>parental level of education</th>\n",
       "      <th>lunch</th>\n",
       "      <th>test preparation course</th>\n",
       "      <th>reading score</th>\n",
       "      <th>writing score</th>\n",
       "      <th>gender_lunch</th>\n",
       "      <th>eth_lunch</th>\n",
       "      <th>...</th>\n",
       "      <th>zread</th>\n",
       "      <th>zwrite</th>\n",
       "      <th>readiq</th>\n",
       "      <th>writeiq</th>\n",
       "      <th>satread</th>\n",
       "      <th>satread_bins</th>\n",
       "      <th>satwrite</th>\n",
       "      <th>satrrank</th>\n",
       "      <th>satwrank</th>\n",
       "      <th>satwrite_bins</th>\n",
       "    </tr>\n",
       "  </thead>\n",
       "  <tbody>\n",
       "    <tr>\n",
       "      <th>133</th>\n",
       "      <td>133</td>\n",
       "      <td>female</td>\n",
       "      <td>group D</td>\n",
       "      <td>bachelor's degree</td>\n",
       "      <td>standard</td>\n",
       "      <td>none</td>\n",
       "      <td>100</td>\n",
       "      <td>100</td>\n",
       "      <td>femalestandard</td>\n",
       "      <td>standardgroup D</td>\n",
       "      <td>...</td>\n",
       "      <td>2.218784</td>\n",
       "      <td>2.18726</td>\n",
       "      <td>133.281756</td>\n",
       "      <td>132.808897</td>\n",
       "      <td>721.878374</td>\n",
       "      <td>(700, 750]</td>\n",
       "      <td>718.72598</td>\n",
       "      <td>297.0</td>\n",
       "      <td>298.0</td>\n",
       "      <td>(700, 800]</td>\n",
       "    </tr>\n",
       "    <tr>\n",
       "      <th>256</th>\n",
       "      <td>256</td>\n",
       "      <td>female</td>\n",
       "      <td>group D</td>\n",
       "      <td>bachelor's degree</td>\n",
       "      <td>free/reduced</td>\n",
       "      <td>completed</td>\n",
       "      <td>100</td>\n",
       "      <td>100</td>\n",
       "      <td>femalefree/reduced</td>\n",
       "      <td>free/reducedgroup D</td>\n",
       "      <td>...</td>\n",
       "      <td>2.218784</td>\n",
       "      <td>2.18726</td>\n",
       "      <td>133.281756</td>\n",
       "      <td>132.808897</td>\n",
       "      <td>721.878374</td>\n",
       "      <td>(700, 750]</td>\n",
       "      <td>718.72598</td>\n",
       "      <td>299.0</td>\n",
       "      <td>299.0</td>\n",
       "      <td>(700, 800]</td>\n",
       "    </tr>\n",
       "    <tr>\n",
       "      <th>298</th>\n",
       "      <td>298</td>\n",
       "      <td>female</td>\n",
       "      <td>group D</td>\n",
       "      <td>master's degree</td>\n",
       "      <td>standard</td>\n",
       "      <td>none</td>\n",
       "      <td>100</td>\n",
       "      <td>100</td>\n",
       "      <td>femalestandard</td>\n",
       "      <td>standardgroup D</td>\n",
       "      <td>...</td>\n",
       "      <td>2.218784</td>\n",
       "      <td>2.18726</td>\n",
       "      <td>133.281756</td>\n",
       "      <td>132.808897</td>\n",
       "      <td>721.878374</td>\n",
       "      <td>(700, 750]</td>\n",
       "      <td>718.72598</td>\n",
       "      <td>300.0</td>\n",
       "      <td>300.0</td>\n",
       "      <td>(700, 800]</td>\n",
       "    </tr>\n",
       "  </tbody>\n",
       "</table>\n",
       "<p>3 rows × 27 columns</p>\n",
       "</div>"
      ],
      "text/plain": [
       "     Unnamed: 0  gender ethnicity parental level of education         lunch  \\\n",
       "133         133  female   group D           bachelor's degree      standard   \n",
       "256         256  female   group D           bachelor's degree  free/reduced   \n",
       "298         298  female   group D             master's degree      standard   \n",
       "\n",
       "    test preparation course  reading score  writing score        gender_lunch  \\\n",
       "133                    none            100            100      femalestandard   \n",
       "256               completed            100            100  femalefree/reduced   \n",
       "298                    none            100            100      femalestandard   \n",
       "\n",
       "               eth_lunch  ...     zread   zwrite      readiq     writeiq  \\\n",
       "133      standardgroup D  ...  2.218784  2.18726  133.281756  132.808897   \n",
       "256  free/reducedgroup D  ...  2.218784  2.18726  133.281756  132.808897   \n",
       "298      standardgroup D  ...  2.218784  2.18726  133.281756  132.808897   \n",
       "\n",
       "        satread satread_bins   satwrite  satrrank  satwrank  satwrite_bins  \n",
       "133  721.878374   (700, 750]  718.72598     297.0     298.0     (700, 800]  \n",
       "256  721.878374   (700, 750]  718.72598     299.0     299.0     (700, 800]  \n",
       "298  721.878374   (700, 750]  718.72598     300.0     300.0     (700, 800]  \n",
       "\n",
       "[3 rows x 27 columns]"
      ]
     },
     "execution_count": 71,
     "metadata": {},
     "output_type": "execute_result"
    }
   ],
   "source": [
    "test[test['writing score']>99]"
   ]
  },
  {
   "cell_type": "code",
   "execution_count": 72,
   "metadata": {
    "id": "NS-vcV9wCW25"
   },
   "outputs": [],
   "source": [
    "#train = train.drop(train.index[432])"
   ]
  },
  {
   "cell_type": "code",
   "execution_count": 73,
   "metadata": {
    "id": "zjdfKnhwCW25"
   },
   "outputs": [],
   "source": [
    "#train.loc[432,'math score'] = 'NaN'"
   ]
  },
  {
   "cell_type": "code",
   "execution_count": 74,
   "metadata": {
    "id": "4QKGMQaSCW25"
   },
   "outputs": [],
   "source": [
    "#train = train.drop(train.index[450])"
   ]
  },
  {
   "cell_type": "code",
   "execution_count": 75,
   "metadata": {
    "id": "MFnA7xI8CW25"
   },
   "outputs": [],
   "source": [
    "#train.loc[450,'math score'] = 'NaN'"
   ]
  },
  {
   "cell_type": "code",
   "execution_count": 76,
   "metadata": {
    "id": "t0uTsjfZCW25"
   },
   "outputs": [],
   "source": [
    "#train.isna().sum()"
   ]
  },
  {
   "cell_type": "code",
   "execution_count": 77,
   "metadata": {
    "id": "HQ-6hu8iCW26"
   },
   "outputs": [],
   "source": [
    "train['Reading_AvgStatus'] = np.where(train['reading score']<=69.75142857142858, 'F', 'P')"
   ]
  },
  {
   "cell_type": "code",
   "execution_count": 78,
   "metadata": {
    "colab": {
     "base_uri": "https://localhost:8080/"
    },
    "id": "zphD0c27CW26",
    "outputId": "23ce0197-7245-40e0-d3bf-efce08d68028"
   },
   "outputs": [
    {
     "data": {
      "text/plain": [
       "P    364\n",
       "F    335\n",
       "Name: Reading_AvgStatus, dtype: int64"
      ]
     },
     "execution_count": 78,
     "metadata": {},
     "output_type": "execute_result"
    }
   ],
   "source": [
    "train['Reading_AvgStatus'].value_counts()"
   ]
  },
  {
   "cell_type": "code",
   "execution_count": 79,
   "metadata": {
    "id": "OIUJ6dbBCW26"
   },
   "outputs": [],
   "source": [
    "train['Writing_AvgStatus'] = np.where(train['writing score']<=68.49714285714286, 'F', 'P')"
   ]
  },
  {
   "cell_type": "code",
   "execution_count": 80,
   "metadata": {
    "id": "rVGgcQhrCW26"
   },
   "outputs": [],
   "source": [
    "train['ReadCourse_Avg'] = train.apply(lambda x : 'CompleteFail' if x['Reading_AvgStatus'] == 'F' and  x['test preparation course'] == 'completed' else ( 'CompletePass' if x['Reading_AvgStatus'] == 'P' and  x['test preparation course'] == 'completed' else ('IncompletePass' if x['Reading_AvgStatus'] == 'P' and  x['test preparation course'] == 'none' else 'IncompleteFail')) , axis =1)"
   ]
  },
  {
   "cell_type": "code",
   "execution_count": 81,
   "metadata": {
    "id": "OTmJMy9PCW26"
   },
   "outputs": [],
   "source": [
    "train['WriteCourse_Avg'] = train.apply(lambda x : 'CompleteFail' if x['Writing_AvgStatus'] == 'F' and  x['test preparation course'] == 'completed' else ( 'CompletePass' if x['Writing_AvgStatus'] == 'P' and  x['test preparation course'] == 'completed' else ('IncompletePass' if x['Writing_AvgStatus'] == 'P' and  x['test preparation course'] == 'none' else 'IncompleteFail')) , axis =1)"
   ]
  },
  {
   "cell_type": "code",
   "execution_count": 82,
   "metadata": {
    "id": "GloOFgpUCW26"
   },
   "outputs": [],
   "source": [
    "train['OverAll_PassStatus'] = train.apply(lambda x : 'F' if x['Reading_AvgStatus'] == 'F' or x['Writing_AvgStatus'] == 'F' else 'P', axis =1)"
   ]
  },
  {
   "cell_type": "code",
   "execution_count": 83,
   "metadata": {
    "colab": {
     "base_uri": "https://localhost:8080/"
    },
    "id": "FYTkKI-dCW27",
    "outputId": "d6749d85-5532-44ea-b32d-594cdb2abc2d"
   },
   "outputs": [
    {
     "data": {
      "text/plain": [
       "IncompleteFail    252\n",
       "IncompletePass    203\n",
       "CompletePass      161\n",
       "CompleteFail       83\n",
       "Name: ReadCourse_Avg, dtype: int64"
      ]
     },
     "execution_count": 83,
     "metadata": {},
     "output_type": "execute_result"
    }
   ],
   "source": [
    "train['ReadCourse_Avg'].value_counts()"
   ]
  },
  {
   "cell_type": "code",
   "execution_count": 84,
   "metadata": {
    "colab": {
     "base_uri": "https://localhost:8080/"
    },
    "id": "VSHjZOawCW27",
    "outputId": "6d09c8c1-b654-4703-8b35-658a742b2622"
   },
   "outputs": [
    {
     "data": {
      "text/plain": [
       "IncompleteFail    258\n",
       "IncompletePass    197\n",
       "CompletePass      172\n",
       "CompleteFail       72\n",
       "Name: WriteCourse_Avg, dtype: int64"
      ]
     },
     "execution_count": 84,
     "metadata": {},
     "output_type": "execute_result"
    }
   ],
   "source": [
    "train['WriteCourse_Avg'].value_counts()"
   ]
  },
  {
   "cell_type": "code",
   "execution_count": 85,
   "metadata": {
    "colab": {
     "base_uri": "https://localhost:8080/",
     "height": 434
    },
    "id": "9rQ3pX4FCW27",
    "outputId": "d1fa1eb8-0465-44a4-e03b-5c35ff38c657"
   },
   "outputs": [
    {
     "data": {
      "text/html": [
       "<div>\n",
       "<style scoped>\n",
       "    .dataframe tbody tr th:only-of-type {\n",
       "        vertical-align: middle;\n",
       "    }\n",
       "\n",
       "    .dataframe tbody tr th {\n",
       "        vertical-align: top;\n",
       "    }\n",
       "\n",
       "    .dataframe thead th {\n",
       "        text-align: right;\n",
       "    }\n",
       "</style>\n",
       "<table border=\"1\" class=\"dataframe\">\n",
       "  <thead>\n",
       "    <tr style=\"text-align: right;\">\n",
       "      <th></th>\n",
       "      <th>Unnamed: 0</th>\n",
       "      <th>gender</th>\n",
       "      <th>ethnicity</th>\n",
       "      <th>parental level of education</th>\n",
       "      <th>lunch</th>\n",
       "      <th>test preparation course</th>\n",
       "      <th>reading score</th>\n",
       "      <th>writing score</th>\n",
       "      <th>math score</th>\n",
       "      <th>gender_lunch</th>\n",
       "      <th>...</th>\n",
       "      <th>writerank</th>\n",
       "      <th>readrank</th>\n",
       "      <th>avgrank</th>\n",
       "      <th>read_meandev</th>\n",
       "      <th>write_meandev</th>\n",
       "      <th>Reading_AvgStatus</th>\n",
       "      <th>Writing_AvgStatus</th>\n",
       "      <th>ReadCourse_Avg</th>\n",
       "      <th>WriteCourse_Avg</th>\n",
       "      <th>OverAll_PassStatus</th>\n",
       "    </tr>\n",
       "  </thead>\n",
       "  <tbody>\n",
       "    <tr>\n",
       "      <th>0</th>\n",
       "      <td>0</td>\n",
       "      <td>male</td>\n",
       "      <td>group C</td>\n",
       "      <td>some college</td>\n",
       "      <td>standard</td>\n",
       "      <td>none</td>\n",
       "      <td>61</td>\n",
       "      <td>62</td>\n",
       "      <td>61</td>\n",
       "      <td>malestandard</td>\n",
       "      <td>...</td>\n",
       "      <td>222.0</td>\n",
       "      <td>187.0</td>\n",
       "      <td>206.0</td>\n",
       "      <td>-8.751429</td>\n",
       "      <td>-6.497143</td>\n",
       "      <td>F</td>\n",
       "      <td>F</td>\n",
       "      <td>IncompleteFail</td>\n",
       "      <td>IncompleteFail</td>\n",
       "      <td>F</td>\n",
       "    </tr>\n",
       "    <tr>\n",
       "      <th>1</th>\n",
       "      <td>1</td>\n",
       "      <td>female</td>\n",
       "      <td>group C</td>\n",
       "      <td>associate's degree</td>\n",
       "      <td>standard</td>\n",
       "      <td>none</td>\n",
       "      <td>62</td>\n",
       "      <td>53</td>\n",
       "      <td>53</td>\n",
       "      <td>femalestandard</td>\n",
       "      <td>...</td>\n",
       "      <td>108.0</td>\n",
       "      <td>202.0</td>\n",
       "      <td>158.0</td>\n",
       "      <td>-7.751429</td>\n",
       "      <td>-15.497143</td>\n",
       "      <td>F</td>\n",
       "      <td>F</td>\n",
       "      <td>IncompleteFail</td>\n",
       "      <td>IncompleteFail</td>\n",
       "      <td>F</td>\n",
       "    </tr>\n",
       "    <tr>\n",
       "      <th>2</th>\n",
       "      <td>2</td>\n",
       "      <td>female</td>\n",
       "      <td>group C</td>\n",
       "      <td>some college</td>\n",
       "      <td>free/reduced</td>\n",
       "      <td>completed</td>\n",
       "      <td>75</td>\n",
       "      <td>70</td>\n",
       "      <td>67</td>\n",
       "      <td>femalefree/reduced</td>\n",
       "      <td>...</td>\n",
       "      <td>347.0</td>\n",
       "      <td>434.0</td>\n",
       "      <td>400.0</td>\n",
       "      <td>5.248571</td>\n",
       "      <td>1.502857</td>\n",
       "      <td>P</td>\n",
       "      <td>P</td>\n",
       "      <td>CompletePass</td>\n",
       "      <td>CompletePass</td>\n",
       "      <td>P</td>\n",
       "    </tr>\n",
       "    <tr>\n",
       "      <th>3</th>\n",
       "      <td>3</td>\n",
       "      <td>male</td>\n",
       "      <td>group C</td>\n",
       "      <td>some high school</td>\n",
       "      <td>free/reduced</td>\n",
       "      <td>none</td>\n",
       "      <td>76</td>\n",
       "      <td>65</td>\n",
       "      <td>79</td>\n",
       "      <td>malefree/reduced</td>\n",
       "      <td>...</td>\n",
       "      <td>265.0</td>\n",
       "      <td>453.0</td>\n",
       "      <td>356.0</td>\n",
       "      <td>6.248571</td>\n",
       "      <td>-3.497143</td>\n",
       "      <td>P</td>\n",
       "      <td>F</td>\n",
       "      <td>IncompletePass</td>\n",
       "      <td>IncompleteFail</td>\n",
       "      <td>F</td>\n",
       "    </tr>\n",
       "    <tr>\n",
       "      <th>4</th>\n",
       "      <td>4</td>\n",
       "      <td>male</td>\n",
       "      <td>group A</td>\n",
       "      <td>high school</td>\n",
       "      <td>free/reduced</td>\n",
       "      <td>none</td>\n",
       "      <td>58</td>\n",
       "      <td>44</td>\n",
       "      <td>53</td>\n",
       "      <td>malefree/reduced</td>\n",
       "      <td>...</td>\n",
       "      <td>40.0</td>\n",
       "      <td>143.0</td>\n",
       "      <td>75.0</td>\n",
       "      <td>-11.751429</td>\n",
       "      <td>-24.497143</td>\n",
       "      <td>F</td>\n",
       "      <td>F</td>\n",
       "      <td>IncompleteFail</td>\n",
       "      <td>IncompleteFail</td>\n",
       "      <td>F</td>\n",
       "    </tr>\n",
       "  </tbody>\n",
       "</table>\n",
       "<p>5 rows × 49 columns</p>\n",
       "</div>"
      ],
      "text/plain": [
       "   Unnamed: 0  gender ethnicity parental level of education         lunch  \\\n",
       "0           0    male   group C                some college      standard   \n",
       "1           1  female   group C          associate's degree      standard   \n",
       "2           2  female   group C                some college  free/reduced   \n",
       "3           3    male   group C            some high school  free/reduced   \n",
       "4           4    male   group A                 high school  free/reduced   \n",
       "\n",
       "  test preparation course  reading score  writing score  math score  \\\n",
       "0                    none             61             62          61   \n",
       "1                    none             62             53          53   \n",
       "2               completed             75             70          67   \n",
       "3                    none             76             65          79   \n",
       "4                    none             58             44          53   \n",
       "\n",
       "         gender_lunch  ... writerank readrank avgrank read_meandev  \\\n",
       "0        malestandard  ...     222.0    187.0   206.0    -8.751429   \n",
       "1      femalestandard  ...     108.0    202.0   158.0    -7.751429   \n",
       "2  femalefree/reduced  ...     347.0    434.0   400.0     5.248571   \n",
       "3    malefree/reduced  ...     265.0    453.0   356.0     6.248571   \n",
       "4    malefree/reduced  ...      40.0    143.0    75.0   -11.751429   \n",
       "\n",
       "  write_meandev Reading_AvgStatus Writing_AvgStatus  ReadCourse_Avg  \\\n",
       "0     -6.497143                 F                 F  IncompleteFail   \n",
       "1    -15.497143                 F                 F  IncompleteFail   \n",
       "2      1.502857                 P                 P    CompletePass   \n",
       "3     -3.497143                 P                 F  IncompletePass   \n",
       "4    -24.497143                 F                 F  IncompleteFail   \n",
       "\n",
       "   WriteCourse_Avg  OverAll_PassStatus  \n",
       "0   IncompleteFail                   F  \n",
       "1   IncompleteFail                   F  \n",
       "2     CompletePass                   P  \n",
       "3   IncompleteFail                   F  \n",
       "4   IncompleteFail                   F  \n",
       "\n",
       "[5 rows x 49 columns]"
      ]
     },
     "execution_count": 85,
     "metadata": {},
     "output_type": "execute_result"
    }
   ],
   "source": [
    "train.head()"
   ]
  },
  {
   "cell_type": "code",
   "execution_count": 86,
   "metadata": {
    "id": "-_XKjaXnCW27"
   },
   "outputs": [],
   "source": [
    "train['rwr'] = train['writing score ^2']/train['reading score ^2']"
   ]
  },
  {
   "cell_type": "code",
   "execution_count": 87,
   "metadata": {
    "id": "aAfVoaiTCW27"
   },
   "outputs": [],
   "source": [
    "train['Ethinicity_Gen'] = train.apply(lambda x : 'GroupAMale' if x['ethnicity'] == 'group A' and  x['gender'] == 'male' else ('GroupAFemale' if x['ethnicity'] == 'group A' and  x['gender'] == 'female' else ('GroupBMale' if x['ethnicity'] == 'group B' and  x['gender'] == 'male'else ('GroupBFemale' if x['ethnicity'] == 'group B' and  x['gender'] == 'female' else ('GroupCMale' if x['ethnicity'] == 'group C' and  x['gender'] == 'male' else ('GroupCFemale' if x['ethnicity'] == 'group C' and  x['gender'] == 'female' else ('GroupDMale' if x['ethnicity'] == 'group D' and  x['gender'] == 'male' else ('GroupDFemale' if x['ethnicity'] == 'group D' and  x['gender'] == 'female' else ('GroupEFemale' if x['ethnicity'] == 'group E' and  x['gender'] == 'female' else 'GroupEMale')))))))), axis =1)"
   ]
  },
  {
   "cell_type": "code",
   "execution_count": 88,
   "metadata": {
    "id": "vmosGhhyCW27"
   },
   "outputs": [],
   "source": [
    "train['Ethinicity_lunch'] = train.apply(lambda x : 'GroupAstd' if x['ethnicity'] == 'group A' and  x['lunch'] == 'standard' else ('GroupAfree' if x['ethnicity'] == 'group A' and  x['lunch'] == 'free/reduced' else ('GroupBstd' if x['ethnicity'] == 'group B' and  x['lunch'] == 'standard'else ('GroupBfree' if x['ethnicity'] == 'group B' and  x['lunch'] == 'free/reduced' else ('GroupCstd' if x['ethnicity'] == 'group C' and  x['lunch'] == 'standard' else ('GroupCfree' if x['ethnicity'] == 'group C' and  x['lunch'] == 'free/reduced' else ('GroupDstd' if x['ethnicity'] == 'group D' and  x['lunch'] == 'standard' else ('GroupDfree' if x['ethnicity'] == 'group D' and  x['lunch'] == 'free/reduced' else ('GroupEstd' if x['ethnicity'] == 'group E' and  x['lunch'] == 'standard' else 'GroupEfree')))))))), axis =1)"
   ]
  },
  {
   "cell_type": "code",
   "execution_count": 89,
   "metadata": {
    "colab": {
     "base_uri": "https://localhost:8080/"
    },
    "id": "QMaDjIpdCW28",
    "outputId": "99f64b17-5ff2-4964-d895-86fff0faa1bf"
   },
   "outputs": [
    {
     "data": {
      "text/plain": [
       "GroupCstd     144\n",
       "GroupDstd     119\n",
       "GroupBstd      89\n",
       "GroupCfree     75\n",
       "GroupEstd      67\n",
       "GroupDfree     65\n",
       "GroupBfree     51\n",
       "GroupAstd      35\n",
       "GroupEfree     31\n",
       "GroupAfree     23\n",
       "Name: Ethinicity_lunch, dtype: int64"
      ]
     },
     "execution_count": 89,
     "metadata": {},
     "output_type": "execute_result"
    }
   ],
   "source": [
    "train['Ethinicity_lunch'].value_counts()"
   ]
  },
  {
   "cell_type": "code",
   "execution_count": 90,
   "metadata": {
    "colab": {
     "base_uri": "https://localhost:8080/"
    },
    "id": "1jaT_NDcCW28",
    "outputId": "1002795a-14fb-4474-de2f-d6ded2014695"
   },
   "outputs": [
    {
     "data": {
      "text/plain": [
       "GroupCFemale    127\n",
       "GroupDFemale     96\n",
       "GroupCMale       92\n",
       "GroupDMale       88\n",
       "GroupBFemale     76\n",
       "GroupBMale       64\n",
       "GroupEMale       51\n",
       "GroupEFemale     47\n",
       "GroupAMale       38\n",
       "GroupAFemale     20\n",
       "Name: Ethinicity_Gen, dtype: int64"
      ]
     },
     "execution_count": 90,
     "metadata": {},
     "output_type": "execute_result"
    }
   ],
   "source": [
    "train['Ethinicity_Gen'].value_counts()"
   ]
  },
  {
   "cell_type": "code",
   "execution_count": 91,
   "metadata": {
    "colab": {
     "base_uri": "https://localhost:8080/"
    },
    "id": "_U_Tzr03CW28",
    "outputId": "f97ce88a-f94f-441f-c51b-2f6092570654"
   },
   "outputs": [
    {
     "data": {
      "text/plain": [
       "some college          175\n",
       "associate's degree    138\n",
       "high school           133\n",
       "some high school      129\n",
       "bachelor's degree      81\n",
       "master's degree        43\n",
       "Name: parental level of education, dtype: int64"
      ]
     },
     "execution_count": 91,
     "metadata": {},
     "output_type": "execute_result"
    }
   ],
   "source": [
    "train['parental level of education'].value_counts()"
   ]
  },
  {
   "cell_type": "code",
   "execution_count": 92,
   "metadata": {
    "id": "9Iu5tKKACW28"
   },
   "outputs": [],
   "source": [
    "train['Parent Degree'] = train.apply(lambda x : 'Graduate' if x['parental level of education'] == \"master's degree\" or  x['parental level of education'] == \"bachelor's degree\" or x['parental level of education'] == \"associate's degree\" else ( 'NotGrad' ), axis =1)"
   ]
  },
  {
   "cell_type": "code",
   "execution_count": 93,
   "metadata": {
    "id": "tGc59LnuCW28"
   },
   "outputs": [],
   "source": [
    "def define_grades(avg):\n",
    "    if avg <= 39:\n",
    "        return 'F'\n",
    "    elif avg >= 40 and avg <= 50:\n",
    "        return 'E'\n",
    "    elif avg >= 51 and avg <= 60:\n",
    "        return 'D'\n",
    "    elif avg >= 61 and avg <= 70:\n",
    "        return 'C'\n",
    "    elif avg >= 71 and avg <= 80:\n",
    "        return 'B'\n",
    "    elif avg >= 81 and avg <= 90:\n",
    "        return 'A'\n",
    "    elif avg >= 91 and avg <= 100:\n",
    "        return 'A+'\n",
    "    else:\n",
    "        return ''"
   ]
  },
  {
   "cell_type": "code",
   "execution_count": 94,
   "metadata": {
    "colab": {
     "base_uri": "https://localhost:8080/",
     "height": 434
    },
    "id": "oF-aPQ-xCW29",
    "outputId": "666ac0ab-0b41-459f-ceaf-6e951fa351f0"
   },
   "outputs": [
    {
     "data": {
      "text/html": [
       "<div>\n",
       "<style scoped>\n",
       "    .dataframe tbody tr th:only-of-type {\n",
       "        vertical-align: middle;\n",
       "    }\n",
       "\n",
       "    .dataframe tbody tr th {\n",
       "        vertical-align: top;\n",
       "    }\n",
       "\n",
       "    .dataframe thead th {\n",
       "        text-align: right;\n",
       "    }\n",
       "</style>\n",
       "<table border=\"1\" class=\"dataframe\">\n",
       "  <thead>\n",
       "    <tr style=\"text-align: right;\">\n",
       "      <th></th>\n",
       "      <th>Unnamed: 0</th>\n",
       "      <th>gender</th>\n",
       "      <th>ethnicity</th>\n",
       "      <th>parental level of education</th>\n",
       "      <th>lunch</th>\n",
       "      <th>test preparation course</th>\n",
       "      <th>reading score</th>\n",
       "      <th>writing score</th>\n",
       "      <th>math score</th>\n",
       "      <th>gender_lunch</th>\n",
       "      <th>...</th>\n",
       "      <th>Reading_AvgStatus</th>\n",
       "      <th>Writing_AvgStatus</th>\n",
       "      <th>ReadCourse_Avg</th>\n",
       "      <th>WriteCourse_Avg</th>\n",
       "      <th>OverAll_PassStatus</th>\n",
       "      <th>rwr</th>\n",
       "      <th>Ethinicity_Gen</th>\n",
       "      <th>Ethinicity_lunch</th>\n",
       "      <th>Parent Degree</th>\n",
       "      <th>grades</th>\n",
       "    </tr>\n",
       "  </thead>\n",
       "  <tbody>\n",
       "    <tr>\n",
       "      <th>0</th>\n",
       "      <td>0</td>\n",
       "      <td>male</td>\n",
       "      <td>group C</td>\n",
       "      <td>some college</td>\n",
       "      <td>standard</td>\n",
       "      <td>none</td>\n",
       "      <td>61</td>\n",
       "      <td>62</td>\n",
       "      <td>61</td>\n",
       "      <td>malestandard</td>\n",
       "      <td>...</td>\n",
       "      <td>F</td>\n",
       "      <td>F</td>\n",
       "      <td>IncompleteFail</td>\n",
       "      <td>IncompleteFail</td>\n",
       "      <td>F</td>\n",
       "      <td>1.033056</td>\n",
       "      <td>GroupCMale</td>\n",
       "      <td>GroupCstd</td>\n",
       "      <td>NotGrad</td>\n",
       "      <td>C</td>\n",
       "    </tr>\n",
       "    <tr>\n",
       "      <th>1</th>\n",
       "      <td>1</td>\n",
       "      <td>female</td>\n",
       "      <td>group C</td>\n",
       "      <td>associate's degree</td>\n",
       "      <td>standard</td>\n",
       "      <td>none</td>\n",
       "      <td>62</td>\n",
       "      <td>53</td>\n",
       "      <td>53</td>\n",
       "      <td>femalestandard</td>\n",
       "      <td>...</td>\n",
       "      <td>F</td>\n",
       "      <td>F</td>\n",
       "      <td>IncompleteFail</td>\n",
       "      <td>IncompleteFail</td>\n",
       "      <td>F</td>\n",
       "      <td>0.730749</td>\n",
       "      <td>GroupCFemale</td>\n",
       "      <td>GroupCstd</td>\n",
       "      <td>Graduate</td>\n",
       "      <td>D</td>\n",
       "    </tr>\n",
       "    <tr>\n",
       "      <th>2</th>\n",
       "      <td>2</td>\n",
       "      <td>female</td>\n",
       "      <td>group C</td>\n",
       "      <td>some college</td>\n",
       "      <td>free/reduced</td>\n",
       "      <td>completed</td>\n",
       "      <td>75</td>\n",
       "      <td>70</td>\n",
       "      <td>67</td>\n",
       "      <td>femalefree/reduced</td>\n",
       "      <td>...</td>\n",
       "      <td>P</td>\n",
       "      <td>P</td>\n",
       "      <td>CompletePass</td>\n",
       "      <td>CompletePass</td>\n",
       "      <td>P</td>\n",
       "      <td>0.871111</td>\n",
       "      <td>GroupCFemale</td>\n",
       "      <td>GroupCfree</td>\n",
       "      <td>NotGrad</td>\n",
       "      <td>B</td>\n",
       "    </tr>\n",
       "    <tr>\n",
       "      <th>3</th>\n",
       "      <td>3</td>\n",
       "      <td>male</td>\n",
       "      <td>group C</td>\n",
       "      <td>some high school</td>\n",
       "      <td>free/reduced</td>\n",
       "      <td>none</td>\n",
       "      <td>76</td>\n",
       "      <td>65</td>\n",
       "      <td>79</td>\n",
       "      <td>malefree/reduced</td>\n",
       "      <td>...</td>\n",
       "      <td>P</td>\n",
       "      <td>F</td>\n",
       "      <td>IncompletePass</td>\n",
       "      <td>IncompleteFail</td>\n",
       "      <td>F</td>\n",
       "      <td>0.731475</td>\n",
       "      <td>GroupCMale</td>\n",
       "      <td>GroupCfree</td>\n",
       "      <td>NotGrad</td>\n",
       "      <td></td>\n",
       "    </tr>\n",
       "    <tr>\n",
       "      <th>4</th>\n",
       "      <td>4</td>\n",
       "      <td>male</td>\n",
       "      <td>group A</td>\n",
       "      <td>high school</td>\n",
       "      <td>free/reduced</td>\n",
       "      <td>none</td>\n",
       "      <td>58</td>\n",
       "      <td>44</td>\n",
       "      <td>53</td>\n",
       "      <td>malefree/reduced</td>\n",
       "      <td>...</td>\n",
       "      <td>F</td>\n",
       "      <td>F</td>\n",
       "      <td>IncompleteFail</td>\n",
       "      <td>IncompleteFail</td>\n",
       "      <td>F</td>\n",
       "      <td>0.575505</td>\n",
       "      <td>GroupAMale</td>\n",
       "      <td>GroupAfree</td>\n",
       "      <td>NotGrad</td>\n",
       "      <td>D</td>\n",
       "    </tr>\n",
       "  </tbody>\n",
       "</table>\n",
       "<p>5 rows × 54 columns</p>\n",
       "</div>"
      ],
      "text/plain": [
       "   Unnamed: 0  gender ethnicity parental level of education         lunch  \\\n",
       "0           0    male   group C                some college      standard   \n",
       "1           1  female   group C          associate's degree      standard   \n",
       "2           2  female   group C                some college  free/reduced   \n",
       "3           3    male   group C            some high school  free/reduced   \n",
       "4           4    male   group A                 high school  free/reduced   \n",
       "\n",
       "  test preparation course  reading score  writing score  math score  \\\n",
       "0                    none             61             62          61   \n",
       "1                    none             62             53          53   \n",
       "2               completed             75             70          67   \n",
       "3                    none             76             65          79   \n",
       "4                    none             58             44          53   \n",
       "\n",
       "         gender_lunch  ... Reading_AvgStatus Writing_AvgStatus  \\\n",
       "0        malestandard  ...                 F                 F   \n",
       "1      femalestandard  ...                 F                 F   \n",
       "2  femalefree/reduced  ...                 P                 P   \n",
       "3    malefree/reduced  ...                 P                 F   \n",
       "4    malefree/reduced  ...                 F                 F   \n",
       "\n",
       "   ReadCourse_Avg WriteCourse_Avg OverAll_PassStatus       rwr Ethinicity_Gen  \\\n",
       "0  IncompleteFail  IncompleteFail                  F  1.033056     GroupCMale   \n",
       "1  IncompleteFail  IncompleteFail                  F  0.730749   GroupCFemale   \n",
       "2    CompletePass    CompletePass                  P  0.871111   GroupCFemale   \n",
       "3  IncompletePass  IncompleteFail                  F  0.731475     GroupCMale   \n",
       "4  IncompleteFail  IncompleteFail                  F  0.575505     GroupAMale   \n",
       "\n",
       "  Ethinicity_lunch  Parent Degree  grades  \n",
       "0        GroupCstd        NotGrad       C  \n",
       "1        GroupCstd       Graduate       D  \n",
       "2       GroupCfree        NotGrad       B  \n",
       "3       GroupCfree        NotGrad          \n",
       "4       GroupAfree        NotGrad       D  \n",
       "\n",
       "[5 rows x 54 columns]"
      ]
     },
     "execution_count": 94,
     "metadata": {},
     "output_type": "execute_result"
    }
   ],
   "source": [
    "train['grades'] = train['avg'].apply(lambda x : define_grades(x))\n",
    "train.head()"
   ]
  },
  {
   "cell_type": "code",
   "execution_count": 95,
   "metadata": {
    "colab": {
     "base_uri": "https://localhost:8080/",
     "height": 296
    },
    "id": "FCNPkxwpCW29",
    "outputId": "9b913678-bb05-467e-f03d-c003df73773f"
   },
   "outputs": [
    {
     "data": {
      "text/plain": [
       "<matplotlib.axes._subplots.AxesSubplot at 0x21a3ac8fe48>"
      ]
     },
     "execution_count": 95,
     "metadata": {},
     "output_type": "execute_result"
    },
    {
     "data": {
      "image/png": "[encoded data removed]",
      "text/plain": [
       "<Figure size 432x288 with 1 Axes>"
      ]
     },
     "metadata": {
      "needs_background": "light"
     },
     "output_type": "display_data"
    }
   ],
   "source": [
    "sns.countplot(x= 'ethnicity', hue= 'parental level of education', data= train)"
   ]
  },
  {
   "cell_type": "code",
   "execution_count": 96,
   "metadata": {
    "colab": {
     "base_uri": "https://localhost:8080/",
     "height": 296
    },
    "id": "DtV0SzsDCW29",
    "outputId": "54ebd4ac-818c-48ab-df17-50d2644ba982"
   },
   "outputs": [
    {
     "data": {
      "text/plain": [
       "<matplotlib.axes._subplots.AxesSubplot at 0x21a3acf4088>"
      ]
     },
     "execution_count": 96,
     "metadata": {},
     "output_type": "execute_result"
    },
    {
     "data": {
      "image/png": "[encoded data removed]",
      "text/plain": [
       "<Figure size 432x288 with 1 Axes>"
      ]
     },
     "metadata": {
      "needs_background": "light"
     },
     "output_type": "display_data"
    }
   ],
   "source": [
    "sns.countplot(x= 'ethnicity', hue= 'gender', data= train)"
   ]
  },
  {
   "cell_type": "code",
   "execution_count": 97,
   "metadata": {
    "colab": {
     "base_uri": "https://localhost:8080/",
     "height": 296
    },
    "id": "rwto8oyMCW29",
    "outputId": "c9474f32-f8f7-4f0f-989d-b28ecfafce11"
   },
   "outputs": [
    {
     "data": {
      "text/plain": [
       "<matplotlib.axes._subplots.AxesSubplot at 0x21a3adc6e88>"
      ]
     },
     "execution_count": 97,
     "metadata": {},
     "output_type": "execute_result"
    },
    {
     "data": {
      "image/png": "[encoded data removed]",
      "text/plain": [
       "<Figure size 432x288 with 1 Axes>"
      ]
     },
     "metadata": {
      "needs_background": "light"
     },
     "output_type": "display_data"
    }
   ],
   "source": [
    "sns.countplot(x= 'ethnicity', hue= 'lunch', data= train)"
   ]
  },
  {
   "cell_type": "code",
   "execution_count": 98,
   "metadata": {
    "id": "SqrCmb8eCW29"
   },
   "outputs": [],
   "source": [
    "#Approx calcs from graph\n",
    "#Grp c - 70 free, 140 std - 1:2 free:std\n",
    "#grp a - 25 free, 30 std - 5:6 free : Std\n",
    "#grp e - 30 free, 70 std   3:7 free:std\n",
    "#grp b - 50 free, 90 std\n",
    "#grp d - 120 std, 70 free"
   ]
  },
  {
   "cell_type": "code",
   "execution_count": 99,
   "metadata": {
    "colab": {
     "base_uri": "https://localhost:8080/"
    },
    "id": "CPLZ-wAdCW2-",
    "outputId": "08da92de-60b1-4630-ce2f-af3f3f330353"
   },
   "outputs": [
    {
     "data": {
      "text/plain": [
       "Unnamed: 0                       0\n",
       "gender                           0\n",
       "ethnicity                        0\n",
       "parental level of education      0\n",
       "lunch                            0\n",
       "test preparation course          0\n",
       "reading score                    0\n",
       "writing score                    0\n",
       "math score                       0\n",
       "gender_lunch                     0\n",
       "eth_lunch                        0\n",
       "gen_test                         0\n",
       "geneth                           0\n",
       "genp                             0\n",
       "testeth                          0\n",
       "ethp                             0\n",
       "lunchp                           0\n",
       "testp                            0\n",
       "reading score ^2                 0\n",
       "writing score ^2                 0\n",
       "reading score x writing score    0\n",
       "reading score ^3                 0\n",
       "writing score ^3                 0\n",
       "zread                            0\n",
       "zwrite                           0\n",
       "readiq                           0\n",
       "writeiq                          0\n",
       "avg                              0\n",
       "zavg                             0\n",
       "avgiq                            0\n",
       "readexpmean                      0\n",
       "writeexpmean                     0\n",
       "avgexpmean                       0\n",
       "satread                          0\n",
       "satread_bins                     0\n",
       "satwrite                         0\n",
       "satwrank                         0\n",
       "satrrank                         0\n",
       "satwrite_bins                    0\n",
       "writerank                        0\n",
       "readrank                         0\n",
       "avgrank                          0\n",
       "read_meandev                     0\n",
       "write_meandev                    0\n",
       "Reading_AvgStatus                0\n",
       "Writing_AvgStatus                0\n",
       "ReadCourse_Avg                   0\n",
       "WriteCourse_Avg                  0\n",
       "OverAll_PassStatus               0\n",
       "rwr                              0\n",
       "Ethinicity_Gen                   0\n",
       "Ethinicity_lunch                 0\n",
       "Parent Degree                    0\n",
       "grades                           0\n",
       "dtype: int64"
      ]
     },
     "execution_count": 99,
     "metadata": {},
     "output_type": "execute_result"
    }
   ],
   "source": [
    "train.isna().sum()"
   ]
  },
  {
   "cell_type": "code",
   "execution_count": 100,
   "metadata": {
    "colab": {
     "base_uri": "https://localhost:8080/"
    },
    "id": "MHoxR7qqCW2-",
    "outputId": "3f585108-29e2-4db9-8a1e-ff9dd64f3d49"
   },
   "outputs": [
    {
     "data": {
      "text/plain": [
       "group C    219\n",
       "group D    184\n",
       "group B    140\n",
       "group E     98\n",
       "group A     58\n",
       "Name: ethnicity, dtype: int64"
      ]
     },
     "execution_count": 100,
     "metadata": {},
     "output_type": "execute_result"
    }
   ],
   "source": [
    "train['ethnicity'].value_counts()"
   ]
  },
  {
   "cell_type": "code",
   "execution_count": 101,
   "metadata": {
    "colab": {
     "base_uri": "https://localhost:8080/"
    },
    "id": "YWgVRKQZCW2-",
    "outputId": "b7140156-130e-48e0-e79f-c26397c8455c"
   },
   "outputs": [
    {
     "data": {
      "text/plain": [
       "none         455\n",
       "completed    244\n",
       "Name: test preparation course, dtype: int64"
      ]
     },
     "execution_count": 101,
     "metadata": {},
     "output_type": "execute_result"
    }
   ],
   "source": [
    "train['test preparation course'].value_counts()"
   ]
  },
  {
   "cell_type": "code",
   "execution_count": 102,
   "metadata": {
    "colab": {
     "base_uri": "https://localhost:8080/"
    },
    "id": "UfbXKi9wCW2-",
    "outputId": "d6db295c-7152-4cc4-833e-dc828b5a5c3c"
   },
   "outputs": [
    {
     "data": {
      "text/plain": [
       "some college          175\n",
       "associate's degree    138\n",
       "high school           133\n",
       "some high school      129\n",
       "bachelor's degree      81\n",
       "master's degree        43\n",
       "Name: parental level of education, dtype: int64"
      ]
     },
     "execution_count": 102,
     "metadata": {},
     "output_type": "execute_result"
    }
   ],
   "source": [
    "train['parental level of education'].value_counts()"
   ]
  },
  {
   "cell_type": "code",
   "execution_count": 103,
   "metadata": {
    "colab": {
     "base_uri": "https://localhost:8080/"
    },
    "id": "0cv7CjsgCW2-",
    "outputId": "76d55688-6aa8-4d63-d717-336a345de1f8"
   },
   "outputs": [
    {
     "data": {
      "text/plain": [
       "standard        454\n",
       "free/reduced    245\n",
       "Name: lunch, dtype: int64"
      ]
     },
     "execution_count": 103,
     "metadata": {},
     "output_type": "execute_result"
    }
   ],
   "source": [
    "train['lunch'].value_counts()"
   ]
  },
  {
   "cell_type": "code",
   "execution_count": 104,
   "metadata": {
    "colab": {
     "base_uri": "https://localhost:8080/",
     "height": 296
    },
    "id": "SQEgJX5uCW2-",
    "outputId": "ec2abd4d-7424-4f63-81cf-e552d1951046"
   },
   "outputs": [
    {
     "data": {
      "text/plain": [
       "<matplotlib.axes._subplots.AxesSubplot at 0x21a3ac6d748>"
      ]
     },
     "execution_count": 104,
     "metadata": {},
     "output_type": "execute_result"
    },
    {
     "data": {
      "image/png": "[encoded data removed]",
      "text/plain": [
       "<Figure size 432x288 with 1 Axes>"
      ]
     },
     "metadata": {
      "needs_background": "light"
     },
     "output_type": "display_data"
    }
   ],
   "source": [
    "sns.countplot(x= 'lunch', hue= 'gender', data= train)"
   ]
  },
  {
   "cell_type": "code",
   "execution_count": 105,
   "metadata": {
    "id": "JzdnJe9TCW2-"
   },
   "outputs": [],
   "source": [
    "train.drop(['Unnamed: 0'], axis=1, inplace=True)"
   ]
  },
  {
   "cell_type": "code",
   "execution_count": 106,
   "metadata": {
    "colab": {
     "base_uri": "https://localhost:8080/"
    },
    "id": "q4PZ_Pw0CW2_",
    "outputId": "a28fffe2-e232-4b6d-9df0-20e8faaa3860"
   },
   "outputs": [
    {
     "data": {
      "text/plain": [
       "(699, 53)"
      ]
     },
     "execution_count": 106,
     "metadata": {},
     "output_type": "execute_result"
    }
   ],
   "source": [
    "train.shape"
   ]
  },
  {
   "cell_type": "code",
   "execution_count": 107,
   "metadata": {
    "colab": {
     "base_uri": "https://localhost:8080/",
     "height": 295
    },
    "id": "QVro4iuICW2_",
    "outputId": "ee4b4154-6c9e-4078-91ed-dcfeaeea8c1e"
   },
   "outputs": [
    {
     "data": {
      "text/plain": [
       "<matplotlib.axes._subplots.AxesSubplot at 0x21a3aec2288>"
      ]
     },
     "execution_count": 107,
     "metadata": {},
     "output_type": "execute_result"
    },
    {
     "data": {
      "image/png": "[encoded data removed]",
      "text/plain": [
       "<Figure size 1080x216 with 1 Axes>"
      ]
     },
     "metadata": {
      "needs_background": "light"
     },
     "output_type": "display_data"
    }
   ],
   "source": [
    "plt.figure(figsize = (15,3))\n",
    "sns.countplot(train['reading score'], palette = 'hsv')"
   ]
  },
  {
   "cell_type": "code",
   "execution_count": 108,
   "metadata": {
    "colab": {
     "base_uri": "https://localhost:8080/",
     "height": 295
    },
    "id": "mlYthAYVCW2_",
    "outputId": "bb7ef87d-486e-45f4-9d09-f299f032c43d"
   },
   "outputs": [
    {
     "data": {
      "text/plain": [
       "<matplotlib.axes._subplots.AxesSubplot at 0x21a3b0c43c8>"
      ]
     },
     "execution_count": 108,
     "metadata": {},
     "output_type": "execute_result"
    },
    {
     "data": {
      "image/png": "[encoded data removed]",
      "text/plain": [
       "<Figure size 1080x216 with 1 Axes>"
      ]
     },
     "metadata": {
      "needs_background": "light"
     },
     "output_type": "display_data"
    }
   ],
   "source": [
    "plt.figure(figsize = (15,3))\n",
    "sns.countplot(test['reading score'], palette = 'hsv')"
   ]
  },
  {
   "cell_type": "code",
   "execution_count": 109,
   "metadata": {
    "colab": {
     "base_uri": "https://localhost:8080/",
     "height": 298
    },
    "id": "OUnkVc5iCW2_",
    "outputId": "b7ae62c6-1ba2-427e-e875-3bace4b1d0b5"
   },
   "outputs": [
    {
     "data": {
      "text/plain": [
       "<matplotlib.axes._subplots.AxesSubplot at 0x21a3b22f948>"
      ]
     },
     "execution_count": 109,
     "metadata": {},
     "output_type": "execute_result"
    },
    {
     "data": {
      "image/png": "[encoded data removed]",
      "text/plain": [
       "<Figure size 1080x216 with 1 Axes>"
      ]
     },
     "metadata": {
      "needs_background": "light"
     },
     "output_type": "display_data"
    }
   ],
   "source": [
    "plt.figure(figsize = (15,3))\n",
    "sns.countplot(train['writing score'], palette = 'hsv')"
   ]
  },
  {
   "cell_type": "code",
   "execution_count": 110,
   "metadata": {
    "colab": {
     "base_uri": "https://localhost:8080/",
     "height": 295
    },
    "id": "Ru6D56v7CW2_",
    "outputId": "f71e6fae-05bf-4109-ee63-2bc1d1c87ba5"
   },
   "outputs": [
    {
     "data": {
      "text/plain": [
       "<matplotlib.axes._subplots.AxesSubplot at 0x21a3b481fc8>"
      ]
     },
     "execution_count": 110,
     "metadata": {},
     "output_type": "execute_result"
    },
    {
     "data": {
      "image/png": "[encoded data removed]",
      "text/plain": [
       "<Figure size 1080x216 with 1 Axes>"
      ]
     },
     "metadata": {
      "needs_background": "light"
     },
     "output_type": "display_data"
    }
   ],
   "source": [
    "plt.figure(figsize = (15,3))\n",
    "sns.countplot(test['writing score'], palette = 'hsv')"
   ]
  },
  {
   "cell_type": "code",
   "execution_count": 111,
   "metadata": {
    "id": "906rCLo3CW2_"
   },
   "outputs": [],
   "source": [
    "bins_read = pd.IntervalIndex.from_tuples([(15,30), (30, 45), (45, 60), (60, 75), (75, 90), (90, 100)])\n",
    "train['reading score_bins'] = pd.cut(train['reading score'], bins=bins_read)\n",
    "test['reading score_bins'] = pd.cut(test['reading score'], bins=bins_read)"
   ]
  },
  {
   "cell_type": "code",
   "execution_count": 112,
   "metadata": {
    "id": "Vtu8NwhQCW2_"
   },
   "outputs": [],
   "source": [
    "bins_write = pd.IntervalIndex.from_tuples([(9,20), (20, 30), (30, 40), (40,50), (50, 60), (60,70),(70,80),(80,90),(90,100)])\n",
    "train['write score_bins'] = pd.cut(train['writing score'], bins=bins_write)\n",
    "test['write score_bins'] = pd.cut(test['writing score'], bins=bins_write)"
   ]
  },
  {
   "cell_type": "code",
   "execution_count": 113,
   "metadata": {
    "id": "nJcCEI3RCW2_"
   },
   "outputs": [],
   "source": [
    "avg_bin = pd.IntervalIndex.from_tuples([(10,20), (20, 30), (30, 40), (40,50), (50, 60), (60,70),(70,80),(80,90),(90,100)])\n",
    "train['avg score_bins'] = pd.cut(train['avg'], bins= avg_bin)"
   ]
  },
  {
   "cell_type": "code",
   "execution_count": 114,
   "metadata": {
    "id": "cV6majRLCW3A"
   },
   "outputs": [],
   "source": [
    "train['tot'] = train['reading score'] + train['writing score']\n",
    "train['mean'] = np.mean(train['tot'])"
   ]
  },
  {
   "cell_type": "code",
   "execution_count": 115,
   "metadata": {
    "id": "_BXCKU2HCW3A"
   },
   "outputs": [],
   "source": [
    "train['totmean'] = train['tot'] - train['mean']"
   ]
  },
  {
   "cell_type": "code",
   "execution_count": 116,
   "metadata": {
    "id": "BTiRtwD0CW3A"
   },
   "outputs": [],
   "source": [
    "train['totroot'] = np.sqrt(train['reading score']) + np.sqrt(train['writing score'])"
   ]
  },
  {
   "cell_type": "code",
   "execution_count": 117,
   "metadata": {
    "colab": {
     "base_uri": "https://localhost:8080/",
     "height": 434
    },
    "id": "x6GbmA3-CW3A",
    "outputId": "63900d02-bc0c-472f-d42f-9000edc2eec0"
   },
   "outputs": [
    {
     "data": {
      "text/html": [
       "<div>\n",
       "<style scoped>\n",
       "    .dataframe tbody tr th:only-of-type {\n",
       "        vertical-align: middle;\n",
       "    }\n",
       "\n",
       "    .dataframe tbody tr th {\n",
       "        vertical-align: top;\n",
       "    }\n",
       "\n",
       "    .dataframe thead th {\n",
       "        text-align: right;\n",
       "    }\n",
       "</style>\n",
       "<table border=\"1\" class=\"dataframe\">\n",
       "  <thead>\n",
       "    <tr style=\"text-align: right;\">\n",
       "      <th></th>\n",
       "      <th>gender</th>\n",
       "      <th>ethnicity</th>\n",
       "      <th>parental level of education</th>\n",
       "      <th>lunch</th>\n",
       "      <th>test preparation course</th>\n",
       "      <th>reading score</th>\n",
       "      <th>writing score</th>\n",
       "      <th>math score</th>\n",
       "      <th>gender_lunch</th>\n",
       "      <th>eth_lunch</th>\n",
       "      <th>...</th>\n",
       "      <th>Ethinicity_lunch</th>\n",
       "      <th>Parent Degree</th>\n",
       "      <th>grades</th>\n",
       "      <th>reading score_bins</th>\n",
       "      <th>write score_bins</th>\n",
       "      <th>avg score_bins</th>\n",
       "      <th>tot</th>\n",
       "      <th>mean</th>\n",
       "      <th>totmean</th>\n",
       "      <th>totroot</th>\n",
       "    </tr>\n",
       "  </thead>\n",
       "  <tbody>\n",
       "    <tr>\n",
       "      <th>0</th>\n",
       "      <td>male</td>\n",
       "      <td>group C</td>\n",
       "      <td>some college</td>\n",
       "      <td>standard</td>\n",
       "      <td>none</td>\n",
       "      <td>61</td>\n",
       "      <td>62</td>\n",
       "      <td>61</td>\n",
       "      <td>malestandard</td>\n",
       "      <td>standardgroup C</td>\n",
       "      <td>...</td>\n",
       "      <td>GroupCstd</td>\n",
       "      <td>NotGrad</td>\n",
       "      <td>C</td>\n",
       "      <td>(60, 75]</td>\n",
       "      <td>(60, 70]</td>\n",
       "      <td>(60, 70]</td>\n",
       "      <td>123</td>\n",
       "      <td>138.379113</td>\n",
       "      <td>-15.379113</td>\n",
       "      <td>15.684258</td>\n",
       "    </tr>\n",
       "    <tr>\n",
       "      <th>1</th>\n",
       "      <td>female</td>\n",
       "      <td>group C</td>\n",
       "      <td>associate's degree</td>\n",
       "      <td>standard</td>\n",
       "      <td>none</td>\n",
       "      <td>62</td>\n",
       "      <td>53</td>\n",
       "      <td>53</td>\n",
       "      <td>femalestandard</td>\n",
       "      <td>standardgroup C</td>\n",
       "      <td>...</td>\n",
       "      <td>GroupCstd</td>\n",
       "      <td>Graduate</td>\n",
       "      <td>D</td>\n",
       "      <td>(60, 75]</td>\n",
       "      <td>(50, 60]</td>\n",
       "      <td>(50, 60]</td>\n",
       "      <td>115</td>\n",
       "      <td>138.379113</td>\n",
       "      <td>-23.379113</td>\n",
       "      <td>15.154118</td>\n",
       "    </tr>\n",
       "    <tr>\n",
       "      <th>2</th>\n",
       "      <td>female</td>\n",
       "      <td>group C</td>\n",
       "      <td>some college</td>\n",
       "      <td>free/reduced</td>\n",
       "      <td>completed</td>\n",
       "      <td>75</td>\n",
       "      <td>70</td>\n",
       "      <td>67</td>\n",
       "      <td>femalefree/reduced</td>\n",
       "      <td>free/reducedgroup C</td>\n",
       "      <td>...</td>\n",
       "      <td>GroupCfree</td>\n",
       "      <td>NotGrad</td>\n",
       "      <td>B</td>\n",
       "      <td>(60, 75]</td>\n",
       "      <td>(60, 70]</td>\n",
       "      <td>(70, 80]</td>\n",
       "      <td>145</td>\n",
       "      <td>138.379113</td>\n",
       "      <td>6.620887</td>\n",
       "      <td>17.026854</td>\n",
       "    </tr>\n",
       "    <tr>\n",
       "      <th>3</th>\n",
       "      <td>male</td>\n",
       "      <td>group C</td>\n",
       "      <td>some high school</td>\n",
       "      <td>free/reduced</td>\n",
       "      <td>none</td>\n",
       "      <td>76</td>\n",
       "      <td>65</td>\n",
       "      <td>79</td>\n",
       "      <td>malefree/reduced</td>\n",
       "      <td>free/reducedgroup C</td>\n",
       "      <td>...</td>\n",
       "      <td>GroupCfree</td>\n",
       "      <td>NotGrad</td>\n",
       "      <td></td>\n",
       "      <td>(75, 90]</td>\n",
       "      <td>(60, 70]</td>\n",
       "      <td>(70, 80]</td>\n",
       "      <td>141</td>\n",
       "      <td>138.379113</td>\n",
       "      <td>2.620887</td>\n",
       "      <td>16.780056</td>\n",
       "    </tr>\n",
       "    <tr>\n",
       "      <th>4</th>\n",
       "      <td>male</td>\n",
       "      <td>group A</td>\n",
       "      <td>high school</td>\n",
       "      <td>free/reduced</td>\n",
       "      <td>none</td>\n",
       "      <td>58</td>\n",
       "      <td>44</td>\n",
       "      <td>53</td>\n",
       "      <td>malefree/reduced</td>\n",
       "      <td>free/reducedgroup A</td>\n",
       "      <td>...</td>\n",
       "      <td>GroupAfree</td>\n",
       "      <td>NotGrad</td>\n",
       "      <td>D</td>\n",
       "      <td>(45, 60]</td>\n",
       "      <td>(40, 50]</td>\n",
       "      <td>(50, 60]</td>\n",
       "      <td>102</td>\n",
       "      <td>138.379113</td>\n",
       "      <td>-36.379113</td>\n",
       "      <td>14.249023</td>\n",
       "    </tr>\n",
       "  </tbody>\n",
       "</table>\n",
       "<p>5 rows × 60 columns</p>\n",
       "</div>"
      ],
      "text/plain": [
       "   gender ethnicity parental level of education         lunch  \\\n",
       "0    male   group C                some college      standard   \n",
       "1  female   group C          associate's degree      standard   \n",
       "2  female   group C                some college  free/reduced   \n",
       "3    male   group C            some high school  free/reduced   \n",
       "4    male   group A                 high school  free/reduced   \n",
       "\n",
       "  test preparation course  reading score  writing score  math score  \\\n",
       "0                    none             61             62          61   \n",
       "1                    none             62             53          53   \n",
       "2               completed             75             70          67   \n",
       "3                    none             76             65          79   \n",
       "4                    none             58             44          53   \n",
       "\n",
       "         gender_lunch            eth_lunch  ... Ethinicity_lunch  \\\n",
       "0        malestandard      standardgroup C  ...        GroupCstd   \n",
       "1      femalestandard      standardgroup C  ...        GroupCstd   \n",
       "2  femalefree/reduced  free/reducedgroup C  ...       GroupCfree   \n",
       "3    malefree/reduced  free/reducedgroup C  ...       GroupCfree   \n",
       "4    malefree/reduced  free/reducedgroup A  ...       GroupAfree   \n",
       "\n",
       "  Parent Degree grades reading score_bins write score_bins avg score_bins  \\\n",
       "0       NotGrad      C           (60, 75]         (60, 70]       (60, 70]   \n",
       "1      Graduate      D           (60, 75]         (50, 60]       (50, 60]   \n",
       "2       NotGrad      B           (60, 75]         (60, 70]       (70, 80]   \n",
       "3       NotGrad                  (75, 90]         (60, 70]       (70, 80]   \n",
       "4       NotGrad      D           (45, 60]         (40, 50]       (50, 60]   \n",
       "\n",
       "   tot        mean    totmean    totroot  \n",
       "0  123  138.379113 -15.379113  15.684258  \n",
       "1  115  138.379113 -23.379113  15.154118  \n",
       "2  145  138.379113   6.620887  17.026854  \n",
       "3  141  138.379113   2.620887  16.780056  \n",
       "4  102  138.379113 -36.379113  14.249023  \n",
       "\n",
       "[5 rows x 60 columns]"
      ]
     },
     "execution_count": 117,
     "metadata": {},
     "output_type": "execute_result"
    }
   ],
   "source": [
    "train.head()"
   ]
  },
  {
   "cell_type": "code",
   "execution_count": 118,
   "metadata": {
    "id": "2Lxu8fC1CW3A"
   },
   "outputs": [],
   "source": [
    "train['readpercent'] = (train['reading score']/train['tot'])*100\n",
    "train['writepercent'] = (train['writing score']/train['tot'])*100"
   ]
  },
  {
   "cell_type": "code",
   "execution_count": 119,
   "metadata": {
    "id": "mm_7skGvCW3B"
   },
   "outputs": [],
   "source": [
    "from sklearn import preprocessing \n",
    "label_encoder = preprocessing.LabelEncoder()"
   ]
  },
  {
   "cell_type": "code",
   "execution_count": 120,
   "metadata": {
    "id": "Aygowvd3CW3B"
   },
   "outputs": [],
   "source": [
    "train['test preparation course']= label_encoder.fit_transform(train['test preparation course']) \n",
    "train['gender']= label_encoder.fit_transform(train['gender'])\n",
    "train['OverAll_PassStatus']= label_encoder.fit_transform(train['OverAll_PassStatus'])"
   ]
  },
  {
   "cell_type": "code",
   "execution_count": 121,
   "metadata": {
    "id": "0AFsuZbcCW3B"
   },
   "outputs": [],
   "source": [
    "train = pd.get_dummies(train, columns=['ethnicity', 'parental level of education','lunch','write score_bins','reading score_bins','Reading_AvgStatus','Writing_AvgStatus','grades','ReadCourse_Avg','WriteCourse_Avg','satread_bins','satwrite_bins','gender_lunch','eth_lunch'], drop_first=True)"
   ]
  },
  {
   "cell_type": "code",
   "execution_count": 122,
   "metadata": {
    "id": "uKFt0AegCW3B"
   },
   "outputs": [],
   "source": [
    "train = pd.get_dummies(train, columns=['gen_test','geneth','genp','testeth','ethp','lunchp','testp'], drop_first=True)"
   ]
  },
  {
   "cell_type": "code",
   "execution_count": 123,
   "metadata": {
    "id": "dnLL7TdjCW3B"
   },
   "outputs": [],
   "source": [
    "train['readinglog'] = np.log(train['reading score'])"
   ]
  },
  {
   "cell_type": "code",
   "execution_count": 124,
   "metadata": {
    "id": "2faKihIQCW3C"
   },
   "outputs": [],
   "source": [
    "train['writinglog'] = np.log(train['writing score'])"
   ]
  },
  {
   "cell_type": "code",
   "execution_count": 125,
   "metadata": {
    "id": "uTfXFmm4CW3C"
   },
   "outputs": [],
   "source": [
    "#sns.distplot(train['readinglog'])"
   ]
  },
  {
   "cell_type": "code",
   "execution_count": 126,
   "metadata": {
    "id": "FkhCoFeeCW3C"
   },
   "outputs": [],
   "source": [
    "#from sklearn import preprocessing"
   ]
  },
  {
   "cell_type": "code",
   "execution_count": 127,
   "metadata": {
    "id": "T0iW-IS4CW3C"
   },
   "outputs": [],
   "source": [
    "scaler = preprocessing.MinMaxScaler() \n",
    "train['readingmm'] = scaler.fit_transform(train[['reading score']]) "
   ]
  },
  {
   "cell_type": "code",
   "execution_count": 128,
   "metadata": {
    "id": "G0I0NFNLCW3C"
   },
   "outputs": [],
   "source": [
    "test['readingmm'] = scaler.fit_transform(test[['reading score']]) "
   ]
  },
  {
   "cell_type": "code",
   "execution_count": 129,
   "metadata": {
    "id": "wtGoo5BrCW3C"
   },
   "outputs": [],
   "source": [
    "train['writingmm'] = scaler.fit_transform(train[['writing score']]) "
   ]
  },
  {
   "cell_type": "code",
   "execution_count": 130,
   "metadata": {
    "id": "_6Km0ZzSCW3D"
   },
   "outputs": [],
   "source": [
    "scaler2 = preprocessing.RobustScaler() \n",
    "train['readingrb'] = scaler2.fit_transform(train[['reading score']])\n",
    "train['writingrb'] = scaler2.fit_transform(train[['writing score']]) "
   ]
  },
  {
   "cell_type": "code",
   "execution_count": 131,
   "metadata": {
    "colab": {
     "base_uri": "https://localhost:8080/",
     "height": 350
    },
    "id": "PB6jY2PICW3D",
    "outputId": "d4bca657-3d81-4394-a3ed-487e60953985"
   },
   "outputs": [
    {
     "data": {
      "text/plain": [
       "<matplotlib.axes._subplots.AxesSubplot at 0x21a3b665c48>"
      ]
     },
     "execution_count": 131,
     "metadata": {},
     "output_type": "execute_result"
    },
    {
     "data": {
      "image/png": "[encoded data removed]",
      "text/plain": [
       "<Figure size 432x288 with 1 Axes>"
      ]
     },
     "metadata": {
      "needs_background": "light"
     },
     "output_type": "display_data"
    }
   ],
   "source": [
    "sns.distplot(train['avg'])"
   ]
  },
  {
   "cell_type": "code",
   "execution_count": 132,
   "metadata": {
    "colab": {
     "base_uri": "https://localhost:8080/"
    },
    "id": "JDM-0wR7CW3D",
    "outputId": "e6ccd695-5fa6-49af-df11-08915ee3fd91"
   },
   "outputs": [
    {
     "data": {
      "text/plain": [
       "19.5"
      ]
     },
     "execution_count": 132,
     "metadata": {},
     "output_type": "execute_result"
    }
   ],
   "source": [
    "train['avg'].min()"
   ]
  },
  {
   "cell_type": "code",
   "execution_count": 133,
   "metadata": {
    "colab": {
     "base_uri": "https://localhost:8080/"
    },
    "id": "DkCkG1RjCW3D",
    "outputId": "26a82252-12dc-4630-801b-63a7f9470067"
   },
   "outputs": [
    {
     "data": {
      "text/plain": [
       "gender                            1\n",
       "test preparation course           0\n",
       "reading score                   100\n",
       "writing score                    95\n",
       "math score                       87\n",
       "                             ...   \n",
       "writinglog                 4.553877\n",
       "readingmm                  1.000000\n",
       "writingmm                  0.941176\n",
       "readingrb                  1.500000\n",
       "writingrb                  1.190476\n",
       "Name: 432, Length: 197, dtype: object"
      ]
     },
     "execution_count": 133,
     "metadata": {},
     "output_type": "execute_result"
    }
   ],
   "source": [
    "train.loc[432]"
   ]
  },
  {
   "cell_type": "code",
   "execution_count": 134,
   "metadata": {
    "id": "FP3EgFNQCW3D"
   },
   "outputs": [],
   "source": [
    "import scipy.stats as stats"
   ]
  },
  {
   "cell_type": "code",
   "execution_count": 135,
   "metadata": {
    "id": "zHjVqgEqCW3D"
   },
   "outputs": [],
   "source": [
    "train['Log_read']=np.log(train['reading score']+1)\n",
    "train['Log_write']=np.log(train['writing score']+1)\n",
    "train['sqr_read']= train['reading score']**(1/2)\n",
    "train['sqr_write']= train['writing score']**(1/2)\n",
    "train['Exp_read']= train['reading score']**(1/5)\n",
    "train['Exp_write']= train['writing score']**(1/5)\n",
    "train['read_boxcox'], param = stats.boxcox(train['reading score']+1)\n",
    "train['write_boxcox'], param = stats.boxcox(train['writing score']+1)"
   ]
  },
  {
   "cell_type": "code",
   "execution_count": 136,
   "metadata": {},
   "outputs": [],
   "source": [
    "test['write_boxcox'], param = stats.boxcox(test['writing score']+1)"
   ]
  },
  {
   "cell_type": "code",
   "execution_count": 137,
   "metadata": {},
   "outputs": [],
   "source": [
    "test['Log_read']=np.log(test['reading score']+1)\n",
    "test['read_boxcox'], param = stats.boxcox(test['reading score']+1)"
   ]
  },
  {
   "cell_type": "code",
   "execution_count": 138,
   "metadata": {
    "id": "juiKfaGhCW3D"
   },
   "outputs": [],
   "source": [
    "train['ratio'] = (train['reading score']/train['writing score'])*100"
   ]
  },
  {
   "cell_type": "code",
   "execution_count": 139,
   "metadata": {},
   "outputs": [
    {
     "data": {
      "text/plain": [
       "-0.20203586483836833"
      ]
     },
     "execution_count": 139,
     "metadata": {},
     "output_type": "execute_result"
    }
   ],
   "source": [
    "train['reading score'].skew()"
   ]
  },
  {
   "cell_type": "code",
   "execution_count": 140,
   "metadata": {},
   "outputs": [
    {
     "data": {
      "text/plain": [
       "-0.3400624111510655"
      ]
     },
     "execution_count": 140,
     "metadata": {},
     "output_type": "execute_result"
    }
   ],
   "source": [
    "test['reading score'].skew()"
   ]
  },
  {
   "cell_type": "code",
   "execution_count": 141,
   "metadata": {},
   "outputs": [],
   "source": [
    "read = train[['Log_read','sqr_read','Exp_read','read_boxcox','readingrb','readingmm','readinglog','reading score']]"
   ]
  },
  {
   "cell_type": "code",
   "execution_count": 142,
   "metadata": {},
   "outputs": [
    {
     "data": {
      "text/plain": [
       "Log_read        -0.946137\n",
       "sqr_read        -0.539848\n",
       "Exp_read        -0.781294\n",
       "read_boxcox     -0.030965\n",
       "readingrb       -0.202036\n",
       "readingmm       -0.202036\n",
       "readinglog      -0.963853\n",
       "reading score   -0.202036\n",
       "dtype: float64"
      ]
     },
     "execution_count": 142,
     "metadata": {},
     "output_type": "execute_result"
    }
   ],
   "source": [
    "read.skew()"
   ]
  },
  {
   "cell_type": "code",
   "execution_count": 143,
   "metadata": {},
   "outputs": [],
   "source": [
    "train['recpw'] = 1/train['writing score']\n",
    "train['recpr'] = 1/train['reading score']"
   ]
  },
  {
   "cell_type": "code",
   "execution_count": 144,
   "metadata": {},
   "outputs": [],
   "source": [
    "train['Log_read_rank'] = train[['Log_read']].rank(method = 'first')\n",
    "train['read_boxcox_rank'] = train[['read_boxcox']].rank(method = 'first')"
   ]
  },
  {
   "cell_type": "code",
   "execution_count": 145,
   "metadata": {},
   "outputs": [],
   "source": [
    "train['logreadrn'] = scaler.fit_transform(train[['Log_read']]) "
   ]
  },
  {
   "cell_type": "code",
   "execution_count": 146,
   "metadata": {},
   "outputs": [
    {
     "data": {
      "text/plain": [
       "-0.9461371024708298"
      ]
     },
     "execution_count": 146,
     "metadata": {},
     "output_type": "execute_result"
    }
   ],
   "source": [
    "train['logreadrn'].skew()"
   ]
  },
  {
   "cell_type": "code",
   "execution_count": 147,
   "metadata": {},
   "outputs": [
    {
     "data": {
      "text/plain": [
       "-0.2312665113151814"
      ]
     },
     "execution_count": 147,
     "metadata": {},
     "output_type": "execute_result"
    }
   ],
   "source": [
    "train['write_meandev'].skew()"
   ]
  },
  {
   "cell_type": "code",
   "execution_count": 148,
   "metadata": {},
   "outputs": [],
   "source": [
    "from sklearn.preprocessing import QuantileTransformer\n",
    "scalerq = QuantileTransformer()"
   ]
  },
  {
   "cell_type": "code",
   "execution_count": 149,
   "metadata": {},
   "outputs": [
    {
     "name": "stderr",
     "output_type": "stream",
     "text": [
      "C:\\Users\\prana\\anaconda3\\lib\\site-packages\\sklearn\\preprocessing\\_data.py:2370: UserWarning: n_quantiles (1000) is greater than the total number of samples (699). n_quantiles is set to n_samples.\n",
      "  % (self.n_quantiles, n_samples))\n"
     ]
    }
   ],
   "source": [
    "train['readingq'] = scalerq.fit_transform(train[['reading score']]) "
   ]
  },
  {
   "cell_type": "code",
   "execution_count": 150,
   "metadata": {},
   "outputs": [
    {
     "name": "stderr",
     "output_type": "stream",
     "text": [
      "C:\\Users\\prana\\anaconda3\\lib\\site-packages\\sklearn\\preprocessing\\_data.py:2370: UserWarning: n_quantiles (1000) is greater than the total number of samples (300). n_quantiles is set to n_samples.\n",
      "  % (self.n_quantiles, n_samples))\n"
     ]
    }
   ],
   "source": [
    "test['readingq'] = scalerq.fit_transform(test[['reading score']]) "
   ]
  },
  {
   "cell_type": "code",
   "execution_count": 151,
   "metadata": {},
   "outputs": [
    {
     "name": "stderr",
     "output_type": "stream",
     "text": [
      "C:\\Users\\prana\\anaconda3\\lib\\site-packages\\sklearn\\preprocessing\\_data.py:2370: UserWarning: n_quantiles (1000) is greater than the total number of samples (699). n_quantiles is set to n_samples.\n",
      "  % (self.n_quantiles, n_samples))\n"
     ]
    }
   ],
   "source": [
    "train['mathq'] = scalerq.fit_transform(train[['math score']]) "
   ]
  },
  {
   "cell_type": "code",
   "execution_count": 152,
   "metadata": {},
   "outputs": [],
   "source": [
    "train['readingqmm'] = scaler.fit_transform(train[['readingq']]) "
   ]
  },
  {
   "cell_type": "code",
   "execution_count": 153,
   "metadata": {},
   "outputs": [],
   "source": [
    "test['readingqmm'] = scaler.fit_transform(test[['readingq']]) "
   ]
  },
  {
   "cell_type": "code",
   "execution_count": 154,
   "metadata": {},
   "outputs": [
    {
     "name": "stderr",
     "output_type": "stream",
     "text": [
      "C:\\Users\\prana\\anaconda3\\lib\\site-packages\\sklearn\\preprocessing\\_data.py:2370: UserWarning: n_quantiles (1000) is greater than the total number of samples (699). n_quantiles is set to n_samples.\n",
      "  % (self.n_quantiles, n_samples))\n"
     ]
    }
   ],
   "source": [
    "train['writingq'] = scalerq.fit_transform(train[['writing score']]) "
   ]
  },
  {
   "cell_type": "code",
   "execution_count": 155,
   "metadata": {},
   "outputs": [
    {
     "name": "stderr",
     "output_type": "stream",
     "text": [
      "C:\\Users\\prana\\anaconda3\\lib\\site-packages\\sklearn\\preprocessing\\_data.py:2370: UserWarning: n_quantiles (1000) is greater than the total number of samples (300). n_quantiles is set to n_samples.\n",
      "  % (self.n_quantiles, n_samples))\n"
     ]
    }
   ],
   "source": [
    "test['writingq'] = scalerq.fit_transform(test[['writing score']]) "
   ]
  },
  {
   "cell_type": "code",
   "execution_count": 156,
   "metadata": {},
   "outputs": [
    {
     "data": {
      "text/plain": [
       "<matplotlib.axes._subplots.AxesSubplot at 0x21a3b71e9c8>"
      ]
     },
     "execution_count": 156,
     "metadata": {},
     "output_type": "execute_result"
    },
    {
     "data": {
      "image/png": "[encoded data removed]",
      "text/plain": [
       "<Figure size 432x288 with 1 Axes>"
      ]
     },
     "metadata": {
      "needs_background": "light"
     },
     "output_type": "display_data"
    }
   ],
   "source": [
    "sns.distplot(train['readingq'])"
   ]
  },
  {
   "cell_type": "code",
   "execution_count": 157,
   "metadata": {},
   "outputs": [],
   "source": [
    "train['readingqmmrank'] = train[['readingqmm']].rank(method = 'first')"
   ]
  },
  {
   "cell_type": "code",
   "execution_count": 158,
   "metadata": {},
   "outputs": [],
   "source": [
    "test['readingqmmrank'] = test[['readingqmm']].rank(method = 'first')"
   ]
  },
  {
   "cell_type": "code",
   "execution_count": 159,
   "metadata": {},
   "outputs": [],
   "source": [
    "from sklearn.preprocessing import MaxAbsScaler\n",
    "scalermax = MaxAbsScaler()"
   ]
  },
  {
   "cell_type": "code",
   "execution_count": 160,
   "metadata": {},
   "outputs": [
    {
     "name": "stderr",
     "output_type": "stream",
     "text": [
      "C:\\Users\\prana\\anaconda3\\lib\\site-packages\\sklearn\\preprocessing\\_data.py:2370: UserWarning: n_quantiles (1000) is greater than the total number of samples (699). n_quantiles is set to n_samples.\n",
      "  % (self.n_quantiles, n_samples))\n",
      "C:\\Users\\prana\\anaconda3\\lib\\site-packages\\sklearn\\preprocessing\\_data.py:2370: UserWarning: n_quantiles (1000) is greater than the total number of samples (300). n_quantiles is set to n_samples.\n",
      "  % (self.n_quantiles, n_samples))\n"
     ]
    }
   ],
   "source": [
    "train['writingmax'] = scalerq.fit_transform(train[['writing score']]) \n",
    "test['writingmax'] = scalerq.fit_transform(test[['writing score']]) "
   ]
  },
  {
   "cell_type": "code",
   "execution_count": 161,
   "metadata": {},
   "outputs": [],
   "source": [
    "train['wnew'] = scaler.fit_transform(train[['writingmax']]) \n",
    "test['wnew'] = scaler.fit_transform(test[['writingmax']]) "
   ]
  },
  {
   "cell_type": "code",
   "execution_count": 162,
   "metadata": {},
   "outputs": [
    {
     "data": {
      "text/plain": [
       "<matplotlib.axes._subplots.AxesSubplot at 0x21a3ac432c8>"
      ]
     },
     "execution_count": 162,
     "metadata": {},
     "output_type": "execute_result"
    },
    {
     "data": {
      "image/png": "[encoded data removed]",
      "text/plain": [
       "<Figure size 432x288 with 1 Axes>"
      ]
     },
     "metadata": {
      "needs_background": "light"
     },
     "output_type": "display_data"
    }
   ],
   "source": [
    "sns.distplot(train['writingmax'])"
   ]
  },
  {
   "cell_type": "code",
   "execution_count": 163,
   "metadata": {
    "colab": {
     "base_uri": "https://localhost:8080/",
     "height": 294
    },
    "id": "m-MEVBYLCW3E",
    "outputId": "0f3b3a68-c63f-49e3-a5a6-b551a76de562"
   },
   "outputs": [
    {
     "data": {
      "text/html": [
       "<div>\n",
       "<style scoped>\n",
       "    .dataframe tbody tr th:only-of-type {\n",
       "        vertical-align: middle;\n",
       "    }\n",
       "\n",
       "    .dataframe tbody tr th {\n",
       "        vertical-align: top;\n",
       "    }\n",
       "\n",
       "    .dataframe thead th {\n",
       "        text-align: right;\n",
       "    }\n",
       "</style>\n",
       "<table border=\"1\" class=\"dataframe\">\n",
       "  <thead>\n",
       "    <tr style=\"text-align: right;\">\n",
       "      <th></th>\n",
       "      <th>gender</th>\n",
       "      <th>test preparation course</th>\n",
       "      <th>reading score</th>\n",
       "      <th>writing score</th>\n",
       "      <th>math score</th>\n",
       "      <th>reading score ^2</th>\n",
       "      <th>writing score ^2</th>\n",
       "      <th>reading score x writing score</th>\n",
       "      <th>reading score ^3</th>\n",
       "      <th>writing score ^3</th>\n",
       "      <th>...</th>\n",
       "      <th>Log_read_rank</th>\n",
       "      <th>read_boxcox_rank</th>\n",
       "      <th>logreadrn</th>\n",
       "      <th>readingq</th>\n",
       "      <th>mathq</th>\n",
       "      <th>readingqmm</th>\n",
       "      <th>writingq</th>\n",
       "      <th>readingqmmrank</th>\n",
       "      <th>writingmax</th>\n",
       "      <th>wnew</th>\n",
       "    </tr>\n",
       "  </thead>\n",
       "  <tbody>\n",
       "    <tr>\n",
       "      <th>0</th>\n",
       "      <td>1</td>\n",
       "      <td>1</td>\n",
       "      <td>61</td>\n",
       "      <td>62</td>\n",
       "      <td>61</td>\n",
       "      <td>3721</td>\n",
       "      <td>3844</td>\n",
       "      <td>3782</td>\n",
       "      <td>226981</td>\n",
       "      <td>234484</td>\n",
       "      <td>...</td>\n",
       "      <td>186.0</td>\n",
       "      <td>186.0</td>\n",
       "      <td>0.660429</td>\n",
       "      <td>0.275788</td>\n",
       "      <td>0.334527</td>\n",
       "      <td>0.275788</td>\n",
       "      <td>0.328797</td>\n",
       "      <td>186.0</td>\n",
       "      <td>0.328797</td>\n",
       "      <td>0.328797</td>\n",
       "    </tr>\n",
       "    <tr>\n",
       "      <th>1</th>\n",
       "      <td>0</td>\n",
       "      <td>1</td>\n",
       "      <td>62</td>\n",
       "      <td>53</td>\n",
       "      <td>53</td>\n",
       "      <td>3844</td>\n",
       "      <td>2809</td>\n",
       "      <td>3286</td>\n",
       "      <td>238328</td>\n",
       "      <td>174158</td>\n",
       "      <td>...</td>\n",
       "      <td>201.0</td>\n",
       "      <td>201.0</td>\n",
       "      <td>0.671563</td>\n",
       "      <td>0.295845</td>\n",
       "      <td>0.187679</td>\n",
       "      <td>0.295845</td>\n",
       "      <td>0.161175</td>\n",
       "      <td>201.0</td>\n",
       "      <td>0.161175</td>\n",
       "      <td>0.161175</td>\n",
       "    </tr>\n",
       "    <tr>\n",
       "      <th>2</th>\n",
       "      <td>0</td>\n",
       "      <td>0</td>\n",
       "      <td>75</td>\n",
       "      <td>70</td>\n",
       "      <td>67</td>\n",
       "      <td>5625</td>\n",
       "      <td>4900</td>\n",
       "      <td>5250</td>\n",
       "      <td>421875</td>\n",
       "      <td>367500</td>\n",
       "      <td>...</td>\n",
       "      <td>433.0</td>\n",
       "      <td>433.0</td>\n",
       "      <td>0.802106</td>\n",
       "      <td>0.631805</td>\n",
       "      <td>0.512894</td>\n",
       "      <td>0.631805</td>\n",
       "      <td>0.514327</td>\n",
       "      <td>433.0</td>\n",
       "      <td>0.514327</td>\n",
       "      <td>0.514327</td>\n",
       "    </tr>\n",
       "    <tr>\n",
       "      <th>3</th>\n",
       "      <td>1</td>\n",
       "      <td>1</td>\n",
       "      <td>76</td>\n",
       "      <td>65</td>\n",
       "      <td>79</td>\n",
       "      <td>5776</td>\n",
       "      <td>4225</td>\n",
       "      <td>4940</td>\n",
       "      <td>438976</td>\n",
       "      <td>321100</td>\n",
       "      <td>...</td>\n",
       "      <td>452.0</td>\n",
       "      <td>452.0</td>\n",
       "      <td>0.811202</td>\n",
       "      <td>0.659026</td>\n",
       "      <td>0.787249</td>\n",
       "      <td>0.659026</td>\n",
       "      <td>0.387536</td>\n",
       "      <td>452.0</td>\n",
       "      <td>0.387536</td>\n",
       "      <td>0.387536</td>\n",
       "    </tr>\n",
       "    <tr>\n",
       "      <th>4</th>\n",
       "      <td>1</td>\n",
       "      <td>1</td>\n",
       "      <td>58</td>\n",
       "      <td>44</td>\n",
       "      <td>53</td>\n",
       "      <td>3364</td>\n",
       "      <td>1936</td>\n",
       "      <td>2552</td>\n",
       "      <td>195112</td>\n",
       "      <td>112288</td>\n",
       "      <td>...</td>\n",
       "      <td>142.0</td>\n",
       "      <td>142.0</td>\n",
       "      <td>0.625916</td>\n",
       "      <td>0.213467</td>\n",
       "      <td>0.187679</td>\n",
       "      <td>0.213467</td>\n",
       "      <td>0.058023</td>\n",
       "      <td>142.0</td>\n",
       "      <td>0.058023</td>\n",
       "      <td>0.058023</td>\n",
       "    </tr>\n",
       "  </tbody>\n",
       "</table>\n",
       "<p>5 rows × 218 columns</p>\n",
       "</div>"
      ],
      "text/plain": [
       "   gender  test preparation course  reading score  writing score  math score  \\\n",
       "0       1                        1             61             62          61   \n",
       "1       0                        1             62             53          53   \n",
       "2       0                        0             75             70          67   \n",
       "3       1                        1             76             65          79   \n",
       "4       1                        1             58             44          53   \n",
       "\n",
       "   reading score ^2  writing score ^2  reading score x writing score  \\\n",
       "0              3721              3844                           3782   \n",
       "1              3844              2809                           3286   \n",
       "2              5625              4900                           5250   \n",
       "3              5776              4225                           4940   \n",
       "4              3364              1936                           2552   \n",
       "\n",
       "   reading score ^3  writing score ^3  ...  Log_read_rank  read_boxcox_rank  \\\n",
       "0            226981            234484  ...          186.0             186.0   \n",
       "1            238328            174158  ...          201.0             201.0   \n",
       "2            421875            367500  ...          433.0             433.0   \n",
       "3            438976            321100  ...          452.0             452.0   \n",
       "4            195112            112288  ...          142.0             142.0   \n",
       "\n",
       "   logreadrn  readingq     mathq  readingqmm  writingq  readingqmmrank  \\\n",
       "0   0.660429  0.275788  0.334527    0.275788  0.328797           186.0   \n",
       "1   0.671563  0.295845  0.187679    0.295845  0.161175           201.0   \n",
       "2   0.802106  0.631805  0.512894    0.631805  0.514327           433.0   \n",
       "3   0.811202  0.659026  0.787249    0.659026  0.387536           452.0   \n",
       "4   0.625916  0.213467  0.187679    0.213467  0.058023           142.0   \n",
       "\n",
       "   writingmax      wnew  \n",
       "0    0.328797  0.328797  \n",
       "1    0.161175  0.161175  \n",
       "2    0.514327  0.514327  \n",
       "3    0.387536  0.387536  \n",
       "4    0.058023  0.058023  \n",
       "\n",
       "[5 rows x 218 columns]"
      ]
     },
     "execution_count": 163,
     "metadata": {},
     "output_type": "execute_result"
    }
   ],
   "source": [
    "train.head()"
   ]
  },
  {
   "cell_type": "code",
   "execution_count": 164,
   "metadata": {
    "id": "ZTSisOdSCW3E"
   },
   "outputs": [],
   "source": [
    "#plt.figure(figsize=(30, 30))\n",
    "#sns.heatmap(train.corr(), annot=True, cmap='Blues')"
   ]
  },
  {
   "cell_type": "code",
   "execution_count": 165,
   "metadata": {
    "colab": {
     "base_uri": "https://localhost:8080/"
    },
    "id": "RCbweSbkCW3E",
    "outputId": "c85eee11-aa59-4c26-e5fd-c04f71626b7a"
   },
   "outputs": [
    {
     "data": {
      "text/plain": [
       "Index(['gender', 'test preparation course', 'reading score', 'writing score',\n",
       "       'math score', 'reading score ^2', 'writing score ^2',\n",
       "       'reading score x writing score', 'reading score ^3', 'writing score ^3',\n",
       "       ...\n",
       "       'Log_read_rank', 'read_boxcox_rank', 'logreadrn', 'readingq', 'mathq',\n",
       "       'readingqmm', 'writingq', 'readingqmmrank', 'writingmax', 'wnew'],\n",
       "      dtype='object', length=218)"
      ]
     },
     "execution_count": 165,
     "metadata": {},
     "output_type": "execute_result"
    }
   ],
   "source": [
    "train.columns"
   ]
  },
  {
   "cell_type": "code",
   "execution_count": 166,
   "metadata": {
    "colab": {
     "base_uri": "https://localhost:8080/"
    },
    "id": "X6yh7EclCW3E",
    "outputId": "427af66b-943c-4b38-d6c9-547732135cfd"
   },
   "outputs": [
    {
     "name": "stdout",
     "output_type": "stream",
     "text": [
      "['gender', 'test preparation course', 'reading score', 'writing score', 'math score', 'reading score ^2', 'writing score ^2', 'reading score x writing score', 'reading score ^3', 'writing score ^3', 'zread', 'zwrite', 'readiq', 'writeiq', 'avg', 'zavg', 'avgiq', 'readexpmean', 'writeexpmean', 'avgexpmean', 'satread', 'satwrite', 'satwrank', 'satrrank', 'writerank', 'readrank', 'avgrank', 'read_meandev', 'write_meandev', 'OverAll_PassStatus', 'rwr', 'Ethinicity_Gen', 'Ethinicity_lunch', 'Parent Degree', 'avg score_bins', 'tot', 'mean', 'totmean', 'totroot', 'readpercent', 'writepercent', 'ethnicity_group B', 'ethnicity_group C', 'ethnicity_group D', 'ethnicity_group E', \"parental level of education_bachelor's degree\", 'parental level of education_high school', \"parental level of education_master's degree\", 'parental level of education_some college', 'parental level of education_some high school', 'lunch_standard', 'write score_bins_(20, 30]', 'write score_bins_(30, 40]', 'write score_bins_(40, 50]', 'write score_bins_(50, 60]', 'write score_bins_(60, 70]', 'write score_bins_(70, 80]', 'write score_bins_(80, 90]', 'write score_bins_(90, 100]', 'reading score_bins_(30, 45]', 'reading score_bins_(45, 60]', 'reading score_bins_(60, 75]', 'reading score_bins_(75, 90]', 'reading score_bins_(90, 100]', 'Reading_AvgStatus_P', 'Writing_AvgStatus_P', 'grades_A', 'grades_A+', 'grades_B', 'grades_C', 'grades_D', 'grades_E', 'grades_F', 'ReadCourse_Avg_CompletePass', 'ReadCourse_Avg_IncompleteFail', 'ReadCourse_Avg_IncompletePass', 'WriteCourse_Avg_CompletePass', 'WriteCourse_Avg_IncompleteFail', 'WriteCourse_Avg_IncompletePass', 'satread_bins_(200, 250]', 'satread_bins_(250, 300]', 'satread_bins_(300, 350]', 'satread_bins_(350, 400]', 'satread_bins_(400, 450]', 'satread_bins_(450, 500]', 'satread_bins_(500, 550]', 'satread_bins_(550, 600]', 'satread_bins_(600, 650]', 'satread_bins_(650, 700]', 'satread_bins_(700, 750]', 'satwrite_bins_(200, 300]', 'satwrite_bins_(300, 400]', 'satwrite_bins_(400, 500]', 'satwrite_bins_(500, 600]', 'satwrite_bins_(600, 700]', 'satwrite_bins_(700, 800]', 'gender_lunch_femalestandard', 'gender_lunch_malefree/reduced', 'gender_lunch_malestandard', 'eth_lunch_free/reducedgroup B', 'eth_lunch_free/reducedgroup C', 'eth_lunch_free/reducedgroup D', 'eth_lunch_free/reducedgroup E', 'eth_lunch_standardgroup A', 'eth_lunch_standardgroup B', 'eth_lunch_standardgroup C', 'eth_lunch_standardgroup D', 'eth_lunch_standardgroup E', 'gen_test_femalenone', 'gen_test_malecompleted', 'gen_test_malenone', 'geneth_femalegroup B', 'geneth_femalegroup C', 'geneth_femalegroup D', 'geneth_femalegroup E', 'geneth_malegroup A', 'geneth_malegroup B', 'geneth_malegroup C', 'geneth_malegroup D', 'geneth_malegroup E', \"genp_femalebachelor's degree\", 'genp_femalehigh school', \"genp_femalemaster's degree\", 'genp_femalesome college', 'genp_femalesome high school', \"genp_maleassociate's degree\", \"genp_malebachelor's degree\", 'genp_malehigh school', \"genp_malemaster's degree\", 'genp_malesome college', 'genp_malesome high school', 'testeth_group Anone', 'testeth_group Bcompleted', 'testeth_group Bnone', 'testeth_group Ccompleted', 'testeth_group Cnone', 'testeth_group Dcompleted', 'testeth_group Dnone', 'testeth_group Ecompleted', 'testeth_group Enone', \"ethp_associate's degreegroup B\", \"ethp_associate's degreegroup C\", \"ethp_associate's degreegroup D\", \"ethp_associate's degreegroup E\", \"ethp_bachelor's degreegroup A\", \"ethp_bachelor's degreegroup B\", \"ethp_bachelor's degreegroup C\", \"ethp_bachelor's degreegroup D\", \"ethp_bachelor's degreegroup E\", 'ethp_high schoolgroup A', 'ethp_high schoolgroup B', 'ethp_high schoolgroup C', 'ethp_high schoolgroup D', 'ethp_high schoolgroup E', \"ethp_master's degreegroup A\", \"ethp_master's degreegroup B\", \"ethp_master's degreegroup C\", \"ethp_master's degreegroup D\", \"ethp_master's degreegroup E\", 'ethp_some collegegroup A', 'ethp_some collegegroup B', 'ethp_some collegegroup C', 'ethp_some collegegroup D', 'ethp_some collegegroup E', 'ethp_some high schoolgroup A', 'ethp_some high schoolgroup B', 'ethp_some high schoolgroup C', 'ethp_some high schoolgroup D', 'ethp_some high schoolgroup E', \"lunchp_associate's degreestandard\", \"lunchp_bachelor's degreefree/reduced\", \"lunchp_bachelor's degreestandard\", 'lunchp_high schoolfree/reduced', 'lunchp_high schoolstandard', \"lunchp_master's degreefree/reduced\", \"lunchp_master's degreestandard\", 'lunchp_some collegefree/reduced', 'lunchp_some collegestandard', 'lunchp_some high schoolfree/reduced', 'lunchp_some high schoolstandard', \"testp_associate's degreenone\", \"testp_bachelor's degreecompleted\", \"testp_bachelor's degreenone\", 'testp_high schoolcompleted', 'testp_high schoolnone', \"testp_master's degreecompleted\", \"testp_master's degreenone\", 'testp_some collegecompleted', 'testp_some collegenone', 'testp_some high schoolcompleted', 'testp_some high schoolnone', 'readinglog', 'writinglog', 'readingmm', 'writingmm', 'readingrb', 'writingrb', 'Log_read', 'Log_write', 'sqr_read', 'sqr_write', 'Exp_read', 'Exp_write', 'read_boxcox', 'write_boxcox', 'ratio', 'recpw', 'recpr', 'Log_read_rank', 'read_boxcox_rank', 'logreadrn', 'readingq', 'mathq', 'readingqmm', 'writingq', 'readingqmmrank', 'writingmax', 'wnew']\n"
     ]
    }
   ],
   "source": [
    "print(train.columns.tolist())"
   ]
  },
  {
   "cell_type": "code",
   "execution_count": 167,
   "metadata": {
    "id": "iJKC7YATCW3E"
   },
   "outputs": [],
   "source": [
    "y = train['math score']"
   ]
  },
  {
   "cell_type": "code",
   "execution_count": 168,
   "metadata": {
    "colab": {
     "base_uri": "https://localhost:8080/",
     "height": 294
    },
    "id": "TBJWn3jzCW3E",
    "outputId": "3d8ebbf9-4d40-44ce-fab7-f9aa20139e9e"
   },
   "outputs": [
    {
     "data": {
      "text/html": [
       "<div>\n",
       "<style scoped>\n",
       "    .dataframe tbody tr th:only-of-type {\n",
       "        vertical-align: middle;\n",
       "    }\n",
       "\n",
       "    .dataframe tbody tr th {\n",
       "        vertical-align: top;\n",
       "    }\n",
       "\n",
       "    .dataframe thead th {\n",
       "        text-align: right;\n",
       "    }\n",
       "</style>\n",
       "<table border=\"1\" class=\"dataframe\">\n",
       "  <thead>\n",
       "    <tr style=\"text-align: right;\">\n",
       "      <th></th>\n",
       "      <th>gender</th>\n",
       "      <th>test preparation course</th>\n",
       "      <th>reading score</th>\n",
       "      <th>writing score</th>\n",
       "      <th>math score</th>\n",
       "      <th>reading score ^2</th>\n",
       "      <th>writing score ^2</th>\n",
       "      <th>reading score x writing score</th>\n",
       "      <th>reading score ^3</th>\n",
       "      <th>writing score ^3</th>\n",
       "      <th>...</th>\n",
       "      <th>Log_read_rank</th>\n",
       "      <th>read_boxcox_rank</th>\n",
       "      <th>logreadrn</th>\n",
       "      <th>readingq</th>\n",
       "      <th>mathq</th>\n",
       "      <th>readingqmm</th>\n",
       "      <th>writingq</th>\n",
       "      <th>readingqmmrank</th>\n",
       "      <th>writingmax</th>\n",
       "      <th>wnew</th>\n",
       "    </tr>\n",
       "  </thead>\n",
       "  <tbody>\n",
       "    <tr>\n",
       "      <th>0</th>\n",
       "      <td>1</td>\n",
       "      <td>1</td>\n",
       "      <td>61</td>\n",
       "      <td>62</td>\n",
       "      <td>61</td>\n",
       "      <td>3721</td>\n",
       "      <td>3844</td>\n",
       "      <td>3782</td>\n",
       "      <td>226981</td>\n",
       "      <td>234484</td>\n",
       "      <td>...</td>\n",
       "      <td>186.0</td>\n",
       "      <td>186.0</td>\n",
       "      <td>0.660429</td>\n",
       "      <td>0.275788</td>\n",
       "      <td>0.334527</td>\n",
       "      <td>0.275788</td>\n",
       "      <td>0.328797</td>\n",
       "      <td>186.0</td>\n",
       "      <td>0.328797</td>\n",
       "      <td>0.328797</td>\n",
       "    </tr>\n",
       "    <tr>\n",
       "      <th>1</th>\n",
       "      <td>0</td>\n",
       "      <td>1</td>\n",
       "      <td>62</td>\n",
       "      <td>53</td>\n",
       "      <td>53</td>\n",
       "      <td>3844</td>\n",
       "      <td>2809</td>\n",
       "      <td>3286</td>\n",
       "      <td>238328</td>\n",
       "      <td>174158</td>\n",
       "      <td>...</td>\n",
       "      <td>201.0</td>\n",
       "      <td>201.0</td>\n",
       "      <td>0.671563</td>\n",
       "      <td>0.295845</td>\n",
       "      <td>0.187679</td>\n",
       "      <td>0.295845</td>\n",
       "      <td>0.161175</td>\n",
       "      <td>201.0</td>\n",
       "      <td>0.161175</td>\n",
       "      <td>0.161175</td>\n",
       "    </tr>\n",
       "    <tr>\n",
       "      <th>2</th>\n",
       "      <td>0</td>\n",
       "      <td>0</td>\n",
       "      <td>75</td>\n",
       "      <td>70</td>\n",
       "      <td>67</td>\n",
       "      <td>5625</td>\n",
       "      <td>4900</td>\n",
       "      <td>5250</td>\n",
       "      <td>421875</td>\n",
       "      <td>367500</td>\n",
       "      <td>...</td>\n",
       "      <td>433.0</td>\n",
       "      <td>433.0</td>\n",
       "      <td>0.802106</td>\n",
       "      <td>0.631805</td>\n",
       "      <td>0.512894</td>\n",
       "      <td>0.631805</td>\n",
       "      <td>0.514327</td>\n",
       "      <td>433.0</td>\n",
       "      <td>0.514327</td>\n",
       "      <td>0.514327</td>\n",
       "    </tr>\n",
       "    <tr>\n",
       "      <th>3</th>\n",
       "      <td>1</td>\n",
       "      <td>1</td>\n",
       "      <td>76</td>\n",
       "      <td>65</td>\n",
       "      <td>79</td>\n",
       "      <td>5776</td>\n",
       "      <td>4225</td>\n",
       "      <td>4940</td>\n",
       "      <td>438976</td>\n",
       "      <td>321100</td>\n",
       "      <td>...</td>\n",
       "      <td>452.0</td>\n",
       "      <td>452.0</td>\n",
       "      <td>0.811202</td>\n",
       "      <td>0.659026</td>\n",
       "      <td>0.787249</td>\n",
       "      <td>0.659026</td>\n",
       "      <td>0.387536</td>\n",
       "      <td>452.0</td>\n",
       "      <td>0.387536</td>\n",
       "      <td>0.387536</td>\n",
       "    </tr>\n",
       "    <tr>\n",
       "      <th>4</th>\n",
       "      <td>1</td>\n",
       "      <td>1</td>\n",
       "      <td>58</td>\n",
       "      <td>44</td>\n",
       "      <td>53</td>\n",
       "      <td>3364</td>\n",
       "      <td>1936</td>\n",
       "      <td>2552</td>\n",
       "      <td>195112</td>\n",
       "      <td>112288</td>\n",
       "      <td>...</td>\n",
       "      <td>142.0</td>\n",
       "      <td>142.0</td>\n",
       "      <td>0.625916</td>\n",
       "      <td>0.213467</td>\n",
       "      <td>0.187679</td>\n",
       "      <td>0.213467</td>\n",
       "      <td>0.058023</td>\n",
       "      <td>142.0</td>\n",
       "      <td>0.058023</td>\n",
       "      <td>0.058023</td>\n",
       "    </tr>\n",
       "  </tbody>\n",
       "</table>\n",
       "<p>5 rows × 218 columns</p>\n",
       "</div>"
      ],
      "text/plain": [
       "   gender  test preparation course  reading score  writing score  math score  \\\n",
       "0       1                        1             61             62          61   \n",
       "1       0                        1             62             53          53   \n",
       "2       0                        0             75             70          67   \n",
       "3       1                        1             76             65          79   \n",
       "4       1                        1             58             44          53   \n",
       "\n",
       "   reading score ^2  writing score ^2  reading score x writing score  \\\n",
       "0              3721              3844                           3782   \n",
       "1              3844              2809                           3286   \n",
       "2              5625              4900                           5250   \n",
       "3              5776              4225                           4940   \n",
       "4              3364              1936                           2552   \n",
       "\n",
       "   reading score ^3  writing score ^3  ...  Log_read_rank  read_boxcox_rank  \\\n",
       "0            226981            234484  ...          186.0             186.0   \n",
       "1            238328            174158  ...          201.0             201.0   \n",
       "2            421875            367500  ...          433.0             433.0   \n",
       "3            438976            321100  ...          452.0             452.0   \n",
       "4            195112            112288  ...          142.0             142.0   \n",
       "\n",
       "   logreadrn  readingq     mathq  readingqmm  writingq  readingqmmrank  \\\n",
       "0   0.660429  0.275788  0.334527    0.275788  0.328797           186.0   \n",
       "1   0.671563  0.295845  0.187679    0.295845  0.161175           201.0   \n",
       "2   0.802106  0.631805  0.512894    0.631805  0.514327           433.0   \n",
       "3   0.811202  0.659026  0.787249    0.659026  0.387536           452.0   \n",
       "4   0.625916  0.213467  0.187679    0.213467  0.058023           142.0   \n",
       "\n",
       "   writingmax      wnew  \n",
       "0    0.328797  0.328797  \n",
       "1    0.161175  0.161175  \n",
       "2    0.514327  0.514327  \n",
       "3    0.387536  0.387536  \n",
       "4    0.058023  0.058023  \n",
       "\n",
       "[5 rows x 218 columns]"
      ]
     },
     "execution_count": 168,
     "metadata": {},
     "output_type": "execute_result"
    }
   ],
   "source": [
    "train.head()"
   ]
  },
  {
   "cell_type": "code",
   "execution_count": 379,
   "metadata": {
    "id": "z1rlo-5dCW3E"
   },
   "outputs": [],
   "source": [
    "x = train[[ 'write_meandev','gender','readingqmm',''\n",
    "        \"lunchp_master's degreefree/reduced\",\n",
    "       'ReadCourse_Avg_IncompleteFail', 'lunch_standard','satread_bins_(450, 500]',\n",
    "           'testeth_group Ecompleted', 'testeth_group Enone', \n",
    "            \"ethp_bachelor's degreegroup C\",  \n",
    "            'grades_A',  'WriteCourse_Avg_CompletePass']]"
   ]
  },
  {
   "cell_type": "code",
   "execution_count": null,
   "metadata": {},
   "outputs": [],
   "source": [
    "x = x.rename(columns={'satread_bins_(450, 500]': 'satwrite500', 'satwrite_bins_(500, 600]': 'satwrite600','satwrite_bins_(600, 700]': 'satwrite700'})"
   ]
  },
  {
   "cell_type": "code",
   "execution_count": 381,
   "metadata": {
    "colab": {
     "base_uri": "https://localhost:8080/"
    },
    "id": "cX4BfD2XCW3F",
    "outputId": "12a8004d-9040-4045-81c8-4464e477b402"
   },
   "outputs": [
    {
     "data": {
      "text/plain": [
       "ExtraTreesRegressor()"
      ]
     },
     "execution_count": 381,
     "metadata": {},
     "output_type": "execute_result"
    }
   ],
   "source": [
    "from sklearn.ensemble import ExtraTreesRegressor\n",
    "\n",
    "model = ExtraTreesRegressor()\n",
    "model.fit(x,y)"
   ]
  },
  {
   "cell_type": "code",
   "execution_count": 382,
   "metadata": {
    "colab": {
     "base_uri": "https://localhost:8080/",
     "height": 483
    },
    "id": "lpYw4hOnCW3F",
    "outputId": "ec4dd89c-ff75-4eb0-c177-b45b8fe39823"
   },
   "outputs": [
    {
     "data": {
      "image/png": "[encoded data removed]",
      "text/plain": [
       "<Figure size 864x576 with 1 Axes>"
      ]
     },
     "metadata": {
      "needs_background": "light"
     },
     "output_type": "display_data"
    }
   ],
   "source": [
    "plt.figure(figsize=(12,8))\n",
    "impft = pd.Series(model.feature_importances_, index=x.columns)\n",
    "impft.nlargest(20).plot(kind='barh')\n",
    "plt.show()"
   ]
  },
  {
   "cell_type": "code",
   "execution_count": 383,
   "metadata": {
    "colab": {
     "base_uri": "https://localhost:8080/"
    },
    "id": "eYrrr6iBCW3F",
    "outputId": "1f76e9f3-558d-4615-ec90-b3b4e5968886"
   },
   "outputs": [
    {
     "name": "stdout",
     "output_type": "stream",
     "text": [
      "                            OLS Regression Results                            \n",
      "==============================================================================\n",
      "Dep. Variable:             math score   R-squared:                       0.885\n",
      "Model:                            OLS   Adj. R-squared:                  0.883\n",
      "Method:                 Least Squares   F-statistic:                     405.5\n",
      "Date:                Mon, 01 Mar 2021   Prob (F-statistic):          3.24e-311\n",
      "Time:                        19:10:56   Log-Likelihood:                -2133.0\n",
      "No. Observations:                 699   AIC:                             4294.\n",
      "Df Residuals:                     685   BIC:                             4358.\n",
      "Df Model:                          13                                         \n",
      "Covariance Type:            nonrobust                                         \n",
      "======================================================================================================\n",
      "                                         coef    std err          t      P>|t|      [0.025      0.975]\n",
      "------------------------------------------------------------------------------------------------------\n",
      "const                                 46.8898      4.686     10.005      0.000      37.688      56.091\n",
      "write_meandev                          0.7581      0.048     15.684      0.000       0.663       0.853\n",
      "gender                                13.2201      0.428     30.872      0.000      12.379      14.061\n",
      "readingqmm                            13.9499      4.115      3.390      0.001       5.871      22.029\n",
      "reading score                          0.0503      0.091      0.553      0.581      -0.128       0.229\n",
      "lunchp_master's degreefree/reduced    -3.6503      1.314     -2.777      0.006      -6.231      -1.069\n",
      "ReadCourse_Avg_IncompleteFail          4.3887      0.636      6.898      0.000       3.139       5.638\n",
      "lunch_standard                         3.1846      0.442      7.210      0.000       2.317       4.052\n",
      "satwrite500                           -1.9347      0.573     -3.374      0.001      -3.061      -0.809\n",
      "testeth_group Ecompleted               4.6163      0.886      5.212      0.000       2.877       6.355\n",
      "testeth_group Enone                    4.9193      0.746      6.594      0.000       3.455       6.384\n",
      "ethp_bachelor's degreegroup C         -3.1711      1.047     -3.028      0.003      -5.227      -1.115\n",
      "grades_A                              -1.8818      0.674     -2.790      0.005      -3.206      -0.558\n",
      "WriteCourse_Avg_CompletePass          -2.8956      0.584     -4.960      0.000      -4.042      -1.749\n",
      "==============================================================================\n",
      "Omnibus:                        0.680   Durbin-Watson:                   1.922\n",
      "Prob(Omnibus):                  0.712   Jarque-Bera (JB):                0.746\n",
      "Skew:                          -0.071   Prob(JB):                        0.689\n",
      "Kurtosis:                       2.928   Cond. No.                     2.12e+03\n",
      "==============================================================================\n",
      "\n",
      "Warnings:\n",
      "[1] Standard Errors assume that the covariance matrix of the errors is correctly specified.\n",
      "[2] The condition number is large, 2.12e+03. This might indicate that there are\n",
      "strong multicollinearity or other numerical problems.\n"
     ]
    }
   ],
   "source": [
    "x = sm.add_constant(x) \n",
    "result = sm.OLS(y,x).fit() \n",
    "print(result.summary())"
   ]
  },
  {
   "cell_type": "code",
   "execution_count": 174,
   "metadata": {
    "colab": {
     "base_uri": "https://localhost:8080/"
    },
    "id": "wA74XOGmCW3F",
    "outputId": "6cd93685-63bd-4d29-9e64-395fa217bb52"
   },
   "outputs": [
    {
     "name": "stdout",
     "output_type": "stream",
     "text": [
      "                               feature        VIF\n",
      "0                                const  36.240654\n",
      "1                        write_meandev   9.614444\n",
      "2                               gender   1.166395\n",
      "3                           readingqmm   9.386108\n",
      "4   lunchp_master's degreefree/reduced   1.068877\n",
      "5        ReadCourse_Avg_IncompleteFail   2.294028\n",
      "6                       lunch_standard   1.159259\n",
      "7                          satwrite500   1.229393\n",
      "8             testeth_group Ecompleted   1.144041\n",
      "9                  testeth_group Enone   1.072220\n",
      "10       ethp_bachelor's degreegroup C   1.027682\n",
      "11                            grades_A   1.355518\n",
      "12        WriteCourse_Avg_CompletePass   1.577755\n"
     ]
    }
   ],
   "source": [
    "vif_data = pd.DataFrame() \n",
    "vif_data[\"feature\"] = x.columns \n",
    "  \n",
    "# calculating VIF for each feature \n",
    "vif_data[\"VIF\"] = [variance_inflation_factor(x.values, i) \n",
    "                          for i in range(len(x.columns))] \n",
    "  \n",
    "print(vif_data)"
   ]
  },
  {
   "cell_type": "code",
   "execution_count": 175,
   "metadata": {
    "id": "eep045_7CW3F"
   },
   "outputs": [],
   "source": [
    "x.drop('const', axis = 1 , inplace = True)"
   ]
  },
  {
   "cell_type": "code",
   "execution_count": 176,
   "metadata": {
    "id": "73-qptyNCW3F"
   },
   "outputs": [],
   "source": [
    "reg = LinearRegression()"
   ]
  },
  {
   "cell_type": "code",
   "execution_count": 339,
   "metadata": {
    "id": "y5aUM-FiCW3F"
   },
   "outputs": [],
   "source": [
    "x_train,x_test,y_train,y_test = train_test_split(x,y,test_size = 0.20)"
   ]
  },
  {
   "cell_type": "code",
   "execution_count": 340,
   "metadata": {
    "id": "T4PeI1GyCW3G"
   },
   "outputs": [],
   "source": [
    "model = reg.fit(x_train,y_train)"
   ]
  },
  {
   "cell_type": "code",
   "execution_count": 341,
   "metadata": {
    "colab": {
     "base_uri": "https://localhost:8080/"
    },
    "id": "4UXhFrdXCW3G",
    "outputId": "02e506a9-534f-40b0-95af-a842d6cfede1"
   },
   "outputs": [
    {
     "data": {
      "text/plain": [
       "0.9176874021818694"
      ]
     },
     "execution_count": 341,
     "metadata": {},
     "output_type": "execute_result"
    }
   ],
   "source": [
    "y_pred_reg = reg.predict(x_test)\n",
    "from sklearn.metrics import r2_score\n",
    "score_reg = r2_score(y_test,y_pred_reg)\n",
    "score_reg"
   ]
  },
  {
   "cell_type": "code",
   "execution_count": 238,
   "metadata": {
    "colab": {
     "base_uri": "https://localhost:8080/"
    },
    "id": "-VIfFt2iCW3G",
    "outputId": "99afc7c6-718a-4211-976e-029ae45e9b7b"
   },
   "outputs": [
    {
     "name": "stdout",
     "output_type": "stream",
     "text": [
      "RMSE Lin: 4.62730604570098\n"
     ]
    }
   ],
   "source": [
    "rmse_lin = r(mse(y_test, y_pred_reg))\n",
    "print('RMSE Lin:', rmse_lin)"
   ]
  },
  {
   "cell_type": "code",
   "execution_count": 239,
   "metadata": {
    "colab": {
     "base_uri": "https://localhost:8080/"
    },
    "id": "EdXZTcutCW3G",
    "outputId": "f06e2cf0-c14a-4083-ab48-57824d97b784"
   },
   "outputs": [
    {
     "data": {
      "text/plain": [
       "Ridge(random_state=42)"
      ]
     },
     "execution_count": 239,
     "metadata": {},
     "output_type": "execute_result"
    }
   ],
   "source": [
    "from sklearn.linear_model import Ridge\n",
    "\n",
    "mod_rid = Ridge(alpha=1.0, random_state=42)\n",
    "mod_rid.fit(x_train, y_train)"
   ]
  },
  {
   "cell_type": "code",
   "execution_count": 240,
   "metadata": {
    "id": "yjktXz_mCW3G"
   },
   "outputs": [],
   "source": [
    "ypred_rid = mod_rid.predict(x_test)"
   ]
  },
  {
   "cell_type": "code",
   "execution_count": 241,
   "metadata": {
    "colab": {
     "base_uri": "https://localhost:8080/"
    },
    "id": "L96qMLraCW3G",
    "outputId": "6ae9d19f-3811-4d94-df53-2a062d902d75"
   },
   "outputs": [
    {
     "name": "stdout",
     "output_type": "stream",
     "text": [
      "RMSE Rid: 4.675053576346026\n"
     ]
    }
   ],
   "source": [
    "rmse_rid = r(mse(y_test, ypred_rid))\n",
    "print('RMSE Rid:', rmse_rid)"
   ]
  },
  {
   "cell_type": "code",
   "execution_count": 184,
   "metadata": {
    "id": "YPqeqPx4CW3G"
   },
   "outputs": [],
   "source": [
    "from sklearn.model_selection import GridSearchCV\n",
    "from sklearn.svm import SVR"
   ]
  },
  {
   "cell_type": "code",
   "execution_count": 185,
   "metadata": {
    "id": "M1CW7fXzCW3H"
   },
   "outputs": [],
   "source": [
    "param_grid = {'C': [0.1,1, 10, 100], 'gamma': [1,0.1,0.01,0.001],'kernel': ['rbf', 'linear', 'sigmoid']}"
   ]
  },
  {
   "cell_type": "code",
   "execution_count": 186,
   "metadata": {
    "colab": {
     "base_uri": "https://localhost:8080/"
    },
    "id": "OTlgMxv8CW3H",
    "outputId": "108dab59-f606-4eea-a5c6-ec9436ea2d7d"
   },
   "outputs": [],
   "source": [
    "#grid = GridSearchCV(SVR(),param_grid,refit=True,verbose=2)\n",
    "#grid.fit(x_train,y_train)"
   ]
  },
  {
   "cell_type": "code",
   "execution_count": 187,
   "metadata": {
    "colab": {
     "base_uri": "https://localhost:8080/"
    },
    "id": "xqic6GRECW3H",
    "outputId": "f217d9e6-ff83-47ba-a496-b662b7894949"
   },
   "outputs": [],
   "source": [
    "#print(grid.best_estimator_)"
   ]
  },
  {
   "cell_type": "code",
   "execution_count": 188,
   "metadata": {},
   "outputs": [],
   "source": [
    "#SVR(C=10, cache_size=200, coef0=0.0, degree=3, epsilon=0.1, gamma=1,\n",
    "#    kernel='linear', max_iter=-1, shrinking=True, tol=0.001, verbose=False)"
   ]
  },
  {
   "cell_type": "code",
   "execution_count": 189,
   "metadata": {
    "colab": {
     "base_uri": "https://localhost:8080/"
    },
    "id": "UzHRjYCUCW3H",
    "outputId": "a02185bc-8b3c-472a-d3cc-4f4f7b8e510b"
   },
   "outputs": [],
   "source": [
    "#regressor = SVR(C=10, cache_size=200, coef0=0.0, degree=3, epsilon=0.1, gamma=1,\n",
    "#    kernel='linear', max_iter=-1, shrinking=True, tol=0.001, verbose=False)\n",
    "#regressor.fit(x_train, y_train)"
   ]
  },
  {
   "cell_type": "code",
   "execution_count": 190,
   "metadata": {
    "colab": {
     "base_uri": "https://localhost:8080/"
    },
    "id": "84k8VxurCW3H",
    "outputId": "68cfc5bf-004e-42e2-dd89-e085da9d68b1"
   },
   "outputs": [
    {
     "data": {
      "text/plain": [
       "BayesianRidge()"
      ]
     },
     "execution_count": 190,
     "metadata": {},
     "output_type": "execute_result"
    }
   ],
   "source": [
    "from sklearn.linear_model import BayesianRidge\n",
    "\n",
    "mod_brid = BayesianRidge()\n",
    "mod_brid.fit(x_train, y_train)"
   ]
  },
  {
   "cell_type": "code",
   "execution_count": 191,
   "metadata": {
    "id": "g9cgjGz9CW3H"
   },
   "outputs": [],
   "source": [
    "ypred_brid = mod_brid.predict(x_test)"
   ]
  },
  {
   "cell_type": "code",
   "execution_count": 192,
   "metadata": {
    "colab": {
     "base_uri": "https://localhost:8080/"
    },
    "id": "ElenNj9uCW3I",
    "outputId": "8f52372e-f7aa-4697-e2a9-be2ef752a9a3"
   },
   "outputs": [
    {
     "name": "stdout",
     "output_type": "stream",
     "text": [
      "RMSE Bayesian Ridge: 5.296198352451528\n"
     ]
    }
   ],
   "source": [
    "rmse_brid = r(mse(y_test, ypred_brid))\n",
    "print('RMSE Bayesian Ridge:', rmse_brid)"
   ]
  },
  {
   "cell_type": "code",
   "execution_count": 193,
   "metadata": {
    "colab": {
     "base_uri": "https://localhost:8080/",
     "height": 417
    },
    "id": "6pMBl-r7CW3I",
    "outputId": "d708e8b1-f004-47b5-b1ba-0223e82a68e4"
   },
   "outputs": [
    {
     "data": {
      "text/html": [
       "<div>\n",
       "<style scoped>\n",
       "    .dataframe tbody tr th:only-of-type {\n",
       "        vertical-align: middle;\n",
       "    }\n",
       "\n",
       "    .dataframe tbody tr th {\n",
       "        vertical-align: top;\n",
       "    }\n",
       "\n",
       "    .dataframe thead th {\n",
       "        text-align: right;\n",
       "    }\n",
       "</style>\n",
       "<table border=\"1\" class=\"dataframe\">\n",
       "  <thead>\n",
       "    <tr style=\"text-align: right;\">\n",
       "      <th></th>\n",
       "      <th>Unnamed: 0</th>\n",
       "      <th>gender</th>\n",
       "      <th>ethnicity</th>\n",
       "      <th>parental level of education</th>\n",
       "      <th>lunch</th>\n",
       "      <th>test preparation course</th>\n",
       "      <th>reading score</th>\n",
       "      <th>writing score</th>\n",
       "      <th>gender_lunch</th>\n",
       "      <th>eth_lunch</th>\n",
       "      <th>...</th>\n",
       "      <th>readingmm</th>\n",
       "      <th>write_boxcox</th>\n",
       "      <th>Log_read</th>\n",
       "      <th>read_boxcox</th>\n",
       "      <th>readingq</th>\n",
       "      <th>readingqmm</th>\n",
       "      <th>writingq</th>\n",
       "      <th>readingqmmrank</th>\n",
       "      <th>writingmax</th>\n",
       "      <th>wnew</th>\n",
       "    </tr>\n",
       "  </thead>\n",
       "  <tbody>\n",
       "    <tr>\n",
       "      <th>0</th>\n",
       "      <td>0</td>\n",
       "      <td>female</td>\n",
       "      <td>group C</td>\n",
       "      <td>some college</td>\n",
       "      <td>standard</td>\n",
       "      <td>none</td>\n",
       "      <td>67</td>\n",
       "      <td>72</td>\n",
       "      <td>femalestandard</td>\n",
       "      <td>standardgroup C</td>\n",
       "      <td>...</td>\n",
       "      <td>0.602410</td>\n",
       "      <td>392.770367</td>\n",
       "      <td>4.219508</td>\n",
       "      <td>347.077485</td>\n",
       "      <td>0.449833</td>\n",
       "      <td>0.449833</td>\n",
       "      <td>0.593645</td>\n",
       "      <td>132.0</td>\n",
       "      <td>0.593645</td>\n",
       "      <td>0.593645</td>\n",
       "    </tr>\n",
       "    <tr>\n",
       "      <th>1</th>\n",
       "      <td>1</td>\n",
       "      <td>male</td>\n",
       "      <td>group E</td>\n",
       "      <td>some college</td>\n",
       "      <td>standard</td>\n",
       "      <td>none</td>\n",
       "      <td>60</td>\n",
       "      <td>59</td>\n",
       "      <td>malestandard</td>\n",
       "      <td>standardgroup E</td>\n",
       "      <td>...</td>\n",
       "      <td>0.518072</td>\n",
       "      <td>293.379751</td>\n",
       "      <td>4.110874</td>\n",
       "      <td>295.441636</td>\n",
       "      <td>0.287625</td>\n",
       "      <td>0.287625</td>\n",
       "      <td>0.279264</td>\n",
       "      <td>85.0</td>\n",
       "      <td>0.279264</td>\n",
       "      <td>0.279264</td>\n",
       "    </tr>\n",
       "    <tr>\n",
       "      <th>2</th>\n",
       "      <td>2</td>\n",
       "      <td>female</td>\n",
       "      <td>group C</td>\n",
       "      <td>bachelor's degree</td>\n",
       "      <td>standard</td>\n",
       "      <td>none</td>\n",
       "      <td>93</td>\n",
       "      <td>95</td>\n",
       "      <td>femalestandard</td>\n",
       "      <td>standardgroup C</td>\n",
       "      <td>...</td>\n",
       "      <td>0.915663</td>\n",
       "      <td>590.192400</td>\n",
       "      <td>4.543295</td>\n",
       "      <td>560.804193</td>\n",
       "      <td>0.976589</td>\n",
       "      <td>0.976589</td>\n",
       "      <td>0.979933</td>\n",
       "      <td>293.0</td>\n",
       "      <td>0.979933</td>\n",
       "      <td>0.979933</td>\n",
       "    </tr>\n",
       "    <tr>\n",
       "      <th>3</th>\n",
       "      <td>3</td>\n",
       "      <td>male</td>\n",
       "      <td>group D</td>\n",
       "      <td>associate's degree</td>\n",
       "      <td>standard</td>\n",
       "      <td>none</td>\n",
       "      <td>48</td>\n",
       "      <td>46</td>\n",
       "      <td>malestandard</td>\n",
       "      <td>standardgroup D</td>\n",
       "      <td>...</td>\n",
       "      <td>0.373494</td>\n",
       "      <td>203.954655</td>\n",
       "      <td>3.891820</td>\n",
       "      <td>213.466202</td>\n",
       "      <td>0.088629</td>\n",
       "      <td>0.088629</td>\n",
       "      <td>0.090301</td>\n",
       "      <td>26.0</td>\n",
       "      <td>0.090301</td>\n",
       "      <td>0.090301</td>\n",
       "    </tr>\n",
       "    <tr>\n",
       "      <th>4</th>\n",
       "      <td>4</td>\n",
       "      <td>female</td>\n",
       "      <td>group B</td>\n",
       "      <td>associate's degree</td>\n",
       "      <td>standard</td>\n",
       "      <td>none</td>\n",
       "      <td>76</td>\n",
       "      <td>80</td>\n",
       "      <td>femalestandard</td>\n",
       "      <td>standardgroup B</td>\n",
       "      <td>...</td>\n",
       "      <td>0.710843</td>\n",
       "      <td>458.457234</td>\n",
       "      <td>4.343805</td>\n",
       "      <td>417.293115</td>\n",
       "      <td>0.692308</td>\n",
       "      <td>0.692308</td>\n",
       "      <td>0.807692</td>\n",
       "      <td>205.0</td>\n",
       "      <td>0.807692</td>\n",
       "      <td>0.807692</td>\n",
       "    </tr>\n",
       "  </tbody>\n",
       "</table>\n",
       "<p>5 rows × 39 columns</p>\n",
       "</div>"
      ],
      "text/plain": [
       "   Unnamed: 0  gender ethnicity parental level of education     lunch  \\\n",
       "0           0  female   group C                some college  standard   \n",
       "1           1    male   group E                some college  standard   \n",
       "2           2  female   group C           bachelor's degree  standard   \n",
       "3           3    male   group D          associate's degree  standard   \n",
       "4           4  female   group B          associate's degree  standard   \n",
       "\n",
       "  test preparation course  reading score  writing score    gender_lunch  \\\n",
       "0                    none             67             72  femalestandard   \n",
       "1                    none             60             59    malestandard   \n",
       "2                    none             93             95  femalestandard   \n",
       "3                    none             48             46    malestandard   \n",
       "4                    none             76             80  femalestandard   \n",
       "\n",
       "         eth_lunch  ... readingmm write_boxcox  Log_read read_boxcox  \\\n",
       "0  standardgroup C  ...  0.602410   392.770367  4.219508  347.077485   \n",
       "1  standardgroup E  ...  0.518072   293.379751  4.110874  295.441636   \n",
       "2  standardgroup C  ...  0.915663   590.192400  4.543295  560.804193   \n",
       "3  standardgroup D  ...  0.373494   203.954655  3.891820  213.466202   \n",
       "4  standardgroup B  ...  0.710843   458.457234  4.343805  417.293115   \n",
       "\n",
       "   readingq readingqmm  writingq  readingqmmrank  writingmax      wnew  \n",
       "0  0.449833   0.449833  0.593645           132.0    0.593645  0.593645  \n",
       "1  0.287625   0.287625  0.279264            85.0    0.279264  0.279264  \n",
       "2  0.976589   0.976589  0.979933           293.0    0.979933  0.979933  \n",
       "3  0.088629   0.088629  0.090301            26.0    0.090301  0.090301  \n",
       "4  0.692308   0.692308  0.807692           205.0    0.807692  0.807692  \n",
       "\n",
       "[5 rows x 39 columns]"
      ]
     },
     "execution_count": 193,
     "metadata": {},
     "output_type": "execute_result"
    }
   ],
   "source": [
    "test.head()"
   ]
  },
  {
   "cell_type": "code",
   "execution_count": 194,
   "metadata": {
    "id": "U0k0yfAqCW3I"
   },
   "outputs": [],
   "source": [
    "test['avg'] = (test['reading score']+test['writing score'])/2"
   ]
  },
  {
   "cell_type": "code",
   "execution_count": 195,
   "metadata": {
    "colab": {
     "base_uri": "https://localhost:8080/"
    },
    "id": "fCEqrxeqCW3I",
    "outputId": "2e9124fe-0bf7-42f5-e99b-d3dd67f727ab"
   },
   "outputs": [
    {
     "data": {
      "text/plain": [
       "13.5"
      ]
     },
     "execution_count": 195,
     "metadata": {},
     "output_type": "execute_result"
    }
   ],
   "source": [
    "test['avg'].min()"
   ]
  },
  {
   "cell_type": "code",
   "execution_count": 196,
   "metadata": {
    "colab": {
     "base_uri": "https://localhost:8080/"
    },
    "id": "jEHFqs8DCW3I",
    "outputId": "f1a6d01b-855d-4326-ca67-0260a5ec8b0b"
   },
   "outputs": [
    {
     "data": {
      "text/plain": [
       "100.0"
      ]
     },
     "execution_count": 196,
     "metadata": {},
     "output_type": "execute_result"
    }
   ],
   "source": [
    "test['avg'].max()"
   ]
  },
  {
   "cell_type": "code",
   "execution_count": 197,
   "metadata": {
    "id": "U4Mg33f8CW3I"
   },
   "outputs": [],
   "source": [
    "test['avg score_bins'] = pd.cut(test['avg'], avg_bin)"
   ]
  },
  {
   "cell_type": "code",
   "execution_count": 198,
   "metadata": {
    "id": "EMZmYregCW3J"
   },
   "outputs": [],
   "source": [
    "test['read_meandev'] = test['reading score'] - test['reading score'].mean()"
   ]
  },
  {
   "cell_type": "code",
   "execution_count": 199,
   "metadata": {
    "id": "QlVVb9bdCW3J"
   },
   "outputs": [],
   "source": [
    "test['write_meandev'] = test['writing score'] - test['writing score'].mean()"
   ]
  },
  {
   "cell_type": "code",
   "execution_count": 200,
   "metadata": {
    "id": "e0u7YRHjCW3J"
   },
   "outputs": [],
   "source": [
    "test['readrank'] = test[['reading score']].rank(method = 'first')\n",
    "test['avgrank'] = test[['avg']].rank(method = 'first')"
   ]
  },
  {
   "cell_type": "code",
   "execution_count": 201,
   "metadata": {
    "id": "Hn9bHfSiCW3J"
   },
   "outputs": [],
   "source": [
    "test['grades'] = test['avg'].apply(lambda x : define_grades(x))"
   ]
  },
  {
   "cell_type": "code",
   "execution_count": 202,
   "metadata": {
    "id": "ET6yFaUBCW3J"
   },
   "outputs": [],
   "source": [
    "test['Reading_AvgStatus'] = np.where(test['reading score']<= test['reading score'].mean(), 'F', 'P')"
   ]
  },
  {
   "cell_type": "code",
   "execution_count": 203,
   "metadata": {
    "id": "6c08fbaMCW3J"
   },
   "outputs": [],
   "source": [
    "test['Writing_AvgStatus'] = np.where(test['writing score']<= test['writing score'].mean(), 'F', 'P')"
   ]
  },
  {
   "cell_type": "code",
   "execution_count": 204,
   "metadata": {
    "id": "LKsNqUscCW3J"
   },
   "outputs": [],
   "source": [
    "test['OverAll_PassStatus'] = test.apply(lambda x : 'F' if x['Reading_AvgStatus'] == 'F' or x['Writing_AvgStatus'] == 'F' else 'P', axis =1)"
   ]
  },
  {
   "cell_type": "code",
   "execution_count": 205,
   "metadata": {
    "id": "0kLbbhjdCW3K"
   },
   "outputs": [],
   "source": [
    "test['ReadCourse_Avg'] = test.apply(lambda x : 'CompleteFail' if x['Reading_AvgStatus'] == 'F' and  x['test preparation course'] == 'completed' else ( 'CompletePass' if x['Reading_AvgStatus'] == 'P' and  x['test preparation course'] == 'completed' else ('IncompletePass' if x['Reading_AvgStatus'] == 'P' and  x['test preparation course'] == 'none' else 'IncompleteFail')) , axis =1)"
   ]
  },
  {
   "cell_type": "code",
   "execution_count": 206,
   "metadata": {
    "id": "9Gy1wajMCW3K"
   },
   "outputs": [],
   "source": [
    "test['WriteCourse_Avg'] = test.apply(lambda x : 'CompleteFail' if x['Writing_AvgStatus'] == 'F' and  x['test preparation course'] == 'completed' else ( 'CompletePass' if x['Writing_AvgStatus'] == 'P' and  x['test preparation course'] == 'completed' else ('IncompletePass' if x['Writing_AvgStatus'] == 'P' and  x['test preparation course'] == 'none' else 'IncompleteFail')) , axis =1)"
   ]
  },
  {
   "cell_type": "code",
   "execution_count": 207,
   "metadata": {},
   "outputs": [],
   "source": [
    "test['Log_read_rank'] = test[['Log_read']].rank(method = 'first')\n",
    "test['read_boxcox_rank'] = test[['read_boxcox']].rank(method = 'first')"
   ]
  },
  {
   "cell_type": "code",
   "execution_count": 208,
   "metadata": {
    "id": "6QqgcJ5ACW3K"
   },
   "outputs": [],
   "source": [
    "test['test preparation course']= label_encoder.fit_transform(test['test preparation course']) \n",
    "test['gender']= label_encoder.fit_transform(test['gender'])\n",
    "test['OverAll_PassStatus']= label_encoder.fit_transform(test['OverAll_PassStatus']) "
   ]
  },
  {
   "cell_type": "code",
   "execution_count": 209,
   "metadata": {
    "id": "_vs0hLdvCW3K"
   },
   "outputs": [],
   "source": [
    "test = pd.get_dummies(test, columns=['ethnicity', 'parental level of education','write score_bins','reading score_bins','Reading_AvgStatus','Writing_AvgStatus','grades','ReadCourse_Avg','WriteCourse_Avg','lunch'], drop_first=True)"
   ]
  },
  {
   "cell_type": "code",
   "execution_count": 210,
   "metadata": {
    "id": "VuKHiGDMCW3K"
   },
   "outputs": [],
   "source": [
    "test = pd.get_dummies(test, columns=['gen_test','geneth','genp','testeth','ethp','lunchp','testp'], drop_first=True)"
   ]
  },
  {
   "cell_type": "code",
   "execution_count": 211,
   "metadata": {
    "id": "415nEqb9CW3K"
   },
   "outputs": [],
   "source": [
    "test = pd.get_dummies(test, columns=['satwrite_bins','satread_bins'], drop_first=True)"
   ]
  },
  {
   "cell_type": "code",
   "execution_count": 212,
   "metadata": {},
   "outputs": [],
   "source": [
    "test['reading score x writing score'] = test['reading score']*test['writing score']"
   ]
  },
  {
   "cell_type": "code",
   "execution_count": 213,
   "metadata": {},
   "outputs": [],
   "source": [
    "test['writing score ^2'] = test['writing score']*test['writing score']"
   ]
  },
  {
   "cell_type": "code",
   "execution_count": 214,
   "metadata": {
    "id": "y63T24prCW3K"
   },
   "outputs": [],
   "source": [
    "test1 = test[[ 'write_meandev','gender','readingqmm',\n",
    "        \"lunchp_master's degreefree/reduced\",\n",
    "       'ReadCourse_Avg_IncompleteFail', 'lunch_standard','satread_bins_(450, 500]',\n",
    "           'testeth_group Ecompleted', 'testeth_group Enone', \n",
    "            \"ethp_bachelor's degreegroup C\",  \n",
    "            'grades_A',  'WriteCourse_Avg_CompletePass']]"
   ]
  },
  {
   "cell_type": "code",
   "execution_count": 215,
   "metadata": {},
   "outputs": [],
   "source": [
    "test1 = test1.rename(columns={'satread_bins_(450, 500]': 'satwrite500', 'satwrite_bins_(500, 600]': 'satwrite600','satwrite_bins_(600, 700]': 'satwrite700'})"
   ]
  },
  {
   "cell_type": "code",
   "execution_count": 342,
   "metadata": {
    "id": "i1CaDeW5CW3L"
   },
   "outputs": [],
   "source": [
    "op = reg.predict(test1)"
   ]
  },
  {
   "cell_type": "code",
   "execution_count": 343,
   "metadata": {
    "id": "-1iqS2AbCW3L"
   },
   "outputs": [],
   "source": [
    "#y_pred = regressor.predict(test1)"
   ]
  },
  {
   "cell_type": "code",
   "execution_count": 344,
   "metadata": {
    "colab": {
     "base_uri": "https://localhost:8080/"
    },
    "id": "Zfv2QfMFCW3L",
    "outputId": "02f084e6-f5f5-4f3a-bdce-5500b467ccf6"
   },
   "outputs": [
    {
     "data": {
      "text/plain": [
       "66.51800927826741"
      ]
     },
     "execution_count": 344,
     "metadata": {},
     "output_type": "execute_result"
    }
   ],
   "source": [
    "op.mean()"
   ]
  },
  {
   "cell_type": "code",
   "execution_count": 345,
   "metadata": {},
   "outputs": [
    {
     "name": "stdout",
     "output_type": "stream",
     "text": [
      "[17:32:44] WARNING: C:/Users/Administrator/workspace/xgboost-win64_release_1.3.0/src/objective/regression_obj.cu:170: reg:linear is now deprecated in favor of reg:squarederror.\n"
     ]
    },
    {
     "data": {
      "text/plain": [
       "XGBRegressor(base_score=0.5, booster='gbtree', colsample_bylevel=1,\n",
       "             colsample_bynode=1, colsample_bytree=1, gamma=0, gpu_id=-1,\n",
       "             importance_type='gain', interaction_constraints='',\n",
       "             learning_rate=0.300000012, max_delta_step=0, max_depth=6,\n",
       "             min_child_weight=1, missing=nan, monotone_constraints='()',\n",
       "             n_estimators=10, n_jobs=8, num_parallel_tree=1,\n",
       "             objective='reg:linear', random_state=123, reg_alpha=0,\n",
       "             reg_lambda=1, scale_pos_weight=1, seed=123, subsample=1,\n",
       "             tree_method='exact', validate_parameters=1, verbosity=None)"
      ]
     },
     "execution_count": 345,
     "metadata": {},
     "output_type": "execute_result"
    }
   ],
   "source": [
    "import xgboost as xg \n",
    "xgb_r = xg.XGBRegressor(objective ='reg:linear', \n",
    "                  n_estimators = 10, seed = 123)  \n",
    "xgb_r.fit(x_train,y_train) "
   ]
  },
  {
   "cell_type": "code",
   "execution_count": 346,
   "metadata": {},
   "outputs": [],
   "source": [
    "op2 = xgb_r.predict(test1)"
   ]
  },
  {
   "cell_type": "code",
   "execution_count": 347,
   "metadata": {},
   "outputs": [
    {
     "data": {
      "text/plain": [
       "64.21096"
      ]
     },
     "execution_count": 347,
     "metadata": {},
     "output_type": "execute_result"
    }
   ],
   "source": [
    "op2.mean()"
   ]
  },
  {
   "cell_type": "code",
   "execution_count": 348,
   "metadata": {},
   "outputs": [],
   "source": [
    "from catboost import CatBoostRegressor\n",
    "\n",
    "cat = CatBoostRegressor(\n",
    "    n_estimators = 200,\n",
    "    loss_function = 'MAE',\n",
    "    eval_metric = 'RMSE' )"
   ]
  },
  {
   "cell_type": "code",
   "execution_count": 349,
   "metadata": {},
   "outputs": [
    {
     "name": "stdout",
     "output_type": "stream",
     "text": [
      "0:\tlearn: 14.1021403\ttotal: 1.71ms\tremaining: 341ms\n",
      "1:\tlearn: 13.8161345\ttotal: 3.27ms\tremaining: 324ms\n",
      "2:\tlearn: 13.5472187\ttotal: 4.13ms\tremaining: 271ms\n",
      "3:\tlearn: 13.2952125\ttotal: 5.16ms\tremaining: 253ms\n",
      "4:\tlearn: 13.0451864\ttotal: 6.61ms\tremaining: 258ms\n",
      "5:\tlearn: 12.7971131\ttotal: 8.05ms\tremaining: 260ms\n",
      "6:\tlearn: 12.5344777\ttotal: 9.47ms\tremaining: 261ms\n",
      "7:\tlearn: 12.3099723\ttotal: 10.9ms\tremaining: 263ms\n",
      "8:\tlearn: 12.0732486\ttotal: 12.5ms\tremaining: 265ms\n",
      "9:\tlearn: 11.8773878\ttotal: 14ms\tremaining: 266ms\n",
      "10:\tlearn: 11.6509634\ttotal: 15.9ms\tremaining: 273ms\n",
      "11:\tlearn: 11.4216169\ttotal: 17.4ms\tremaining: 273ms\n",
      "12:\tlearn: 11.2209434\ttotal: 19ms\tremaining: 273ms\n",
      "13:\tlearn: 11.0077358\ttotal: 20.4ms\tremaining: 271ms\n",
      "14:\tlearn: 10.8026820\ttotal: 21.9ms\tremaining: 270ms\n",
      "15:\tlearn: 10.6152864\ttotal: 23.3ms\tremaining: 268ms\n",
      "16:\tlearn: 10.4540663\ttotal: 24.8ms\tremaining: 267ms\n",
      "17:\tlearn: 10.2797853\ttotal: 26.1ms\tremaining: 264ms\n",
      "18:\tlearn: 10.1252702\ttotal: 27.7ms\tremaining: 264ms\n",
      "19:\tlearn: 9.9416785\ttotal: 29.2ms\tremaining: 263ms\n",
      "20:\tlearn: 9.7724762\ttotal: 30.8ms\tremaining: 263ms\n",
      "21:\tlearn: 9.6016619\ttotal: 32.3ms\tremaining: 261ms\n",
      "22:\tlearn: 9.4743373\ttotal: 33.9ms\tremaining: 261ms\n",
      "23:\tlearn: 9.3313258\ttotal: 35.4ms\tremaining: 260ms\n",
      "24:\tlearn: 9.2004144\ttotal: 37ms\tremaining: 259ms\n",
      "25:\tlearn: 9.0449791\ttotal: 38.7ms\tremaining: 259ms\n",
      "26:\tlearn: 8.9524344\ttotal: 40.3ms\tremaining: 258ms\n",
      "27:\tlearn: 8.8402402\ttotal: 41.9ms\tremaining: 257ms\n",
      "28:\tlearn: 8.7224299\ttotal: 43.1ms\tremaining: 254ms\n",
      "29:\tlearn: 8.6120981\ttotal: 44.6ms\tremaining: 253ms\n",
      "30:\tlearn: 8.4961910\ttotal: 46.1ms\tremaining: 251ms\n",
      "31:\tlearn: 8.4053704\ttotal: 47.6ms\tremaining: 250ms\n",
      "32:\tlearn: 8.3245273\ttotal: 49.2ms\tremaining: 249ms\n",
      "33:\tlearn: 8.2112919\ttotal: 50.8ms\tremaining: 248ms\n",
      "34:\tlearn: 8.1197778\ttotal: 52ms\tremaining: 245ms\n",
      "35:\tlearn: 8.0386310\ttotal: 53.5ms\tremaining: 244ms\n",
      "36:\tlearn: 7.9387432\ttotal: 55ms\tremaining: 242ms\n",
      "37:\tlearn: 7.8677202\ttotal: 56.7ms\tremaining: 242ms\n",
      "38:\tlearn: 7.7765343\ttotal: 58.3ms\tremaining: 241ms\n",
      "39:\tlearn: 7.7157560\ttotal: 59.9ms\tremaining: 240ms\n",
      "40:\tlearn: 7.6332749\ttotal: 61.5ms\tremaining: 238ms\n",
      "41:\tlearn: 7.5630236\ttotal: 62.9ms\tremaining: 237ms\n",
      "42:\tlearn: 7.4757226\ttotal: 64.4ms\tremaining: 235ms\n",
      "43:\tlearn: 7.4018479\ttotal: 66ms\tremaining: 234ms\n",
      "44:\tlearn: 7.3343254\ttotal: 67.5ms\tremaining: 232ms\n",
      "45:\tlearn: 7.2770007\ttotal: 69.1ms\tremaining: 231ms\n",
      "46:\tlearn: 7.2110414\ttotal: 70.7ms\tremaining: 230ms\n",
      "47:\tlearn: 7.1553374\ttotal: 72.2ms\tremaining: 229ms\n",
      "48:\tlearn: 7.0851658\ttotal: 73.8ms\tremaining: 227ms\n",
      "49:\tlearn: 7.0137611\ttotal: 75.4ms\tremaining: 226ms\n",
      "50:\tlearn: 6.9405976\ttotal: 77ms\tremaining: 225ms\n",
      "51:\tlearn: 6.8677091\ttotal: 78.5ms\tremaining: 224ms\n",
      "52:\tlearn: 6.8080133\ttotal: 80ms\tremaining: 222ms\n",
      "53:\tlearn: 6.7413253\ttotal: 81.6ms\tremaining: 221ms\n",
      "54:\tlearn: 6.6879340\ttotal: 83.1ms\tremaining: 219ms\n",
      "55:\tlearn: 6.6596299\ttotal: 83.9ms\tremaining: 216ms\n",
      "56:\tlearn: 6.6150589\ttotal: 85.6ms\tremaining: 215ms\n",
      "57:\tlearn: 6.5657606\ttotal: 87.5ms\tremaining: 214ms\n",
      "58:\tlearn: 6.5312044\ttotal: 89ms\tremaining: 213ms\n",
      "59:\tlearn: 6.4865966\ttotal: 90.8ms\tremaining: 212ms\n",
      "60:\tlearn: 6.4421897\ttotal: 92.4ms\tremaining: 211ms\n",
      "61:\tlearn: 6.3889734\ttotal: 93.9ms\tremaining: 209ms\n",
      "62:\tlearn: 6.3511648\ttotal: 95.3ms\tremaining: 207ms\n",
      "63:\tlearn: 6.3084277\ttotal: 96.7ms\tremaining: 206ms\n",
      "64:\tlearn: 6.2716546\ttotal: 98.4ms\tremaining: 204ms\n",
      "65:\tlearn: 6.2458925\ttotal: 100ms\tremaining: 204ms\n",
      "66:\tlearn: 6.2050688\ttotal: 102ms\tremaining: 203ms\n",
      "67:\tlearn: 6.1720549\ttotal: 104ms\tremaining: 201ms\n",
      "68:\tlearn: 6.1413193\ttotal: 105ms\tremaining: 200ms\n",
      "69:\tlearn: 6.1193809\ttotal: 107ms\tremaining: 198ms\n",
      "70:\tlearn: 6.0831769\ttotal: 108ms\tremaining: 197ms\n",
      "71:\tlearn: 6.0573192\ttotal: 110ms\tremaining: 195ms\n",
      "72:\tlearn: 6.0265769\ttotal: 112ms\tremaining: 194ms\n",
      "73:\tlearn: 5.9949718\ttotal: 113ms\tremaining: 193ms\n",
      "74:\tlearn: 5.9685408\ttotal: 115ms\tremaining: 191ms\n",
      "75:\tlearn: 5.9428444\ttotal: 116ms\tremaining: 189ms\n",
      "76:\tlearn: 5.9145646\ttotal: 117ms\tremaining: 188ms\n",
      "77:\tlearn: 5.8868948\ttotal: 119ms\tremaining: 186ms\n",
      "78:\tlearn: 5.8632442\ttotal: 120ms\tremaining: 184ms\n",
      "79:\tlearn: 5.8349642\ttotal: 122ms\tremaining: 183ms\n",
      "80:\tlearn: 5.8080088\ttotal: 123ms\tremaining: 181ms\n",
      "81:\tlearn: 5.7846704\ttotal: 125ms\tremaining: 179ms\n",
      "82:\tlearn: 5.7611642\ttotal: 126ms\tremaining: 178ms\n",
      "83:\tlearn: 5.7443507\ttotal: 128ms\tremaining: 176ms\n",
      "84:\tlearn: 5.7299615\ttotal: 129ms\tremaining: 174ms\n",
      "85:\tlearn: 5.7096651\ttotal: 130ms\tremaining: 173ms\n",
      "86:\tlearn: 5.6886640\ttotal: 132ms\tremaining: 171ms\n",
      "87:\tlearn: 5.6754213\ttotal: 133ms\tremaining: 169ms\n",
      "88:\tlearn: 5.6577066\ttotal: 135ms\tremaining: 168ms\n",
      "89:\tlearn: 5.6390138\ttotal: 136ms\tremaining: 166ms\n",
      "90:\tlearn: 5.6198152\ttotal: 137ms\tremaining: 165ms\n",
      "91:\tlearn: 5.5972188\ttotal: 139ms\tremaining: 163ms\n",
      "92:\tlearn: 5.5860390\ttotal: 140ms\tremaining: 161ms\n",
      "93:\tlearn: 5.5688472\ttotal: 141ms\tremaining: 159ms\n",
      "94:\tlearn: 5.5562054\ttotal: 143ms\tremaining: 158ms\n",
      "95:\tlearn: 5.5411649\ttotal: 144ms\tremaining: 156ms\n",
      "96:\tlearn: 5.5261159\ttotal: 146ms\tremaining: 155ms\n",
      "97:\tlearn: 5.5107439\ttotal: 147ms\tremaining: 153ms\n",
      "98:\tlearn: 5.5011186\ttotal: 149ms\tremaining: 152ms\n",
      "99:\tlearn: 5.4913185\ttotal: 150ms\tremaining: 150ms\n",
      "100:\tlearn: 5.4813459\ttotal: 152ms\tremaining: 149ms\n",
      "101:\tlearn: 5.4764056\ttotal: 153ms\tremaining: 147ms\n",
      "102:\tlearn: 5.4617451\ttotal: 154ms\tremaining: 145ms\n",
      "103:\tlearn: 5.4489572\ttotal: 156ms\tremaining: 144ms\n",
      "104:\tlearn: 5.4372137\ttotal: 157ms\tremaining: 142ms\n",
      "105:\tlearn: 5.4287513\ttotal: 159ms\tremaining: 141ms\n",
      "106:\tlearn: 5.4173383\ttotal: 160ms\tremaining: 139ms\n",
      "107:\tlearn: 5.4054603\ttotal: 162ms\tremaining: 138ms\n",
      "108:\tlearn: 5.3941250\ttotal: 163ms\tremaining: 136ms\n",
      "109:\tlearn: 5.3867363\ttotal: 165ms\tremaining: 135ms\n",
      "110:\tlearn: 5.3732697\ttotal: 166ms\tremaining: 133ms\n",
      "111:\tlearn: 5.3656709\ttotal: 167ms\tremaining: 132ms\n",
      "112:\tlearn: 5.3540028\ttotal: 169ms\tremaining: 130ms\n",
      "113:\tlearn: 5.3402444\ttotal: 170ms\tremaining: 128ms\n",
      "114:\tlearn: 5.3295983\ttotal: 172ms\tremaining: 127ms\n",
      "115:\tlearn: 5.3207595\ttotal: 174ms\tremaining: 126ms\n",
      "116:\tlearn: 5.3071217\ttotal: 175ms\tremaining: 124ms\n",
      "117:\tlearn: 5.2934282\ttotal: 177ms\tremaining: 123ms\n",
      "118:\tlearn: 5.2880515\ttotal: 178ms\tremaining: 121ms\n",
      "119:\tlearn: 5.2747847\ttotal: 180ms\tremaining: 120ms\n",
      "120:\tlearn: 5.2717376\ttotal: 181ms\tremaining: 118ms\n",
      "121:\tlearn: 5.2613350\ttotal: 183ms\tremaining: 117ms\n",
      "122:\tlearn: 5.2517583\ttotal: 185ms\tremaining: 116ms\n",
      "123:\tlearn: 5.2422987\ttotal: 187ms\tremaining: 114ms\n",
      "124:\tlearn: 5.2314979\ttotal: 188ms\tremaining: 113ms\n",
      "125:\tlearn: 5.2199222\ttotal: 190ms\tremaining: 112ms\n",
      "126:\tlearn: 5.2121092\ttotal: 192ms\tremaining: 110ms\n",
      "127:\tlearn: 5.2092138\ttotal: 192ms\tremaining: 108ms\n",
      "128:\tlearn: 5.2002548\ttotal: 194ms\tremaining: 107ms\n",
      "129:\tlearn: 5.1931543\ttotal: 196ms\tremaining: 105ms\n",
      "130:\tlearn: 5.1922029\ttotal: 197ms\tremaining: 104ms\n",
      "131:\tlearn: 5.1844752\ttotal: 198ms\tremaining: 102ms\n",
      "132:\tlearn: 5.1785988\ttotal: 200ms\tremaining: 101ms\n",
      "133:\tlearn: 5.1693165\ttotal: 202ms\tremaining: 99.6ms\n",
      "134:\tlearn: 5.1629163\ttotal: 204ms\tremaining: 98.1ms\n",
      "135:\tlearn: 5.1548388\ttotal: 205ms\tremaining: 96.7ms\n",
      "136:\tlearn: 5.1464722\ttotal: 207ms\tremaining: 95.2ms\n",
      "137:\tlearn: 5.1366929\ttotal: 209ms\tremaining: 93.8ms\n",
      "138:\tlearn: 5.1298279\ttotal: 210ms\tremaining: 92.4ms\n",
      "139:\tlearn: 5.1226391\ttotal: 212ms\tremaining: 90.9ms\n",
      "140:\tlearn: 5.1110061\ttotal: 214ms\tremaining: 89.5ms\n",
      "141:\tlearn: 5.1061899\ttotal: 216ms\tremaining: 88.1ms\n",
      "142:\tlearn: 5.0953517\ttotal: 218ms\tremaining: 86.8ms\n",
      "143:\tlearn: 5.0877209\ttotal: 220ms\tremaining: 85.5ms\n",
      "144:\tlearn: 5.0819833\ttotal: 222ms\tremaining: 84.4ms\n",
      "145:\tlearn: 5.0744481\ttotal: 224ms\tremaining: 83ms\n",
      "146:\tlearn: 5.0704712\ttotal: 228ms\tremaining: 82.3ms\n",
      "147:\tlearn: 5.0642323\ttotal: 230ms\tremaining: 80.8ms\n",
      "148:\tlearn: 5.0589551\ttotal: 232ms\tremaining: 79.3ms\n",
      "149:\tlearn: 5.0513434\ttotal: 233ms\tremaining: 77.8ms\n",
      "150:\tlearn: 5.0478040\ttotal: 235ms\tremaining: 76.2ms\n",
      "151:\tlearn: 5.0410892\ttotal: 237ms\tremaining: 74.7ms\n",
      "152:\tlearn: 5.0377718\ttotal: 238ms\tremaining: 73.3ms\n",
      "153:\tlearn: 5.0304950\ttotal: 240ms\tremaining: 71.8ms\n",
      "154:\tlearn: 5.0246325\ttotal: 242ms\tremaining: 70.3ms\n",
      "155:\tlearn: 5.0196205\ttotal: 244ms\tremaining: 68.8ms\n",
      "156:\tlearn: 5.0174222\ttotal: 246ms\tremaining: 67.3ms\n",
      "157:\tlearn: 5.0110522\ttotal: 247ms\tremaining: 65.7ms\n",
      "158:\tlearn: 5.0054050\ttotal: 249ms\tremaining: 64.2ms\n",
      "159:\tlearn: 5.0018166\ttotal: 251ms\tremaining: 62.7ms\n",
      "160:\tlearn: 4.9963344\ttotal: 252ms\tremaining: 61.2ms\n",
      "161:\tlearn: 4.9919630\ttotal: 254ms\tremaining: 59.6ms\n",
      "162:\tlearn: 4.9861391\ttotal: 256ms\tremaining: 58.1ms\n",
      "163:\tlearn: 4.9838379\ttotal: 258ms\tremaining: 56.6ms\n",
      "164:\tlearn: 4.9795533\ttotal: 260ms\tremaining: 55.1ms\n",
      "165:\tlearn: 4.9752412\ttotal: 261ms\tremaining: 53.5ms\n",
      "166:\tlearn: 4.9722132\ttotal: 262ms\tremaining: 51.8ms\n",
      "167:\tlearn: 4.9705119\ttotal: 264ms\tremaining: 50.3ms\n",
      "168:\tlearn: 4.9675186\ttotal: 266ms\tremaining: 48.7ms\n",
      "169:\tlearn: 4.9630447\ttotal: 268ms\tremaining: 47.2ms\n",
      "170:\tlearn: 4.9618881\ttotal: 269ms\tremaining: 45.6ms\n",
      "171:\tlearn: 4.9567314\ttotal: 270ms\tremaining: 44ms\n",
      "172:\tlearn: 4.9543678\ttotal: 272ms\tremaining: 42.5ms\n",
      "173:\tlearn: 4.9450944\ttotal: 274ms\tremaining: 40.9ms\n",
      "174:\tlearn: 4.9423665\ttotal: 275ms\tremaining: 39.3ms\n",
      "175:\tlearn: 4.9385622\ttotal: 277ms\tremaining: 37.8ms\n",
      "176:\tlearn: 4.9356298\ttotal: 279ms\tremaining: 36.3ms\n",
      "177:\tlearn: 4.9311296\ttotal: 281ms\tremaining: 34.7ms\n",
      "178:\tlearn: 4.9240055\ttotal: 283ms\tremaining: 33.2ms\n",
      "179:\tlearn: 4.9205445\ttotal: 285ms\tremaining: 31.6ms\n",
      "180:\tlearn: 4.9135887\ttotal: 287ms\tremaining: 30.1ms\n",
      "181:\tlearn: 4.9107146\ttotal: 288ms\tremaining: 28.5ms\n",
      "182:\tlearn: 4.9057610\ttotal: 290ms\tremaining: 26.9ms\n",
      "183:\tlearn: 4.9037986\ttotal: 292ms\tremaining: 25.4ms\n",
      "184:\tlearn: 4.8999476\ttotal: 293ms\tremaining: 23.8ms\n",
      "185:\tlearn: 4.8969214\ttotal: 295ms\tremaining: 22.2ms\n",
      "186:\tlearn: 4.8920709\ttotal: 296ms\tremaining: 20.6ms\n",
      "187:\tlearn: 4.8896824\ttotal: 298ms\tremaining: 19ms\n",
      "188:\tlearn: 4.8853993\ttotal: 299ms\tremaining: 17.4ms\n",
      "189:\tlearn: 4.8821543\ttotal: 301ms\tremaining: 15.8ms\n",
      "190:\tlearn: 4.8803697\ttotal: 302ms\tremaining: 14.2ms\n",
      "191:\tlearn: 4.8781066\ttotal: 304ms\tremaining: 12.7ms\n",
      "192:\tlearn: 4.8716190\ttotal: 305ms\tremaining: 11.1ms\n",
      "193:\tlearn: 4.8700059\ttotal: 307ms\tremaining: 9.49ms\n",
      "194:\tlearn: 4.8684089\ttotal: 308ms\tremaining: 7.9ms\n",
      "195:\tlearn: 4.8626506\ttotal: 309ms\tremaining: 6.31ms\n",
      "196:\tlearn: 4.8610960\ttotal: 311ms\tremaining: 4.73ms\n",
      "197:\tlearn: 4.8592830\ttotal: 312ms\tremaining: 3.15ms\n",
      "198:\tlearn: 4.8566973\ttotal: 313ms\tremaining: 1.57ms\n",
      "199:\tlearn: 4.8548752\ttotal: 314ms\tremaining: 0us\n"
     ]
    },
    {
     "data": {
      "text/plain": [
       "<catboost.core.CatBoostRegressor at 0x21a3e4be308>"
      ]
     },
     "execution_count": 349,
     "metadata": {},
     "output_type": "execute_result"
    }
   ],
   "source": [
    "cat.fit( x_train, y_train )"
   ]
  },
  {
   "cell_type": "code",
   "execution_count": 350,
   "metadata": {},
   "outputs": [],
   "source": [
    "op3 = cat.predict(test1)"
   ]
  },
  {
   "cell_type": "code",
   "execution_count": 357,
   "metadata": {},
   "outputs": [
    {
     "data": {
      "text/plain": [
       "66.51800927826741"
      ]
     },
     "execution_count": 357,
     "metadata": {},
     "output_type": "execute_result"
    }
   ],
   "source": [
    "op.mean()"
   ]
  },
  {
   "cell_type": "code",
   "execution_count": 358,
   "metadata": {},
   "outputs": [
    {
     "data": {
      "text/plain": [
       "64.21096"
      ]
     },
     "execution_count": 358,
     "metadata": {},
     "output_type": "execute_result"
    }
   ],
   "source": [
    "op2.mean()"
   ]
  },
  {
   "cell_type": "code",
   "execution_count": 351,
   "metadata": {},
   "outputs": [
    {
     "data": {
      "text/plain": [
       "66.31509635755894"
      ]
     },
     "execution_count": 351,
     "metadata": {},
     "output_type": "execute_result"
    }
   ],
   "source": [
    "op3.mean()"
   ]
  },
  {
   "cell_type": "code",
   "execution_count": 359,
   "metadata": {},
   "outputs": [],
   "source": [
    "op12 = (op+op2)/2"
   ]
  },
  {
   "cell_type": "code",
   "execution_count": 360,
   "metadata": {},
   "outputs": [],
   "source": [
    "op23 = (op2+op3)/2"
   ]
  },
  {
   "cell_type": "code",
   "execution_count": 361,
   "metadata": {},
   "outputs": [
    {
     "data": {
      "text/plain": [
       "65.36448682004699"
      ]
     },
     "execution_count": 361,
     "metadata": {},
     "output_type": "execute_result"
    }
   ],
   "source": [
    "op12.mean()"
   ]
  },
  {
   "cell_type": "code",
   "execution_count": 362,
   "metadata": {},
   "outputs": [
    {
     "data": {
      "text/plain": [
       "65.26303035969276"
      ]
     },
     "execution_count": 362,
     "metadata": {},
     "output_type": "execute_result"
    }
   ],
   "source": [
    "op23.mean()"
   ]
  },
  {
   "cell_type": "code",
   "execution_count": 363,
   "metadata": {},
   "outputs": [],
   "source": [
    "op4 = np.floor(op)\n",
    "op5 = np.floor(op2)\n",
    "op6 = np.floor(op3)"
   ]
  },
  {
   "cell_type": "code",
   "execution_count": 365,
   "metadata": {},
   "outputs": [],
   "source": [
    "op45 = (op4+op5)/2\n",
    "op56 = (op5+op6)/2"
   ]
  },
  {
   "cell_type": "code",
   "execution_count": 366,
   "metadata": {},
   "outputs": [
    {
     "data": {
      "text/plain": [
       "64.85"
      ]
     },
     "execution_count": 366,
     "metadata": {},
     "output_type": "execute_result"
    }
   ],
   "source": [
    "op45.mean()"
   ]
  },
  {
   "cell_type": "code",
   "execution_count": 367,
   "metadata": {},
   "outputs": [
    {
     "data": {
      "text/plain": [
       "64.73833333333333"
      ]
     },
     "execution_count": 367,
     "metadata": {},
     "output_type": "execute_result"
    }
   ],
   "source": [
    "op56.mean()"
   ]
  },
  {
   "cell_type": "code",
   "execution_count": 372,
   "metadata": {},
   "outputs": [],
   "source": [
    "opf = (op12+op23+op45+op56)/4"
   ]
  },
  {
   "cell_type": "code",
   "execution_count": 373,
   "metadata": {},
   "outputs": [
    {
     "data": {
      "text/plain": [
       "64.79416666666667"
      ]
     },
     "execution_count": 373,
     "metadata": {},
     "output_type": "execute_result"
    }
   ],
   "source": [
    "opf.mean()"
   ]
  },
  {
   "cell_type": "code",
   "execution_count": 378,
   "metadata": {},
   "outputs": [
    {
     "data": {
      "text/plain": [
       "array([63.  , 69.25, 83.5 , 51.5 , 69.  , 85.5 , 64.  , 66.75, 82.75,\n",
       "       66.25, 81.75, 60.75, 57.25, 90.5 , 45.25, 60.25, 68.25, 76.75,\n",
       "       56.  , 56.25, 72.25, 81.  , 72.  , 72.5 , 49.75, 43.75, 29.5 ,\n",
       "       48.5 , 52.75, 36.75, 50.  , 56.25, 72.25, 50.75, 75.25, 67.5 ,\n",
       "       72.75, 65.  , 68.5 , 69.25, 62.25, 47.75, 60.5 , 54.  , 50.75,\n",
       "       81.5 , 52.5 , 67.  , 72.25, 54.5 , 51.25, 68.25, 73.  , 89.25,\n",
       "       74.75, 69.25, 57.25, 63.25, 83.  , 87.25, 76.25, 69.25, 73.  ,\n",
       "       50.  , 82.  , 57.5 , 60.75, 85.25, 56.75, 65.25, 73.  , 53.  ,\n",
       "       69.25, 46.5 , 65.25, 62.75, 67.25, 82.25, 48.25, 58.  , 66.5 ,\n",
       "       66.5 , 66.5 , 77.  , 57.  , 45.75, 51.  , 77.5 , 69.  , 65.25,\n",
       "       85.75, 82.75, 77.5 , 78.  , 83.5 , 28.5 , 58.5 , 55.  , 40.  ,\n",
       "       83.75, 71.  , 52.  , 65.25, 70.75, 73.  , 70.5 , 72.25, 46.75,\n",
       "       70.75, 46.75, 63.  , 42.5 , 72.5 , 64.5 , 45.75, 89.5 , 68.25,\n",
       "       63.  , 60.5 , 57.5 , 62.25, 50.25, 44.25, 75.25, 79.  , 68.75,\n",
       "       65.25, 56.75, 75.  , 42.5 , 76.5 , 56.75, 73.75, 91.  , 43.25,\n",
       "       70.75, 66.25, 71.  , 47.25, 81.75, 66.75, 71.75, 70.  , 75.5 ,\n",
       "       34.5 , 58.25, 80.  , 68.  , 74.  , 76.  , 60.  , 82.25, 58.5 ,\n",
       "       69.25, 44.25, 49.25, 49.5 , 50.25, 77.75, 63.75, 57.75, 73.5 ,\n",
       "       84.25, 52.75, 74.25, 82.5 , 71.75, 62.5 , 72.  , 63.5 , 71.  ,\n",
       "       67.25, 35.5 , 66.  , 65.  , 50.25, 69.75, 62.  , 82.  , 40.25,\n",
       "       61.5 , 63.75, 67.25, 68.75, 69.25, 63.  , 56.5 , 60.5 , 47.5 ,\n",
       "       69.5 , 89.5 , 56.75, 79.25, 67.25, 86.75, 63.75, 72.5 , 78.75,\n",
       "       95.  , 87.25, 69.75, 46.75, 49.  , 84.5 , 77.75, 79.  , 63.25,\n",
       "       46.5 , 66.  , 44.  , 80.25, 58.25, 78.75, 51.25, 59.25, 56.  ,\n",
       "       69.5 , 71.5 , 51.5 , 72.75, 65.25, 82.25, 80.  , 56.25, 71.5 ,\n",
       "       61.  , 65.25, 75.75, 53.  , 58.25, 50.5 , 66.75, 48.  , 73.5 ,\n",
       "       60.25, 68.  , 68.75, 80.  , 65.75, 66.  , 49.75, 87.  , 37.  ,\n",
       "       75.5 , 51.5 , 60.25, 86.75, 58.25, 77.25, 48.75, 58.75, 69.25,\n",
       "       74.5 , 89.25, 43.5 , 52.5 , 87.  , 75.25, 57.5 , 67.  , 51.5 ,\n",
       "       63.  , 19.  , 48.75, 74.  , 67.  , 62.5 , 83.75, 66.  , 73.  ,\n",
       "       82.  , 76.25, 76.75, 41.75, 50.75, 63.25, 47.75, 67.5 , 47.  ,\n",
       "       46.25, 57.25, 33.5 , 64.5 , 69.5 , 85.75, 75.  , 71.  , 67.5 ,\n",
       "       50.75, 75.75, 75.75, 55.75, 48.25, 52.25, 64.75, 70.25, 52.  ,\n",
       "       53.5 , 91.  , 70.5 ])"
      ]
     },
     "execution_count": 378,
     "metadata": {},
     "output_type": "execute_result"
    }
   ],
   "source": [
    "opf"
   ]
  },
  {
   "cell_type": "code",
   "execution_count": 375,
   "metadata": {},
   "outputs": [],
   "source": [
    "submission = pd.DataFrame({'idx': test.index, 'math_score': opf})\n",
    "submission.to_csv('outputop.csv', index=False)"
   ]
  },
  {
   "cell_type": "code",
   "execution_count": null,
   "metadata": {},
   "outputs": [],
   "source": []
  }
 ],
 "metadata": {
  "colab": {
   "name": "Exam Mark Prediction 2.ipynb",
   "provenance": []
  },
  "kernelspec": {
   "display_name": "Python 3",
   "language": "python",
   "name": "python3"
  },
  "language_info": {
   "codemirror_mode": {
    "name": "ipython",
    "version": 3
   },
   "file_extension": ".py",
   "mimetype": "text/x-python",
   "name": "python",
   "nbconvert_exporter": "python",
   "pygments_lexer": "ipython3",
   "version": "3.7.6"
  }
 },
 "nbformat": 4,
 "nbformat_minor": 1
}
